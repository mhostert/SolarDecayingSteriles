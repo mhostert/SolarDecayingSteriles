{
 "cells": [
  {
   "cell_type": "markdown",
   "metadata": {},
   "source": [
    "# SOLAR-NEUTRINO-VISIBLE-DECAYS\n",
    "\n",
    "https://github.com/mhostert/solar-neutrino-visible-decays"
   ]
  },
  {
   "cell_type": "markdown",
   "metadata": {},
   "source": [
    "## Import modules"
   ]
  },
  {
   "cell_type": "code",
   "execution_count": 8,
   "metadata": {},
   "outputs": [],
   "source": [
    "import numpy as np\n",
    "from scipy import interpolate\n",
    "import matplotlib\n",
    "# matplotlib.use('agg')\n",
    "import matplotlib.pyplot as plt\n",
    "from matplotlib import rc, rcParams\n",
    "from matplotlib.pyplot import *\n",
    "from scipy.stats import chi2\n",
    "\n",
    "import vegas\n",
    "import gvar as gv\n",
    "\n",
    "from source import *"
   ]
  },
  {
   "cell_type": "markdown",
   "metadata": {},
   "source": [
    "## Pick points to sample integrand"
   ]
  },
  {
   "cell_type": "code",
   "execution_count": 9,
   "metadata": {},
   "outputs": [],
   "source": [
    "##########\n",
    "# integration evaluations\n",
    "rates.NEVALwarmup = 1e4\n",
    "rates.NEVAL = 3e4"
   ]
  },
  {
   "cell_type": "markdown",
   "metadata": {},
   "source": [
    "## Flux and Decay Parameters\n",
    "\n",
    "The mixings will be used to rescale the number of events, so pick anything sensible"
   ]
  },
  {
   "cell_type": "code",
   "execution_count": 10,
   "metadata": {},
   "outputs": [
    {
     "ename": "NameError",
     "evalue": "name 'get_neutrino_flux' is not defined",
     "output_type": "error",
     "traceback": [
      "\u001b[0;31m---------------------------------------------------------------------------\u001b[0m",
      "\u001b[0;31mNameError\u001b[0m                                 Traceback (most recent call last)",
      "\u001b[0;32m<ipython-input-10-053090529b20>\u001b[0m in \u001b[0;36m<module>\u001b[0;34m\u001b[0m\n\u001b[1;32m      2\u001b[0m \u001b[0;31m# NUMU FLUX\u001b[0m\u001b[0;34m\u001b[0m\u001b[0;34m\u001b[0m\u001b[0m\n\u001b[1;32m      3\u001b[0m \u001b[0mfluxfile\u001b[0m \u001b[0;34m=\u001b[0m \u001b[0;34m\"fluxes/b8spectrum.txt\"\u001b[0m\u001b[0;34m\u001b[0m\u001b[0m\n\u001b[0;32m----> 4\u001b[0;31m \u001b[0mflux\u001b[0m \u001b[0;34m=\u001b[0m \u001b[0mget_neutrino_flux\u001b[0m\u001b[0;34m(\u001b[0m\u001b[0mfluxfile\u001b[0m\u001b[0;34m)\u001b[0m\u001b[0;34m\u001b[0m\u001b[0m\n\u001b[0m\u001b[1;32m      5\u001b[0m \u001b[0;34m\u001b[0m\u001b[0m\n\u001b[1;32m      6\u001b[0m \u001b[0;31m###########\u001b[0m\u001b[0;34m\u001b[0m\u001b[0;34m\u001b[0m\u001b[0m\n",
      "\u001b[0;31mNameError\u001b[0m: name 'get_neutrino_flux' is not defined"
     ]
    }
   ],
   "source": [
    "###########\n",
    "# NUMU FLUX\n",
    "fluxfile = \"fluxes/b8spectrum.txt\"\n",
    "flux = fluxes.get_neutrino_flux(fluxfile)\n",
    "\n",
    "###########\n",
    "# DECAY MODEL PARAMETERS\n",
    "params = model.decay_model_params(const.SCALAR)\n",
    "params.gx\t\t= 1.0\n",
    "params.Ue4\t\t= np.sqrt(0.01)\n",
    "params.Umu4\t\t= np.sqrt(0.01)\n",
    "params.Utau4    = np.sqrt(0)\n",
    "params.UD4\t\t= np.sqrt(1.0-params.Ue4*params.Ue4-params.Umu4*params.Umu4)\n",
    "params.m4\t\t= 300e-9 # GeV\n",
    "params.mBOSON  = 0.9*params.m4 # GeV\n",
    "\n",
    "###########\n",
    "# EXPERIMENTS\n",
    "KAM = exps.kamland_data()\n",
    "BOR = exps.borexino_data()\n",
    "SK = exps.superk_data()\n"
   ]
  },
  {
   "cell_type": "markdown",
   "metadata": {},
   "source": [
    "# Compute rates for benchmark point at the three experiments\n",
    "\n",
    "This can be an expensive computation, depending on the desired precision -- we care about tails."
   ]
  },
  {
   "cell_type": "code",
   "execution_count": 56,
   "metadata": {},
   "outputs": [
    {
     "name": "stdout",
     "output_type": "stream",
     "text": [
      "Filling the bins in kamland\n",
      "Filling the bins in borexino\n",
      "Filling the bins in SUPERK_IV\n"
     ]
    }
   ],
   "source": [
    "bK, npK, backK, dK = rates.fill_bins(KAM,params,fluxfile,endpoint=17)\n",
    "bB, npB, backB, dB = rates.fill_bins(BOR,params,fluxfile,startpoint=0,endpoint=17)\n",
    "bS, npS, backS, dS = rates.fill_bins(SK,params,fluxfile,endpoint=17)"
   ]
  },
  {
   "cell_type": "markdown",
   "metadata": {},
   "source": [
    "## Fill arrays with rescale number of events depending on Umu4 and Ue4"
   ]
  },
  {
   "cell_type": "code",
   "execution_count": 57,
   "metadata": {},
   "outputs": [],
   "source": [
    "##############\n",
    "# Bin uncorrelated normalization errors\n",
    "err_flux = 0.1\n",
    "err_backK = KAM.err_back/2.0\n",
    "err_backB = BOR.err_back\n",
    "err_backS = SK.err_back/2.0\t\n",
    "\n",
    "############# \n",
    "# 2D grid in Umu4 and Ue4 space\n",
    "NPOINTS = 33\n",
    "UE4SQR =np.logspace(-4,-1,NPOINTS)\n",
    "UMU4SQR =np.logspace(-4,-1,NPOINTS)\n",
    "LK = np.zeros((NPOINTS,NPOINTS))\n",
    "LB = np.zeros((NPOINTS,NPOINTS))\n",
    "LS = np.zeros((NPOINTS,NPOINTS))\n",
    "\n",
    "#############\n",
    "# number of degrees of freedom\n",
    "dofK = np.size(dK)\n",
    "dofB = np.size(dB)\n",
    "dofS = np.size(dS)\n",
    "\n",
    "# Initial scaling factor\n",
    "old_factorK = params.Ue4**2*(params.Ue4**2*std_osc.Padiabatic(bK, -const.nue_to_nue) + params.Umu4**2*std_osc.Padiabatic(bK, -const.numu_to_nue))/(params.Ue4**2 + params.Umu4**2 +params.Utau4**2)\n",
    "old_factorB = params.Ue4**2*(params.Ue4**2*std_osc.Padiabatic(bB, -const.nue_to_nue) + params.Umu4**2*std_osc.Padiabatic(bB, -const.numu_to_nue))/(params.Ue4**2 + params.Umu4**2 +params.Utau4**2)\n",
    "old_factorS = params.Ue4**2*(params.Ue4**2*std_osc.Padiabatic(bS, -const.nue_to_nue) + params.Umu4**2*std_osc.Padiabatic(bS, -const.numu_to_nue))/(params.Ue4**2 + params.Umu4**2 +params.Utau4**2)"
   ]
  },
  {
   "cell_type": "markdown",
   "metadata": {},
   "source": [
    "# Minimize likelihood over nuisance paramters for every point"
   ]
  },
  {
   "cell_type": "code",
   "execution_count": 58,
   "metadata": {},
   "outputs": [
    {
     "name": "stdout",
     "output_type": "stream",
     "text": [
      "6.1363724429 9\n",
      "20.4846854201 15\n",
      "7.19010006327 8\n"
     ]
    }
   ],
   "source": [
    "for i in range(np.size(UE4SQR)):\n",
    "\tfor j in range(np.size(UMU4SQR)):\n",
    "\t\tnew_factorK = UE4SQR[i]*(UE4SQR[i]*std_osc.Padiabatic(bK, -const.nue_to_nue) + UMU4SQR[j]*std_osc.Padiabatic(bK, -const.numu_to_nue))/(UE4SQR[i] + UMU4SQR[j] +params.Utau4**2)\n",
    "\t\tnew_factorB = UE4SQR[i]*(UE4SQR[i]*std_osc.Padiabatic(bB, -const.nue_to_nue) + UMU4SQR[j]*std_osc.Padiabatic(bB, -const.numu_to_nue))/(UE4SQR[i] + UMU4SQR[j] +params.Utau4**2)\n",
    "\t\tnew_factorS = UE4SQR[i]*(UE4SQR[i]*std_osc.Padiabatic(bS, -const.nue_to_nue) + UMU4SQR[j]*std_osc.Padiabatic(bS, -const.numu_to_nue))/(UE4SQR[i] + UMU4SQR[j] +params.Utau4**2)\n",
    "\t\tnp_newK = new_factorK/old_factorK*npK\n",
    "\t\tnp_newB = new_factorB/old_factorB*npB\n",
    "\t\tnp_newS = new_factorS/old_factorS*npS\n",
    "\t\t# print new_factorK,new_factorB\n",
    "\t\tLK[j,i] = stats.chi2_binned_rate(np_newK, backK, dK, [err_flux,err_backK])#np.sum(np_newK)\n",
    "\t\tLB[j,i] = stats.chi2_binned_rate(np_newB, backB, dB, [err_flux,err_backB])#np.sum(np_newB)\n",
    "\t\tLS[j,i] = stats.chi2_binned_rate(np_newS, backS, dS, [err_flux,err_backS])#np.sum(np_newS)\n",
    "print np.min(LK), dofK\n",
    "LK = LK - np.min(LK)\n",
    "print np.min(LB), dofB\n",
    "LB = LB - np.min(LB)\n",
    "print np.min(LS), dofS\n",
    "LS = LS - np.min(LS)"
   ]
  },
  {
   "cell_type": "markdown",
   "metadata": {},
   "source": [
    "# Plot resulting limits"
   ]
  },
  {
   "cell_type": "markdown",
   "metadata": {},
   "source": [
    "### Setup and plot preference regions from https://arxiv.org/abs/1911.01427 "
   ]
  },
  {
   "cell_type": "code",
   "execution_count": null,
   "metadata": {},
   "outputs": [],
   "source": []
  },
  {
   "cell_type": "code",
   "execution_count": null,
   "metadata": {},
   "outputs": [],
   "source": []
  },
  {
   "cell_type": "code",
   "execution_count": 73,
   "metadata": {},
   "outputs": [
    {
     "data": {
      "image/png": "[encoded data removed]",
      "text/plain": [
       "<Figure size 319.68x238.059 with 1 Axes>"
      ]
     },
     "metadata": {
      "needs_background": "light"
     },
     "output_type": "display_data"
    }
   ],
   "source": [
    "################################################################\n",
    "# PLOTTING THE LIMITS\n",
    "################################################################\n",
    "fsize=11\n",
    "rc('text', usetex=True)\n",
    "rcparams={'axes.labelsize':fsize,'xtick.labelsize':fsize,'ytick.labelsize':fsize,\\\n",
    "\t\t\t\t'figure.figsize':(1.2*3.7,1.4*2.3617)\t}\n",
    "rc('font',**{'family':'serif', 'serif': ['computer modern roman']})\n",
    "matplotlib.rcParams['hatch.linewidth'] = 0.1  # previous pdf hatch linewidth\n",
    "rcParams.update(rcparams)\n",
    "axes_form  = [0.15,0.15,0.82,0.76]\n",
    "fig = plt.figure()\n",
    "ax = fig.add_axes(axes_form)\n",
    "\n",
    "############\n",
    "# GET THE FIT REGIONS FROM DENTLER ET AL\n",
    "DentlerPath='digitized/Dentler_et_al/'\n",
    "\n",
    "SB_COLOR = 'lightgrey'\n",
    "MB_ue_b,MB_umu_b = np.genfromtxt(DentlerPath+'bottom_MiniBooNE_300.txt',unpack=True)\n",
    "MB_ue_t,MB_umu_t = np.genfromtxt(DentlerPath+'top_MiniBooNE_300.txt',unpack=True)\n",
    "MB_ue_f=np.logspace( np.log10(np.min([MB_ue_b])), np.log10(np.max([MB_ue_b])), 100)\n",
    "MB_umu_b_f = np.interp(MB_ue_f,MB_ue_b,MB_umu_b)\n",
    "MB_umu_t_f = np.interp(MB_ue_f,MB_ue_t,MB_umu_t)\n",
    "ax.fill_between(MB_ue_f,MB_umu_b_f,MB_umu_t_f,facecolor=SB_COLOR,alpha=0.5,lw=0)\n",
    "ax.fill_between(MB_ue_f,MB_umu_b_f,MB_umu_t_f,edgecolor='black',facecolor='None',lw=0.6)\n",
    "\n",
    "y,x = np.genfromtxt(DentlerPath+'right_LSND_300.txt',unpack=True)\n",
    "yl,xl = np.genfromtxt(DentlerPath+'left_LSND_300.txt',unpack=True)\n",
    "x_f=np.logspace( np.log10(np.min([x])), np.log10(np.max([x])), 100)\n",
    "y_f = np.interp(x_f,x,y)\n",
    "yl_f = np.interp(x_f,xl,yl)\n",
    "ax.fill_betweenx(x_f,y_f,yl_f,facecolor=SB_COLOR,alpha=0.5,lw=0)\n",
    "ax.fill_betweenx(x_f,y_f,yl_f,edgecolor='black',facecolor='None',lw=0.6)\n",
    "\n",
    "y,x = np.genfromtxt(DentlerPath+'right_combined_300.txt',unpack=True)\n",
    "yl,xl = np.genfromtxt(DentlerPath+'left_combined_300.txt',unpack=True)\n",
    "x_f=np.logspace( np.log10(np.min([x])), np.log10(np.max([x])), 100)\n",
    "y_f = np.interp(x_f,x,y)\n",
    "yl_f = np.interp(x_f,xl,yl)\n",
    "ax.fill_betweenx(x_f,y_f,yl_f,facecolor=SB_COLOR,alpha=0.5,lw=0)\n",
    "ax.fill_betweenx(x_f,y_f,yl_f,edgecolor='black',facecolor='None',lw=0.6)\n",
    "\n",
    "# x,y = np.genfromtxt(DentlerPath+'KARMEN.dat',unpack=True)\n",
    "# ax.plot(x,y,lw=0.8,color='black')\n",
    "# x,y = np.genfromtxt(DentlerPath+'OPERA.dat',unpack=True)\n",
    "# ax.plot(x,y,lw=0.8,color='black')\n",
    "\n",
    "\n",
    "X,Y = np.meshgrid(UE4SQR,UMU4SQR)\n",
    "# ax.contourf(X,Y,LK, [chi2.ppf(0.90, dofK),1e100], colors=['black'],alpha=0.1, linewidths=[0.1])\n",
    "# ax.contour(X,Y,L, 20, color='black')\n",
    "\n",
    "# ax.contourf(X,Y,LB, [chi2.ppf(0.90, dofB),1e100], colors=['black'],alpha=0.1, linewidths=[0.1])\n",
    "\n",
    "# Z = LB\n",
    "# pcm = ax.pcolor(X, Y, Z,\n",
    "#                    norm=colors.LogNorm(vmin=Z.min(), vmax=Z.max()),\n",
    "#                    cmap='PuBu_r')# ax.contour(X,Y,L, 20, color='black')\n",
    "# fig.colorbar(pcm, ax=ax, extend='max')\n",
    "\n",
    "c1=ax.contour(X,Y,LK, [chi2.ppf(0.90, dofK)], linestyles=['--'],colors=['red'],linewidths=[1.0],label=r'KamLAND')\n",
    "c2=ax.contour(X,Y,LS, [chi2.ppf(0.90, dofS)], linestyles=['--'],colors=['green'],linewidths=[1.0], ls='--',label=r'SuperK-IV')\n",
    "c3=ax.contour(X,Y,LB, [chi2.ppf(0.90, dofB)], linestyles=['--'],colors=['blue'],linewidths=[1.0],label=r'Borexino')\n",
    "c1.collections[0].set_dashes([(0, (2.0, 0))])\n",
    "c2.collections[0].set_dashes([(0, (7.0, 1.0))])\n",
    "c3.collections[0].set_dashes([(0, (2.0, 1.0))])\n",
    "h1,_ = c1.legend_elements()\n",
    "h2,_ = c2.legend_elements()\n",
    "h3,_ = c3.legend_elements()\n",
    "\n",
    "ax.legend([h1[0], h2[0],h3[0]], ['KamLAND', 'SuperK-IV','Borexino'],loc='lower left', frameon=False)\n",
    "\n",
    "\n",
    "\n",
    "\n",
    "\n",
    "# ax.clear()\n",
    "ax.set_xscale('log')\n",
    "ax.set_yscale('log')\n",
    "##############\n",
    "# STYLE\n",
    "if params.model == const.VECTOR:\n",
    "\tboson_string = r'$m_{Z^\\prime}$'\n",
    "\tboson_file = 'vector'\n",
    "elif params.model == const.SCALAR:\n",
    "\tboson_string = r'$m_\\phi$'\n",
    "\tboson_file = 'scalar'\n",
    "\n",
    "ax.set_title(r'$m_4 = %.0f$ eV,\\, '%(params.m4*1e9)+boson_string+r'$/m_4 = %.1f$'%(params.mBOSON/params.m4), fontsize=fsize)\n",
    "ax.annotate(r'MiniBooNE',xy=(0.55,0.71),xycoords='axes fraction',color='black',fontsize=10,rotation=-32)\n",
    "ax.annotate(r'LSND',xy=(0.85,0.9),xycoords='axes fraction',color='black',fontsize=10,rotation=0)\n",
    "ax.annotate(r'\\noindent All w/o\\\\LSND',xy=(0.27,0.75),xycoords='axes fraction',color='black',fontsize=10,rotation=0)\n",
    "ax.annotate(r'', fontsize=fsize, xy=(1.3e-3,1.3e-4), xytext=(7.4e-4,1.3e-4),color='blue',\n",
    "            arrowprops=dict(arrowstyle=\"-|>\", mutation_scale=5, color='red', lw = 0.5),\n",
    "            )\n",
    "ax.annotate(r'', fontsize=fsize, xy=(1.8e-3,1.9e-4), xytext=(1.02e-3,1.9e-4),color='blue',\n",
    "            arrowprops=dict(arrowstyle=\"-|>\", mutation_scale=5, color='green', lw = 0.5),\n",
    "            )\n",
    "ax.annotate(r'', fontsize=fsize, xy=(2.1e-3,2.8e-4), xytext=(1.18e-3,2.8e-4),color='blue',\n",
    "            arrowprops=dict(arrowstyle=\"-|>\", mutation_scale=5, color='blue', lw = 0.5),\n",
    "            )\n",
    "# ax.annotate(r'KamLAND $90\\%$ C.L.', fontsize=0.8*fsize, xy=(0.45,0.17), xytext=(0.3,0.18),xycoords='axes fraction', color='blue')\n",
    "ax.annotate(r'90\\% C.L. excluded', fontsize=0.9*fsize, xy=(0.7,0.2), xytext=(0.47,0.06),xycoords='axes fraction', color='black')\n",
    "\n",
    "# ues = np.logspace(-4,-1,100)\n",
    "# umus = np.logspace(-4,-1,100)\n",
    "# ue,umu = np.meshgrid(ues,umus)\n",
    "# m4tau4_eff_B = 1.0/((1.0-ue - umu)*(ue + umu)*(1.0-0.9**2)**2)*(ue + umu)**4/(0.1)**4*(1./300.)**4/0.9**2\n",
    "# print(m4tau4_eff_B)\n",
    "# ax.contour(ue,umu,m4tau4_eff_B, [4e-10], linestyles=['-'],colors=['black'])\n",
    "\n",
    "# ax.annotate(r'Borexino',xy=(0.55,0.35),xycoords='axes fraction',fontsize=14)\n",
    "ax.set_xlim(1e-4,0.04)\n",
    "ax.set_ylim(1e-4,0.012)\n",
    "# ax.set_ylim(0,)\n",
    "ax.set_xlabel(r'$|U_{e 4}|^2$')\n",
    "ax.set_ylabel(r'$|U_{\\mu 4}|^2$')\n",
    "fig.savefig('plots/limits_MN_%.0f_MB_%.0f.pdf'%(params.m4*1e9,params.mBOSON*1e9),rasterized=True)\n",
    "fig.show()"
   ]
  },
  {
   "cell_type": "code",
   "execution_count": null,
   "metadata": {},
   "outputs": [],
   "source": []
  }
 ],
 "metadata": {
  "kernelspec": {
   "display_name": "Python 2",
   "language": "python",
   "name": "python2"
  },
  "language_info": {
   "codemirror_mode": {
    "name": "ipython",
    "version": 3
   },
   "file_extension": ".py",
   "mimetype": "text/x-python",
   "name": "python",
   "nbconvert_exporter": "python",
   "pygments_lexer": "ipython3",
   "version": "3.5.2"
  }
 },
 "nbformat": 4,
 "nbformat_minor": 2
}
