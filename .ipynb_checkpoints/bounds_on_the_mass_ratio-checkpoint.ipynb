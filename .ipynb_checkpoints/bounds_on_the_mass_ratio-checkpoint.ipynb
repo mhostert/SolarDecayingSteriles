{
 "cells": [
  {
   "cell_type": "markdown",
   "id": "existing-founder",
   "metadata": {},
   "source": [
    "## Constraints on the mixing versus  $R = m_\\phi/m_4$\n",
    "\n",
    "https://github.com/mhostert/solar-neutrino-visible-decays"
   ]
  },
  {
   "cell_type": "markdown",
   "id": "comfortable-credit",
   "metadata": {},
   "source": [
    "## Import modules"
   ]
  },
  {
   "cell_type": "code",
   "execution_count": 6,
   "id": "falling-right",
   "metadata": {},
   "outputs": [
    {
     "name": "stdout",
     "output_type": "stream",
     "text": [
      "The autoreload extension is already loaded. To reload it, use:\n",
      "  %reload_ext autoreload\n"
     ]
    }
   ],
   "source": [
    "%load_ext autoreload\n",
    "%autoreload 2"
   ]
  },
  {
   "cell_type": "code",
   "execution_count": 48,
   "id": "painted-portugal",
   "metadata": {},
   "outputs": [],
   "source": [
    "import numpy as np\n",
    "from scipy import interpolate\n",
    "import matplotlib\n",
    "import matplotlib.pyplot as plt\n",
    "from matplotlib import rc, rcParams\n",
    "from matplotlib.pyplot import *\n",
    "from scipy.stats import chi2\n",
    "import importlib\n",
    "import vegas\n",
    "import gvar as gv\n",
    "\n",
    "from source import *\n",
    "from source import flavour_transitions as osc\n",
    "from source.plot_tools import *\n"
   ]
  },
  {
   "cell_type": "markdown",
   "id": "appointed-possibility",
   "metadata": {},
   "source": [
    "## Pick points to sample integrand"
   ]
  },
  {
   "cell_type": "code",
   "execution_count": 82,
   "id": "several-niagara",
   "metadata": {},
   "outputs": [],
   "source": [
    "##########\n",
    "# integration evaluations\n",
    "rates.NEVALwarmup = 1e3\n",
    "rates.NEVAL = 1e5"
   ]
  },
  {
   "cell_type": "markdown",
   "id": "aging-investment",
   "metadata": {},
   "source": [
    "## Flux and Decay Parameters\n",
    "\n",
    "The mixings will be used to rescale the number of events, so pick anything sensible"
   ]
  },
  {
   "cell_type": "code",
   "execution_count": 83,
   "id": "exciting-christopher",
   "metadata": {},
   "outputs": [],
   "source": [
    "###########\n",
    "# NUMU FLUX\n",
    "fluxfile = \"fluxes/b8spectrum.txt\"\n",
    "flux = fluxes.get_neutrino_flux(fluxfile)\n",
    "\n",
    "###########\n",
    "# DECAY MODEL PARAMETERS\n",
    "params = model.decay_model_params(const.SCALAR)\n",
    "params.gx = 1.0\n",
    "params.Ue4 = np.sqrt(0.01)\n",
    "params.Umu4 = np.sqrt(0.000)\n",
    "params.Utau4 = np.sqrt(0)\n",
    "params.UD4 = np.sqrt(1.0-params.Ue4*params.Ue4-params.Umu4*params.Umu4)\n",
    "params.m4 = 300e-9 # GeV\n",
    "params.mBOSON = 0.1*params.m4 # GeV\n",
    "\n",
    "###########\n",
    "# EXPERIMENTS\n",
    "KAM21 = exps.kamland21_data()\n",
    "KAM = exps.kamland_data()\n",
    "BOR = exps.borexino_data()\n",
    "SK = exps.superk_data()\n"
   ]
  },
  {
   "cell_type": "markdown",
   "id": "veterinary-switch",
   "metadata": {},
   "source": [
    "# Compute rates for benchmark point at the three experiments\n",
    "\n",
    "This can be an expensive computation, depending on the desired precision -- we care about tails."
   ]
  },
  {
   "cell_type": "code",
   "execution_count": 84,
   "id": "major-strength",
   "metadata": {},
   "outputs": [
    {
     "name": "stdout",
     "output_type": "stream",
     "text": [
      "Filling the bins in kamland21\n",
      "Filling the bins in kamland21\n",
      "Filling the bins in kamland21\n",
      "Filling the bins in kamland21\n",
      "Filling the bins in kamland21\n",
      "Filling the bins in kamland21\n",
      "Filling the bins in kamland21\n",
      "Filling the bins in kamland21\n",
      "Filling the bins in kamland21\n",
      "Filling the bins in kamland21\n",
      "Filling the bins in kamland21\n",
      "Filling the bins in kamland21\n",
      "Filling the bins in kamland21\n",
      "Filling the bins in kamland21\n",
      "Filling the bins in kamland21\n",
      "Filling the bins in kamland21\n",
      "Filling the bins in kamland21\n",
      "Filling the bins in kamland21\n",
      "Filling the bins in kamland21\n",
      "Filling the bins in kamland21\n",
      "(Lmin, dof) =  1.2321386487235222 3\n"
     ]
    }
   ],
   "source": [
    "UE4SQR, RATIOS, LK21 = stats.get_likelihood_in_ratio_of_masses(KAM21, params, fluxfile, endpoint=18.31)\n",
    "UE4SQR, RATIOS, LK = stats.get_likelihood_in_ratio_of_masses(KAM, params, fluxfile, endpoint=16.3)\n",
    "UE4SQR, RATIOS, LB = stats.get_likelihood_in_ratio_of_masses(BOR, params, fluxfile, endpoint=16.3)\n",
    "UE4SQR, RATIOS, LS = stats.get_likelihood_in_ratio_of_masses(SK, params, fluxfile, endpoint=16.3)"
   ]
  },
  {
   "cell_type": "markdown",
   "id": "hundred-audience",
   "metadata": {},
   "source": [
    "# Plot resulting limits"
   ]
  },
  {
   "cell_type": "code",
   "execution_count": 110,
   "id": "micro-climb",
   "metadata": {},
   "outputs": [
    {
     "name": "stderr",
     "output_type": "stream",
     "text": [
      "<ipython-input-110-f55fc10c04f3>:18: UserWarning: The following kwargs were not used by contour: 'ls', 'label'\n",
      "  c2=ax.contour(X,Y,LS, [chi2.ppf(0.99, 2)], linestyles=['--'],colors=['dodgerblue'],linewidths=[1.0], ls='--',label=r'SuperK-IV')\n",
      "<ipython-input-110-f55fc10c04f3>:19: UserWarning: The following kwargs were not used by contour: 'label'\n",
      "  c3=ax.contour(X,Y,LB, [chi2.ppf(0.99, 12)], linestyles=['--'],colors=['indigo'],linewidths=[1.0],label=r'Borexino')\n",
      "<ipython-input-110-f55fc10c04f3>:20: UserWarning: The following kwargs were not used by contour: 'label'\n",
      "  c1=ax.contour(X,Y,LK, [chi2.ppf(0.99, 6)], linestyles=['--'],colors=['forestgreen'],linewidths=[1.0],label=r'KamLAND 2011')\n",
      "<ipython-input-110-f55fc10c04f3>:21: UserWarning: The following kwargs were not used by contour: 'label'\n",
      "  c4=ax.contour(X,Y,LK21, [chi2.ppf(0.99, 3)], linestyles=['-'],colors=['magenta'],linewidths=[1.0],label=r'KamLAND 2021')\n",
      "<ipython-input-110-f55fc10c04f3>:56: UserWarning: Matplotlib is currently using module://ipykernel.pylab.backend_inline, which is a non-GUI backend, so cannot show the figure.\n",
      "  fig.show()\n"
     ]
    },
    {
     "data": {
      "image/png": "[encoded data removed]",
      "text/plain": [
       "<Figure size 266.4x238.059 with 1 Axes>"
      ]
     },
     "metadata": {
      "needs_background": "light"
     },
     "output_type": "display_data"
    }
   ],
   "source": [
    "################################################################\n",
    "# PLOTTING THE LIMITS\n",
    "################################################################\n",
    "fsize=11\n",
    "rc('text', usetex=True)\n",
    "rcparams={'axes.labelsize':fsize,'xtick.labelsize':fsize,'ytick.labelsize':fsize,\\\n",
    "\t\t\t\t'figure.figsize':(1*3.7,1.4*2.3617)\t}\n",
    "rc('font',**{'family':'serif', 'serif': ['computer modern roman']})\n",
    "matplotlib.rcParams['hatch.linewidth'] = 0.1  # previous pdf hatch linewidth\n",
    "rcParams.update(rcparams)\n",
    "axes_form  = [0.185,0.15,0.775,0.76]\n",
    "fig = plt.figure()\n",
    "ax = fig.add_axes(axes_form)\n",
    "matplotlib.rcParams['hatch.linewidth'] = 1  # previous pdf hatch linewidth\n",
    "\n",
    "X,Y = np.meshgrid(RATIOS,UE4SQR)\n",
    "\n",
    "c2=ax.contour(X,Y,LS, [chi2.ppf(0.99, 2)], linestyles=['--'],colors=['dodgerblue'],linewidths=[1.0], ls='--',label=r'SuperK-IV')\n",
    "c3=ax.contour(X,Y,LB, [chi2.ppf(0.99, 12)], linestyles=['--'],colors=['indigo'],linewidths=[1.0],label=r'Borexino')\n",
    "c1=ax.contour(X,Y,LK, [chi2.ppf(0.99, 6)], linestyles=['--'],colors=['forestgreen'],linewidths=[1.0],label=r'KamLAND 2011')\n",
    "c4=ax.contour(X,Y,LK21, [chi2.ppf(0.99, 3)], linestyles=['-'],colors=['magenta'],linewidths=[1.0],label=r'KamLAND 2021')\n",
    "c2.collections[0].set_dashes([(0, (5.0, 1.0))])\n",
    "c3.collections[0].set_dashes([(0, (2.0, 1.0))])\n",
    "c1.collections[0].set_dashes([(0, (8.0, 1.0))])\n",
    "h1,_ = c1.legend_elements()\n",
    "h2,_ = c2.legend_elements()\n",
    "h3,_ = c3.legend_elements()\n",
    "h4,_ = c4.legend_elements()\n",
    "ax.legend([h4[0], h1[0], h2[0],h3[0]], ['KamLAND 2021', 'KamLAND 2011', 'SuperK-IV','Borexino',],\n",
    "          loc='lower left', frameon=False,fontsize=9)\n",
    "\n",
    "# ax.set_xscale('log')\n",
    "ax.set_yscale('log')\n",
    "##############\n",
    "# STYLE\n",
    "if params.model == const.VECTOR:\n",
    "    boson_string = r'$m_{Z^\\prime}$'\n",
    "    boson_file = 'vector'\n",
    "elif params.model == const.SCALAR:\n",
    "    boson_string = r'$m_\\phi$'\n",
    "    boson_file = 'scalar'\n",
    "\n",
    "ax.set_title(fr'$|U_{{\\mu 4}}|^2 = |U_{{\\tau 4}}|^2 = {params.Umu4:.2f}$')\n",
    "\n",
    "ax.annotate(r'\\noindent 99\\% C.L. \\\\\\noindent excluded', \n",
    "            fontsize=0.9*fsize, xy=(0.7,0.05), xytext=(0.58,0.8),xycoords='axes fraction', color='magenta')\n",
    "ax.annotate(r'', fontsize=fsize, xy=(0.6,0.02), xytext=(0.55,0.0063), xycoords='data' ,zorder=1000, color='magenta',\n",
    "arrowprops=dict(arrowstyle=\"-|>\", mutation_scale=5, color='magenta', lw = 0.8))\n",
    "# plt.scatter(X,Y)\n",
    "ax.set_xlim(0.1,1)\n",
    "ax.set_ylim(1e-3,0.05)\n",
    "ax.set_xlabel(r'$R = m_\\phi/m_4$')\n",
    "ax.set_ylabel(r'$|U_{e 4}|^2$')\n",
    "fig.savefig(f'plots/limits_ratio_{params.Umu4:.2g}.pdf')\n",
    "fig.savefig(f'plots/limits_ratio_{params.Umu4:.2g}.png')\n",
    "fig.show()\n"
   ]
  },
  {
   "cell_type": "markdown",
   "id": "institutional-essence",
   "metadata": {},
   "source": [
    "## Umu4 = 0.01"
   ]
  },
  {
   "cell_type": "code",
   "execution_count": 112,
   "id": "democratic-sleep",
   "metadata": {},
   "outputs": [],
   "source": [
    "###########\n",
    "# NUMU FLUX\n",
    "fluxfile = \"fluxes/b8spectrum.txt\"\n",
    "flux = fluxes.get_neutrino_flux(fluxfile)\n",
    "\n",
    "###########\n",
    "# DECAY MODEL PARAMETERS\n",
    "params = model.decay_model_params(const.SCALAR)\n",
    "params.gx = 1.0\n",
    "params.Ue4 = np.sqrt(0.01)\n",
    "params.Umu4 = np.sqrt(0.01)\n",
    "params.Utau4 = np.sqrt(0)\n",
    "params.UD4 = np.sqrt(1.0-params.Ue4*params.Ue4-params.Umu4*params.Umu4)\n",
    "params.m4 = 300e-9 # GeV\n",
    "params.mBOSON = 0.1*params.m4 # GeV\n",
    "\n",
    "###########\n",
    "# EXPERIMENTS\n",
    "KAM21 = exps.kamland21_data()\n",
    "KAM = exps.kamland_data()\n",
    "BOR = exps.borexino_data()\n",
    "SK = exps.superk_data()\n"
   ]
  },
  {
   "cell_type": "code",
   "execution_count": 113,
   "id": "twelve-connecticut",
   "metadata": {},
   "outputs": [
    {
     "name": "stdout",
     "output_type": "stream",
     "text": [
      "Filling the bins in kamland21\n",
      "Filling the bins in kamland21\n",
      "Filling the bins in kamland21\n",
      "Filling the bins in kamland21\n",
      "Filling the bins in kamland21\n",
      "Filling the bins in kamland21\n",
      "Filling the bins in kamland21\n",
      "Filling the bins in kamland21\n",
      "Filling the bins in kamland21\n",
      "Filling the bins in kamland21\n",
      "Filling the bins in kamland21\n",
      "Filling the bins in kamland21\n",
      "Filling the bins in kamland21\n",
      "Filling the bins in kamland21\n",
      "Filling the bins in kamland21\n",
      "Filling the bins in kamland21\n",
      "Filling the bins in kamland21\n",
      "Filling the bins in kamland21\n",
      "Filling the bins in kamland21\n",
      "Filling the bins in kamland21\n",
      "(Lmin, dof) =  1.2321386487235222 3\n",
      "Filling the bins in kamland\n",
      "Filling the bins in kamland\n",
      "Filling the bins in kamland\n",
      "Filling the bins in kamland\n",
      "Filling the bins in kamland\n",
      "Filling the bins in kamland\n",
      "Filling the bins in kamland\n",
      "Filling the bins in kamland\n",
      "Filling the bins in kamland\n",
      "Filling the bins in kamland\n",
      "Filling the bins in kamland\n",
      "Filling the bins in kamland\n",
      "Filling the bins in kamland\n",
      "Filling the bins in kamland\n",
      "Filling the bins in kamland\n",
      "Filling the bins in kamland\n",
      "Filling the bins in kamland\n",
      "Filling the bins in kamland\n",
      "Filling the bins in kamland\n",
      "Filling the bins in kamland\n",
      "(Lmin, dof) =  5.14696624163787 6\n",
      "Filling the bins in borexino\n",
      "Filling the bins in borexino\n",
      "Filling the bins in borexino\n",
      "Filling the bins in borexino\n",
      "Filling the bins in borexino\n",
      "Filling the bins in borexino\n",
      "Filling the bins in borexino\n",
      "Filling the bins in borexino\n",
      "Filling the bins in borexino\n",
      "Filling the bins in borexino\n",
      "Filling the bins in borexino\n",
      "Filling the bins in borexino\n",
      "Filling the bins in borexino\n",
      "Filling the bins in borexino\n",
      "Filling the bins in borexino\n",
      "Filling the bins in borexino\n",
      "Filling the bins in borexino\n",
      "Filling the bins in borexino\n",
      "Filling the bins in borexino\n",
      "Filling the bins in borexino\n",
      "(Lmin, dof) =  19.739876035592072 12\n",
      "Filling the bins in SUPERK_IV\n",
      "Filling the bins in SUPERK_IV\n",
      "Filling the bins in SUPERK_IV\n",
      "Filling the bins in SUPERK_IV\n",
      "Filling the bins in SUPERK_IV\n",
      "Filling the bins in SUPERK_IV\n",
      "Filling the bins in SUPERK_IV\n",
      "Filling the bins in SUPERK_IV\n",
      "Filling the bins in SUPERK_IV\n",
      "Filling the bins in SUPERK_IV\n",
      "Filling the bins in SUPERK_IV\n",
      "Filling the bins in SUPERK_IV\n",
      "Filling the bins in SUPERK_IV\n",
      "Filling the bins in SUPERK_IV\n",
      "Filling the bins in SUPERK_IV\n",
      "Filling the bins in SUPERK_IV\n",
      "Filling the bins in SUPERK_IV\n",
      "Filling the bins in SUPERK_IV\n",
      "Filling the bins in SUPERK_IV\n",
      "Filling the bins in SUPERK_IV\n",
      "(Lmin, dof) =  2.2760395325135008 2\n"
     ]
    }
   ],
   "source": [
    "UE4SQR_v2, RATIOS_v2, LK21_v2 = stats.get_likelihood_in_ratio_of_masses(KAM21, params, fluxfile, endpoint=18.31)\n",
    "UE4SQR_v2, RATIOS_v2, LK_v2 = stats.get_likelihood_in_ratio_of_masses(KAM, params, fluxfile, endpoint=16.3)\n",
    "UE4SQR_v2, RATIOS_v2, LB_v2 = stats.get_likelihood_in_ratio_of_masses(BOR, params, fluxfile, endpoint=16.3)\n",
    "UE4SQR_v2, RATIOS_v2, LS_v2 = stats.get_likelihood_in_ratio_of_masses(SK, params, fluxfile, endpoint=16.3)"
   ]
  },
  {
   "cell_type": "code",
   "execution_count": 126,
   "id": "pregnant-gibraltar",
   "metadata": {},
   "outputs": [
    {
     "name": "stderr",
     "output_type": "stream",
     "text": [
      "<ipython-input-126-7750af254af7>:18: UserWarning: The following kwargs were not used by contour: 'ls', 'label'\n",
      "  c2=ax.contour(X,Y,LS_v2, [chi2.ppf(0.99, 2)], linestyles=['--'],colors=['dodgerblue'],linewidths=[1.0], ls='--',label=r'SuperK-IV')\n",
      "<ipython-input-126-7750af254af7>:19: UserWarning: The following kwargs were not used by contour: 'label'\n",
      "  c3=ax.contour(X,Y,LB_v2, [chi2.ppf(0.99, 12)], linestyles=['--'],colors=['indigo'],linewidths=[1.0],label=r'Borexino')\n",
      "<ipython-input-126-7750af254af7>:20: UserWarning: The following kwargs were not used by contour: 'label'\n",
      "  c1=ax.contour(X,Y,LK_v2, [chi2.ppf(0.99, 6)], linestyles=['--'],colors=['forestgreen'],linewidths=[1.0],label=r'KamLAND 2011')\n",
      "<ipython-input-126-7750af254af7>:21: UserWarning: The following kwargs were not used by contour: 'label'\n",
      "  c4=ax.contour(X,Y,LK21_v2, [chi2.ppf(0.99, 3)], linestyles=['-'],colors=['magenta'],linewidths=[1.0],label=r'KamLAND 2021')\n",
      "<ipython-input-126-7750af254af7>:57: UserWarning: Matplotlib is currently using module://ipykernel.pylab.backend_inline, which is a non-GUI backend, so cannot show the figure.\n",
      "  fig.show()\n"
     ]
    },
    {
     "data": {
      "image/png": "[encoded data removed]",
      "text/plain": [
       "<Figure size 266.4x238.059 with 1 Axes>"
      ]
     },
     "metadata": {
      "needs_background": "light"
     },
     "output_type": "display_data"
    }
   ],
   "source": [
    "################################################################\n",
    "# PLOTTING THE LIMITS\n",
    "################################################################\n",
    "fsize=11\n",
    "rc('text', usetex=True)\n",
    "rcparams={'axes.labelsize':fsize,'xtick.labelsize':fsize,'ytick.labelsize':fsize,\\\n",
    "\t\t\t\t'figure.figsize':(1*3.7,1.4*2.3617)\t}\n",
    "rc('font',**{'family':'serif', 'serif': ['computer modern roman']})\n",
    "matplotlib.rcParams['hatch.linewidth'] = 0.1  # previous pdf hatch linewidth\n",
    "rcParams.update(rcparams)\n",
    "axes_form  = [0.185,0.15,0.775,0.76]\n",
    "fig = plt.figure()\n",
    "ax = fig.add_axes(axes_form)\n",
    "matplotlib.rcParams['hatch.linewidth'] = 1  # previous pdf hatch linewidth\n",
    "\n",
    "X,Y = np.meshgrid(RATIOS_v2,UE4SQR_v2)\n",
    "\n",
    "c2=ax.contour(X,Y,LS_v2, [chi2.ppf(0.99, 2)], linestyles=['--'],colors=['dodgerblue'],linewidths=[1.0], ls='--',label=r'SuperK-IV')\n",
    "c3=ax.contour(X,Y,LB_v2, [chi2.ppf(0.99, 12)], linestyles=['--'],colors=['indigo'],linewidths=[1.0],label=r'Borexino')\n",
    "c1=ax.contour(X,Y,LK_v2, [chi2.ppf(0.99, 6)], linestyles=['--'],colors=['forestgreen'],linewidths=[1.0],label=r'KamLAND 2011')\n",
    "c4=ax.contour(X,Y,LK21_v2, [chi2.ppf(0.99, 3)], linestyles=['-'],colors=['magenta'],linewidths=[1.0],label=r'KamLAND 2021')\n",
    "c2.collections[0].set_dashes([(0, (5.0, 1.0))])\n",
    "c3.collections[0].set_dashes([(0, (2.0, 1.0))])\n",
    "c1.collections[0].set_dashes([(0, (8.0, 1.0))])\n",
    "h1,_ = c1.legend_elements()\n",
    "h2,_ = c2.legend_elements()\n",
    "h3,_ = c3.legend_elements()\n",
    "h4,_ = c4.legend_elements()\n",
    "ax.legend([h4[0], h1[0], h2[0],h3[0]], ['KamLAND 2021', 'KamLAND 2011', 'SuperK-IV','Borexino',],\n",
    "          loc='lower left', frameon=False,fontsize=9)\n",
    "\n",
    "# ax.set_xscale('log')\n",
    "ax.set_yscale('log')\n",
    "##############\n",
    "# STYLE\n",
    "if params.model == const.VECTOR:\n",
    "    boson_string = r'$m_{Z^\\prime}$'\n",
    "    boson_file = 'vector'\n",
    "elif params.model == const.SCALAR:\n",
    "    boson_string = r'$m_\\phi$'\n",
    "    boson_file = 'scalar'\n",
    "\n",
    "ax.set_title(fr'$|U_{{\\mu 4}}|^2 = |U_{{\\tau 4}}|^2 = {params.Umu4**2:.2f}$')\n",
    "\n",
    "ax.annotate(r'\\noindent 99\\% C.L. \\\\\\noindent excluded', \n",
    "            fontsize=0.9*fsize, xy=(0.7,0.1), xytext=(0.6,0.9),xycoords='axes fraction', color='magenta')\n",
    "rescale=1.95\n",
    "ax.annotate(r'', fontsize=fsize, xy=(0.6,0.02*rescale), xytext=(0.55,0.0063*rescale), xycoords='data' ,zorder=1000, color='magenta',\n",
    "arrowprops=dict(arrowstyle=\"-|>\", mutation_scale=5, color='magenta', lw = 0.8))\n",
    "# plt.scatter(X,Y)\n",
    "ax.set_xlim(0.1,1)\n",
    "ax.set_ylim(1e-3,0.05)\n",
    "ax.set_xlabel(r'$R = m_\\phi/m_4$')\n",
    "ax.set_ylabel(r'$|U_{e 4}|^2$')\n",
    "fig.savefig(f'plots/limits_ratio_{params.Umu4:.2g}.pdf')\n",
    "fig.savefig(f'plots/limits_ratio_{params.Umu4:.2g}.png')\n",
    "fig.show()"
   ]
  },
  {
   "cell_type": "code",
   "execution_count": null,
   "id": "meaningful-adrian",
   "metadata": {},
   "outputs": [],
   "source": []
  }
 ],
 "metadata": {
  "kernelspec": {
   "display_name": "Python 3",
   "language": "python",
   "name": "python3"
  },
  "language_info": {
   "codemirror_mode": {
    "name": "ipython",
    "version": 3
   },
   "file_extension": ".py",
   "mimetype": "text/x-python",
   "name": "python",
   "nbconvert_exporter": "python",
   "pygments_lexer": "ipython3",
   "version": "3.9.5"
  }
 },
 "nbformat": 4,
 "nbformat_minor": 5
}
