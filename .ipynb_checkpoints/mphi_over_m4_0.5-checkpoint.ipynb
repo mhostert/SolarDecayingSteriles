{
 "cells": [
  {
   "cell_type": "markdown",
   "metadata": {},
   "source": [
    "# SOLAR-NEUTRINO-VISIBLE-DECAYS\n",
    "\n",
    "https://github.com/mhostert/solar-neutrino-visible-decays"
   ]
  },
  {
   "cell_type": "markdown",
   "metadata": {},
   "source": [
    "## Import modules"
   ]
  },
  {
   "cell_type": "code",
   "execution_count": 1,
   "metadata": {},
   "outputs": [
    {
     "name": "stdout",
     "output_type": "stream",
     "text": [
      "{'interp': <scipy.interpolate.interpolate.RegularGridInterpolator object at 0x7f69616c4f90>}\n"
     ]
    }
   ],
   "source": [
    "import numpy as np\n",
    "from scipy import interpolate\n",
    "import matplotlib\n",
    "# matplotlib.use('agg')\n",
    "import matplotlib.pyplot as plt\n",
    "from matplotlib import rc, rcParams\n",
    "from matplotlib.pyplot import *\n",
    "from scipy.stats import chi2\n",
    "import importlib\n",
    "import vegas\n",
    "import gvar as gv\n",
    "\n",
    "from source import *\n",
    "from source import flavour_transitions as osc"
   ]
  },
  {
   "cell_type": "markdown",
   "metadata": {},
   "source": [
    "## Pick points to sample integrand"
   ]
  },
  {
   "cell_type": "code",
   "execution_count": 2,
   "metadata": {},
   "outputs": [],
   "source": [
    "##########\n",
    "# integration evaluations\n",
    "rates.NEVALwarmup = 1e3\n",
    "rates.NEVAL = 1e4"
   ]
  },
  {
   "cell_type": "markdown",
   "metadata": {},
   "source": [
    "## Flux and Decay Parameters\n",
    "\n",
    "The mixings will be used to rescale the number of events, so pick anything sensible"
   ]
  },
  {
   "cell_type": "code",
   "execution_count": 3,
   "metadata": {},
   "outputs": [],
   "source": [
    "###########\n",
    "# NUMU FLUX\n",
    "fluxfile = \"fluxes/b8spectrum.txt\"\n",
    "flux = fluxes.get_exp_flux(fluxfile)\n",
    "\n",
    "###########\n",
    "# DECAY MODEL PARAMETERS\n",
    "params = model.decay_model_params(const.SCALAR)\n",
    "params.gx\t\t= 1.0\n",
    "params.Ue4\t\t= np.sqrt(0.01)\n",
    "params.Umu4\t\t= np.sqrt(0.01)\n",
    "params.Utau4    = np.sqrt(0)\n",
    "params.UD4\t\t= np.sqrt(1.0-params.Ue4*params.Ue4-params.Umu4*params.Umu4)\n",
    "params.m4\t\t= 100e-9 # GeV\n",
    "params.mBOSON  = 0.5*params.m4 # GeV\n",
    "\n",
    "###########\n",
    "# EXPERIMENTS\n",
    "KAM = exps.kamland_data()\n",
    "BOR = exps.borexino_data()\n",
    "SK = exps.superk_data()\n"
   ]
  },
  {
   "cell_type": "markdown",
   "metadata": {},
   "source": [
    "# Compute rates for benchmark point at the three experiments\n",
    "\n",
    "This can be an expensive computation, depending on the desired precision -- we care about tails."
   ]
  },
  {
   "cell_type": "code",
   "execution_count": 4,
   "metadata": {},
   "outputs": [
    {
     "name": "stdout",
     "output_type": "stream",
     "text": [
      "Filling the bins in kamland\n",
      "Filling the bins in borexino\n",
      "Filling the bins in SUPERK_IV\n"
     ]
    }
   ],
   "source": [
    "bK, npK, backK, dK = rates.fill_bins(KAM,params,fluxfile,endpoint=16.3)\n",
    "bB, npB, backB, dB = rates.fill_bins(BOR,params,fluxfile,startpoint=0,endpoint=16.3)\n",
    "bS, npS, backS, dS = rates.fill_bins(SK,params,fluxfile,endpoint=16.3)\n"
   ]
  },
  {
   "cell_type": "code",
   "execution_count": 5,
   "metadata": {},
   "outputs": [],
   "source": [
    "\n",
    "bK = bK[:-1] + (bK[1:] - bK[:-1])/2\n",
    "bB = bB[:-1] + (bB[1:] - bB[:-1])/2\n",
    "bS = bS[:-1] + (bS[1:] - bS[:-1])/2"
   ]
  },
  {
   "cell_type": "markdown",
   "metadata": {},
   "source": [
    "## Fill arrays with rescale number of events depending on Umu4 and Ue4\n",
    "importlib.reload(const)\n",
    "importlib.reload(osc)\n"
   ]
  },
  {
   "cell_type": "code",
   "execution_count": 6,
   "metadata": {},
   "outputs": [
    {
     "name": "stdout",
     "output_type": "stream",
     "text": [
      "{'interp': <scipy.interpolate.interpolate.RegularGridInterpolator object at 0x7f695f4e1450>}\n"
     ]
    }
   ],
   "source": [
    "importlib.reload(const)\n",
    "importlib.reload(osc)\n",
    "\n",
    "##############\n",
    "# Bin uncorrelated normalization errors\n",
    "err_flux = 0.1\n",
    "err_backK = 0.1\n",
    "err_backB = 0.1\n",
    "err_backS = 0.1\n",
    "############# \n",
    "# 2D grid in Umu4 and Ue4 space\n",
    "NPOINTS = 33\n",
    "UE4SQR =np.logspace(-4,-1,NPOINTS)\n",
    "UMU4SQR =np.logspace(-4,-1.1,NPOINTS)\n",
    "LK = np.zeros((NPOINTS,NPOINTS))\n",
    "LB = np.zeros((NPOINTS,NPOINTS))\n",
    "LS = np.zeros((NPOINTS,NPOINTS))\n",
    "\n",
    "#############\n",
    "# number of degrees of freedom\n",
    "dofK = np.size(dK)-2\n",
    "dofB = np.size(dB)-2\n",
    "dofS = np.size(dS)-2\n",
    "\n",
    "\n",
    "\n",
    "# Initial scaling factor\n",
    "old_factorK = params.Ue4**2*(osc.Pse(bK, params.Ue4*params.Ue4, params.Umu4*params.Umu4))\n",
    "old_factorB = params.Ue4**2*(osc.Pse(bB, params.Ue4*params.Ue4, params.Umu4*params.Umu4))\n",
    "old_factorS = params.Ue4**2*(osc.Pse(bS, params.Ue4*params.Ue4, params.Umu4*params.Umu4))"
   ]
  },
  {
   "cell_type": "markdown",
   "metadata": {},
   "source": [
    "# Minimize likelihood over nuisance parameters for every point"
   ]
  },
  {
   "cell_type": "code",
   "execution_count": 7,
   "metadata": {},
   "outputs": [
    {
     "name": "stdout",
     "output_type": "stream",
     "text": [
      "5.20510851924564 6\n",
      "19.739876035591934 12\n",
      "3.3573693658744004 5\n"
     ]
    }
   ],
   "source": [
    "importlib.reload(stats)\n",
    "\n",
    "for i in range(np.size(UE4SQR)):\n",
    "    for j in range(np.size(UMU4SQR)):\n",
    "        new_factorK = UE4SQR[i]*osc.Pse(bK, UE4SQR[i], UMU4SQR[j])\n",
    "        new_factorB = UE4SQR[i]*osc.Pse(bB, UE4SQR[i], UMU4SQR[j])\n",
    "        new_factorS = UE4SQR[i]*osc.Pse(bS, UE4SQR[i], UMU4SQR[j])\n",
    "        np_newK = new_factorK/old_factorK*npK\n",
    "        np_newB = new_factorB/old_factorB*npB\n",
    "        np_newS = new_factorS/old_factorS*npS\n",
    "        # print new_factorK,new_factorB\n",
    "        LK[j,i] = stats.chi2_binned_rate(np_newK, backK, dK, [err_flux,err_backK])#np.sum(np_newK)\n",
    "        LB[j,i] = stats.chi2_binned_rate(np_newB, backB, dB, [err_flux,err_backB])#np.sum(np_newB)\n",
    "        LS[j,i] = stats.chi2_binned_rate(np_newS, backS, dS, [err_flux,err_backS])#np.sum(np_newS)\n",
    "#         LK[j,i] = stats.chi2_total_rate(np_newK, backK, dK, [err_flux,err_backK])\n",
    "#         LB[j,i] = stats.chi2_total_rate(np_newB, backB, dB, [err_flux,err_backB])\n",
    "#         LS[j,i] = stats.chi2_total_rate(np_newS, backS, dS, [err_flux,err_backS])\n",
    "print(np.min(LK), dofK)\n",
    "LK = LK - np.min(LK)\n",
    "print(np.min(LB), dofB)\n",
    "LB = LB - np.min(LB)\n",
    "print(np.min(LS), dofS)\n",
    "LS = LS - np.min(LS)"
   ]
  },
  {
   "cell_type": "markdown",
   "metadata": {},
   "source": [
    "# Plot resulting limits"
   ]
  },
  {
   "cell_type": "markdown",
   "metadata": {},
   "source": [
    "### Setup and plot preference regions from https://arxiv.org/abs/1911.01427 "
   ]
  },
  {
   "cell_type": "code",
   "execution_count": 40,
   "metadata": {},
   "outputs": [
    {
     "name": "stderr",
     "output_type": "stream",
     "text": [
      "/usr/local/lib/python3.7/dist-packages/ipykernel_launcher.py:12: RuntimeWarning: More than 20 figures have been opened. Figures created through the pyplot interface (`matplotlib.pyplot.figure`) are retained until explicitly closed and may consume too much memory. (To control this warning, see the rcParam `figure.max_open_warning`).\n",
      "  if sys.path[0] == '':\n",
      "/usr/local/lib/python3.7/dist-packages/ipykernel_launcher.py:64: UserWarning: The following kwargs were not used by contour: 'label'\n",
      "/usr/local/lib/python3.7/dist-packages/ipykernel_launcher.py:65: UserWarning: The following kwargs were not used by contour: 'ls', 'label'\n",
      "/usr/local/lib/python3.7/dist-packages/ipykernel_launcher.py:66: UserWarning: The following kwargs were not used by contour: 'label'\n",
      "/usr/local/lib/python3.7/dist-packages/ipykernel_launcher.py:74: MatplotlibDeprecationWarning: Unrecognized location 'uppwer right'. Falling back on 'best'; valid locations are\n",
      "\tbest\n",
      "\tupper right\n",
      "\tupper left\n",
      "\tlower left\n",
      "\tlower right\n",
      "\tright\n",
      "\tcenter left\n",
      "\tcenter right\n",
      "\tlower center\n",
      "\tupper center\n",
      "\tcenter\n",
      "This will raise an exception in 3.3.\n",
      "/usr/local/lib/python3.7/dist-packages/ipykernel_launcher.py:141: UserWarning: Matplotlib is currently using agg, which is a non-GUI backend, so cannot show the figure.\n"
     ]
    }
   ],
   "source": [
    "################################################################\n",
    "# PLOTTING THE LIMITS\n",
    "################################################################\n",
    "fsize=11\n",
    "rc('text', usetex=True)\n",
    "rcparams={'axes.labelsize':fsize,'xtick.labelsize':fsize,'ytick.labelsize':fsize,\\\n",
    "\t\t\t\t'figure.figsize':(1*3.7,1.4*2.3617)\t}\n",
    "rc('font',**{'family':'serif', 'serif': ['computer modern roman']})\n",
    "matplotlib.rcParams['hatch.linewidth'] = 0.1  # previous pdf hatch linewidth\n",
    "rcParams.update(rcparams)\n",
    "axes_form  = [0.185,0.15,0.775,0.76]\n",
    "fig = plt.figure()\n",
    "ax = fig.add_axes(axes_form)\n",
    "\n",
    "############\n",
    "# GET THE FIT REGIONS FROM DENTLER ET AL\n",
    "DentlerPath='digitized/Dentler_et_al/0.5_100/'\n",
    "\n",
    "SB_COLOR = 'lightgrey'\n",
    "MB_ue_b,MB_umu_b = np.genfromtxt(DentlerPath+'bottom_MiniBooNE.dat',unpack=True)\n",
    "MB_ue_t,MB_umu_t = np.genfromtxt(DentlerPath+'top_MiniBooNE.dat',unpack=True)\n",
    "MB_ue_f=np.logspace( np.log10(np.min([MB_ue_b])), np.log10(np.max([MB_ue_b])), 100)\n",
    "MB_umu_b_f = np.interp(MB_ue_f,MB_ue_b,MB_umu_b)\n",
    "MB_umu_t_f = np.interp(MB_ue_f,MB_ue_t,MB_umu_t)\n",
    "ax.fill_between(MB_ue_f,MB_umu_b_f,MB_umu_t_f,facecolor=SB_COLOR,alpha=0.5,lw=0)\n",
    "ax.fill_between(MB_ue_f,MB_umu_b_f,MB_umu_t_f,edgecolor='black',facecolor='None',lw=0.6)\n",
    "\n",
    "y,x = np.genfromtxt(DentlerPath+'right_LSND.dat',unpack=True)\n",
    "yl,xl = np.genfromtxt(DentlerPath+'left_LSND.dat',unpack=True)\n",
    "x_f=np.logspace( np.log10(np.min([x])), np.log10(np.max([x])), 100)\n",
    "y_f = np.interp(x_f,x,y)\n",
    "yl_f = np.interp(x_f,xl,yl)\n",
    "ax.fill_betweenx(x_f,y_f,yl_f,facecolor=SB_COLOR,alpha=0.5,lw=0)\n",
    "ax.fill_betweenx(x_f,y_f,yl_f,edgecolor='black',facecolor='None',lw=0.6)\n",
    "\n",
    "x,y = np.genfromtxt(DentlerPath+'bottom_combined.dat',unpack=True)\n",
    "xl,yl = np.genfromtxt(DentlerPath+'top_combined.dat',unpack=True)\n",
    "x_f=np.logspace( np.log10(np.min([x])), np.log10(np.max([x])), 100)\n",
    "y_f = np.interp(x_f,x,y)\n",
    "yl_f = np.interp(x_f,xl,yl)\n",
    "ax.fill_between(x_f,y_f,yl_f,facecolor='None',edgecolor='yellow',\n",
    "                hatch='/////////////////////////////////////////',alpha=0.7,lw=0,zorder=10)\n",
    "ax.fill_between(x_f,y_f,yl_f,edgecolor='black',facecolor='None',lw=0.6,zorder=10)\n",
    "\n",
    "\n",
    "x,y = np.genfromtxt(DentlerPath+'KARMEN.dat',unpack=True)\n",
    "ax.plot(x,y,lw=0.8,color='gray',dashes=(1,1))\n",
    "x,y = np.genfromtxt(DentlerPath+'OPERA.dat',unpack=True)\n",
    "ax.plot(x,y,lw=0.8,color='gray',dashes=(1,1))\n",
    "\n",
    "\n",
    "X,Y = np.meshgrid(UE4SQR,UMU4SQR)\n",
    "# ax.contourf(X,Y,LK, [chi2.ppf(0.90, dofK),1e100], colors=['black'],alpha=0.1, linewidths=[0.1])\n",
    "# ax.contour(X,Y,L, 20, color='black')\n",
    "\n",
    "# ax.contourf(X,Y,LB, [chi2.ppf(0.90, dofB),1e100], colors=['black'],alpha=0.1, linewidths=[0.1])\n",
    "\n",
    "# Z = LB\n",
    "# pcm = ax.pcolor(X, Y, Z,\n",
    "#                    norm=colors.LogNorm(vmin=Z.min(), vmax=Z.max()),\n",
    "#                    cmap='PuBu_r')# ax.contour(X,Y,L, 20, color='black')\n",
    "# fig.colorbar(pcm, ax=ax, extend='max')\n",
    "\n",
    "c1=ax.contour(X,Y,LK, [chi2.ppf(0.99, dofK)], linestyles=['--'],colors=['magenta'],linewidths=[1.0],label=r'KamLAND')\n",
    "c2=ax.contour(X,Y,LS, [chi2.ppf(0.99, dofS)], linestyles=['--'],colors=['dodgerblue'],linewidths=[1.0], ls='--',label=r'SuperK-IV')\n",
    "c3=ax.contour(X,Y,LB, [chi2.ppf(0.99, dofB)], linestyles=['--'],colors=['indigo'],linewidths=[1.0],label=r'Borexino')\n",
    "c1.collections[0].set_dashes([(0, (2.0, 0))])\n",
    "c2.collections[0].set_dashes([(0, (7.0, 1.0))])\n",
    "c3.collections[0].set_dashes([(0, (2.0, 1.0))])\n",
    "h1,_ = c1.legend_elements()\n",
    "h2,_ = c2.legend_elements()\n",
    "h3,_ = c3.legend_elements()\n",
    "\n",
    "ax.legend([h1[0], h3[0],h2[0]], ['KamLAND', 'Borexino','SuperK-IV'],loc='uppwer right', frameon=False,fontsize=9)\n",
    "\n",
    "\n",
    "\n",
    "\n",
    "\n",
    "# ax.clear()\n",
    "# ax.set_xscale('log')\n",
    "# ax.set_yscale('log')\n",
    "##############\n",
    "# STYLE\n",
    "if params.model == const.VECTOR:\n",
    "\tboson_string = r'$m_{Z^\\prime}$'\n",
    "\tboson_file = 'vector'\n",
    "elif params.model == const.SCALAR:\n",
    "\tboson_string = r'$m_\\phi$'\n",
    "\tboson_file = 'scalar'\n",
    "\n",
    "# RESCALE=1.27*4\n",
    "# RESCALEY = 0.5\n",
    "# # ax.annotate(r'', fontsize=fsize, xy=(RESCALE*4.4e-3,RESCALEY*6e-4), xytext=(RESCALE*2.65e-3,RESCALEY*6e-4),color='blue',\n",
    "#             arrowprops=dict(arrowstyle=\"-|>\", mutation_scale=5, color='red', lw = 0.5),\n",
    "#             )\n",
    "# ax.annotate(r'', fontsize=fsize, xy=(RESCALE*5.5e-3,RESCALEY*7e-4), xytext=(RESCALE*3.4e-3,RESCALEY*7e-4),color='blue',\n",
    "#             arrowprops=dict(arrowstyle=\"-|>\", mutation_scale=5, color='blue', lw = 0.5),\n",
    "#             )\n",
    "# ax.annotate(r'', fontsize=fsize, xy=(RESCALE*6.4e-3,RESCALEY*8.1e-4), xytext=(RESCALE*4.05e-3,RESCALEY*8.1e-4),color='blue',\n",
    "#             arrowprops=dict(arrowstyle=\"-|>\", mutation_scale=5, color='green', lw = 0.5),\n",
    "#             )\n",
    "# ax.annotate(r'KamLAND $90\\%$ C.L.', fontsize=0.8*fsize, xy=(0.45,0.17), xytext=(0.3,0.18),xycoords='axes fraction', color='blue')\n",
    "# ax.annotate(r'\\noindent99\\% C.L.\\\\excluded', fontsize=0.8*fsize, xy=(0.7,0.2), xytext=(0.73,0.02),xycoords='axes fraction', color='black')\n",
    "\n",
    "ax.set_title(r'$m_4 \\Gamma_4 = 1$ eV$^2$,\\, $m_4 = %.0f$ eV,\\, '%(params.m4*1e9)+boson_string+r'$/m_4 = %.1f$'%(params.mBOSON/params.m4), fontsize=9)\n",
    "ax.annotate(r'MiniBooNE',xy=(0.4,0.031),xycoords='axes fraction',color='black',fontsize=9,rotation=-2)\n",
    "ax.annotate(r'LSND',xy=(0.5,0.53),xycoords='axes fraction',color='black',fontsize=8,rotation=0)\n",
    "ax.annotate(r'\\noindent All w/o \\\\LSND',xy=(0.21,0.05),xycoords='axes fraction',color='black',fontsize=8,rotation=0,zorder=10)\n",
    "\n",
    "ax.annotate(r'\\noindent 99\\% C.L. \\\\\\noindent excluded', \n",
    "            fontsize=0.9*fsize, xy=(1.2,0.2), xytext=(0.34,0.75),xycoords='axes fraction', color='magenta')\n",
    "\n",
    "ax.annotate(r'', fontsize=fsize, xy=(0.045,0.0175), xytext=(0.021,0.0175), xycoords='data' ,zorder=1000, color='magenta',\n",
    "arrowprops=dict(arrowstyle=\"-|>\", mutation_scale=5, color='magenta', lw = 0.8))\n",
    "\n",
    "ax.fill_between(np.linspace(9e-3,0.1,100),0.7e-3*np.ones(100),-0.05e-3*np.ones(100),\n",
    "                lw=0.0,fc='None',ec='darkgreen',\n",
    "                hatch='//////////////////////////////////////',zorder=2)\n",
    "ax.annotate(r'Reactors preferred',xy=(0.066,0.13e-3),\n",
    "                xycoords='data',color='white',fontsize=7.5,rotation=0)\n",
    "# ax.annotate(r'', fontsize=fsize, xy=(0.022,0.3e-3), xytext=(9e-3,0.3e-3), xycoords='data' ,zorder=1000, color='magenta',\n",
    "# arrowprops=dict(arrowstyle=\"|-|\", mutation_scale=2, color='black', lw = 0.8))\n",
    "# ax.annotate(r'', fontsize=fsize, xy=(0.04,0.3e-3), xytext=(0.0355,0.3e-3), xycoords='data' ,zorder=1000, color='magenta',\n",
    "# arrowprops=dict(arrowstyle=\"-|>\", mutation_scale=3, color='black', lw = 0.8))\n",
    "ax.vlines(0.031,-1,1,lw=1.0, ls=':',color='black',zorder=-1)\n",
    "ax.annotate(r'OPERA',xy=(0.08,0.0076), \n",
    "            xycoords='data',color='grey',fontsize=8,rotation=0)\n",
    "ax.annotate(r'KARMEN',xy=(0.042,0.0030), \n",
    "            xycoords='data',color='grey',fontsize=8,rotation=-60)\n",
    "ax.annotate(r'$\\beta$-decay',xy=(0.032,0.0043), \n",
    "            xycoords='data',color='grey',fontsize=8,rotation=-90)\n",
    "\n",
    "# ax.annotate(r'Borexino',xy=(0.55,0.35),xycoords='axes fraction',fontsize=14)\n",
    "ax.set_xlim(0,0.1)\n",
    "ax.set_ylim(0,0.02)\n",
    "ax.set_yticks([0,0.005,0.01,0.015,0.02])\n",
    "ax.set_xlabel(r'$|U_{e 4}|^2$')\n",
    "ax.set_ylabel(r'$|U_{\\mu 4}|^2$')\n",
    "fig.savefig('plots/limits_MN_%.0f_MB_%.0f.pdf'%(params.m4*1e9,params.mBOSON*1e9),rasterized=True)\n",
    "fig.show()"
   ]
  },
  {
   "cell_type": "code",
   "execution_count": null,
   "metadata": {},
   "outputs": [],
   "source": []
  },
  {
   "cell_type": "code",
   "execution_count": null,
   "metadata": {},
   "outputs": [],
   "source": []
  },
  {
   "cell_type": "code",
   "execution_count": null,
   "metadata": {},
   "outputs": [],
   "source": []
  },
  {
   "cell_type": "code",
   "execution_count": null,
   "metadata": {},
   "outputs": [],
   "source": []
  }
 ],
 "metadata": {
  "kernelspec": {
   "display_name": "Python 3",
   "language": "python",
   "name": "python3"
  },
  "language_info": {
   "codemirror_mode": {
    "name": "ipython",
    "version": 3
   },
   "file_extension": ".py",
   "mimetype": "text/x-python",
   "name": "python",
   "nbconvert_exporter": "python",
   "pygments_lexer": "ipython3",
   "version": "3.7.8"
  }
 },
 "nbformat": 4,
 "nbformat_minor": 2
}
