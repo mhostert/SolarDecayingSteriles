{
 "cells": [
  {
   "cell_type": "markdown",
   "metadata": {},
   "source": [
    "## Final constraints in the physical parameters $m_\\phi/m_4 = 0.9$\n",
    "\n",
    "https://github.com/mhostert/solar-neutrino-visible-decays"
   ]
  },
  {
   "cell_type": "markdown",
   "metadata": {},
   "source": [
    "## Import modules"
   ]
  },
  {
   "cell_type": "code",
   "execution_count": 1,
   "metadata": {},
   "outputs": [],
   "source": [
    "%load_ext autoreload\n",
    "%autoreload 2"
   ]
  },
  {
   "cell_type": "code",
   "execution_count": 2,
   "metadata": {},
   "outputs": [],
   "source": [
    "import numpy as np\n",
    "from scipy import interpolate\n",
    "import matplotlib\n",
    "import matplotlib.pyplot as plt\n",
    "from matplotlib import rc, rcParams\n",
    "from matplotlib.pyplot import *\n",
    "from scipy.stats import chi2\n",
    "import importlib\n",
    "import vegas\n",
    "import gvar as gv\n",
    "\n",
    "from source import *\n",
    "from source import flavour_transitions as osc"
   ]
  },
  {
   "cell_type": "markdown",
   "metadata": {},
   "source": [
    "## Pick points to sample integrand"
   ]
  },
  {
   "cell_type": "code",
   "execution_count": 3,
   "metadata": {},
   "outputs": [],
   "source": [
    "##########\n",
    "# integration evaluations\n",
    "rates.NEVALwarmup = 1e4\n",
    "rates.NEVAL = 1e5"
   ]
  },
  {
   "cell_type": "markdown",
   "metadata": {},
   "source": [
    "## Flux and Decay Parameters\n",
    "\n",
    "The mixings will be used to rescale the number of events, so pick anything sensible"
   ]
  },
  {
   "cell_type": "code",
   "execution_count": 4,
   "metadata": {},
   "outputs": [],
   "source": [
    "###########\n",
    "# NUMU FLUX\n",
    "fluxfile = \"fluxes/b8spectrum.txt\"\n",
    "flux = fluxes.get_neutrino_flux(fluxfile)\n",
    "\n",
    "###########\n",
    "# DECAY MODEL PARAMETERS\n",
    "params = model.decay_model_params(const.SCALAR)\n",
    "params.gx\t\t= 1.0\n",
    "params.Ue4\t\t= np.sqrt(0.01)\n",
    "params.Umu4\t\t= np.sqrt(0.01)\n",
    "params.Utau4    = np.sqrt(0)\n",
    "params.UD4\t\t= np.sqrt(1.0-params.Ue4*params.Ue4-params.Umu4*params.Umu4)\n",
    "params.m4\t\t= 300e-9 # GeV\n",
    "params.mBOSON  = 0.9*params.m4 # GeV\n",
    "\n",
    "###########\n",
    "# EXPERIMENTS\n",
    "KAM = exps.kamland_data()\n",
    "KAM21 = exps.kamland21_data()\n",
    "BOR = exps.borexino_data()\n",
    "SK = exps.superk_data()\n"
   ]
  },
  {
   "cell_type": "markdown",
   "metadata": {},
   "source": [
    "# Compute rates for benchmark point at the three experiments\n",
    "\n",
    "This can be an expensive computation, depending on the desired precision -- we care about tails."
   ]
  },
  {
   "cell_type": "code",
   "execution_count": 5,
   "metadata": {
    "scrolled": true
   },
   "outputs": [
    {
     "name": "stdout",
     "output_type": "stream",
     "text": [
      "Filling the bins in kamland21\n",
      "1.2321386487235222 3\n",
      "Filling the bins in kamland\n",
      "5.14696624163787 6\n",
      "Filling the bins in borexino\n",
      "19.739876035592072 12\n",
      "Filling the bins in SUPERK_IV\n",
      "2.2760395325135008 2\n"
     ]
    }
   ],
   "source": [
    "UE4SQR, UMU4SQR, LK21 = stats.get_likelihood(KAM21, params, fluxfile, endpoint=18.31, NPOINTS =33)\n",
    "UE4SQR, UMU4SQR, LK = stats.get_likelihood(KAM, params, fluxfile, endpoint=16.3, NPOINTS =33)\n",
    "UE4SQR, UMU4SQR, LB = stats.get_likelihood(BOR, params, fluxfile, endpoint=16.3, NPOINTS =33)\n",
    "UE4SQR, UMU4SQR, LS = stats.get_likelihood(SK, params, fluxfile, endpoint=16.3, NPOINTS =33)"
   ]
  },
  {
   "cell_type": "markdown",
   "metadata": {},
   "source": [
    "### Plot resulting limits\n",
    "\n",
    "Setup and plot preference regions from https://arxiv.org/abs/1911.01427 "
   ]
  },
  {
   "cell_type": "code",
   "execution_count": 43,
   "metadata": {},
   "outputs": [
    {
     "name": "stderr",
     "output_type": "stream",
     "text": [
      "<ipython-input-43-5fed66135f0f>:56: UserWarning: The following kwargs were not used by contour: 'ls', 'label'\n",
      "  c2=ax.contour(X,Y,LS, [chi2.ppf(0.99, 2)], linestyles=['--'],colors=['dodgerblue'],linewidths=[1.0], ls='--',label=r'SuperK-IV')\n",
      "<ipython-input-43-5fed66135f0f>:57: UserWarning: The following kwargs were not used by contour: 'label'\n",
      "  c3=ax.contour(X,Y,LB, [chi2.ppf(0.99, 12)], linestyles=['--'],colors=['indigo'],linewidths=[1.0],label=r'Borexino')\n",
      "<ipython-input-43-5fed66135f0f>:58: UserWarning: The following kwargs were not used by contour: 'label'\n",
      "  c1=ax.contour(X,Y,LK, [chi2.ppf(0.99, 6)], linestyles=['--'],colors=['forestgreen'],linewidths=[1.0],label=r'KamLAND 11')\n",
      "<ipython-input-43-5fed66135f0f>:59: UserWarning: The following kwargs were not used by contour: 'label'\n",
      "  c4=ax.contour(X,Y,LK21, [chi2.ppf(0.99, 3)], linestyles=['-'],colors=['magenta'],linewidths=[1.0],label=r'KamLAND 21')\n",
      "<ipython-input-43-5fed66135f0f>:143: MatplotlibDeprecationWarning: savefig() got unexpected keyword argument \"rasterized\" which is no longer supported as of 3.3 and will become an error two minor releases later\n",
      "  fig.savefig('plots/limits_MN_%.0f_MB_%.0f.pdf'%(params.m4*1e9,params.mBOSON*1e9),rasterized=True)\n"
     ]
    }
   ],
   "source": [
    "################################################################\n",
    "# PLOTTING THE LIMITS\n",
    "fsize=11\n",
    "rc('text', usetex=True)\n",
    "rcparams={'axes.labelsize':fsize,'xtick.labelsize':fsize,'ytick.labelsize':fsize,\\\n",
    "\t\t\t\t'figure.figsize':(1*3.7,1.4*2.3617)\t}\n",
    "rc('font',**{'family':'serif', 'serif': ['computer modern roman']})\n",
    "matplotlib.rcParams['hatch.linewidth'] = 0.1  # previous pdf hatch linewidth\n",
    "rcParams.update(rcparams)\n",
    "axes_form  = [0.185,0.15,0.775,0.76]\n",
    "fig = plt.figure()\n",
    "ax = fig.add_axes(axes_form)\n",
    "\n",
    "############\n",
    "# GET THE FIT REGIONS FROM DENTLER ET AL\n",
    "DentlerPath='digitized/Dentler_et_al/'\n",
    "\n",
    "SB_COLOR = 'lightgrey'\n",
    "MB_ue_b,MB_umu_b = np.genfromtxt(DentlerPath+'bottom_MiniBooNE_300.txt',unpack=True)\n",
    "MB_ue_t,MB_umu_t = np.genfromtxt(DentlerPath+'top_MiniBooNE_300.txt',unpack=True)\n",
    "MB_ue_f=np.logspace( np.log10(np.min([MB_ue_b])), np.log10(np.max([MB_ue_b])), 100)\n",
    "MB_umu_b_f = np.interp(MB_ue_f,MB_ue_b,MB_umu_b)\n",
    "MB_umu_t_f = np.interp(MB_ue_f,MB_ue_t,MB_umu_t)\n",
    "ax.fill_between(MB_ue_f,MB_umu_b_f,MB_umu_t_f,facecolor=SB_COLOR,alpha=0.5,lw=0)\n",
    "ax.fill_between(MB_ue_f,MB_umu_b_f,MB_umu_t_f,edgecolor='black',facecolor='None',lw=0.6)\n",
    "\n",
    "MB_ue_b,MB_umu_b = np.genfromtxt(DentlerPath+'bottom_noCOSMO_300.txt',unpack=True)\n",
    "MB_ue_t,MB_umu_t = np.genfromtxt(DentlerPath+'top_noCOSMO_300.txt',unpack=True)\n",
    "MB_ue_f=np.logspace( np.log10(np.min([MB_ue_b])), np.log10(np.max([MB_ue_b])), 100)\n",
    "MB_umu_b_f = np.interp(MB_ue_f,MB_ue_b,MB_umu_b)\n",
    "MB_umu_t_f = np.interp(MB_ue_f,MB_ue_t,MB_umu_t)\n",
    "ax.fill_between(MB_ue_f,MB_umu_b_f,MB_umu_t_f,facecolor='None',edgecolor='orange',\n",
    "                hatch='/////////////////////////////////////////',alpha=0.7,lw=0,zorder=10)\n",
    "ax.fill_between(MB_ue_f,MB_umu_b_f,MB_umu_t_f,edgecolor='black',facecolor='None',lw=0.6,zorder=10)\n",
    "\n",
    "\n",
    "y,x = np.genfromtxt(DentlerPath+'right_LSND_300.txt',unpack=True)\n",
    "yl,xl = np.genfromtxt(DentlerPath+'left_LSND_300.txt',unpack=True)\n",
    "x_f=np.logspace( np.log10(np.min([x])), np.log10(np.max([x])), 100)\n",
    "y_f = np.interp(x_f,x,y)\n",
    "yl_f = np.interp(x_f,xl,yl)\n",
    "ax.fill_betweenx(x_f,y_f,yl_f,facecolor=SB_COLOR,alpha=0.5,lw=0)\n",
    "ax.fill_betweenx(x_f,y_f,yl_f,edgecolor='black',facecolor='None',lw=0.6)\n",
    "\n",
    "X,Y = np.meshgrid(UE4SQR,UMU4SQR)\n",
    "\n",
    "c2=ax.contour(X,Y,LS, [chi2.ppf(0.99, 2)], linestyles=['--'],colors=['dodgerblue'],linewidths=[1.0], ls='--',label=r'SuperK-IV')\n",
    "c3=ax.contour(X,Y,LB, [chi2.ppf(0.99, 12)], linestyles=['--'],colors=['indigo'],linewidths=[1.0],label=r'Borexino')\n",
    "c1=ax.contour(X,Y,LK, [chi2.ppf(0.99, 6)], linestyles=['--'],colors=['forestgreen'],linewidths=[1.0],label=r'KamLAND 11')\n",
    "c4=ax.contour(X,Y,LK21, [chi2.ppf(0.99, 3)], linestyles=['-'],colors=['magenta'],linewidths=[1.0],label=r'KamLAND 21')\n",
    "c2.collections[0].set_dashes([(0, (5.0, 1.0))])\n",
    "c3.collections[0].set_dashes([(0, (2.0, 1.0))])\n",
    "c1.collections[0].set_dashes([(0, (8.0, 1.0))])\n",
    "h1,_ = c1.legend_elements()\n",
    "h2,_ = c2.legend_elements()\n",
    "h3,_ = c3.legend_elements()\n",
    "h4,_ = c4.legend_elements()\n",
    "\n",
    "##############\n",
    "# STYLE\n",
    "if params.model == const.VECTOR:\n",
    "    boson_string = r'$m_{Z^\\prime}$'\n",
    "    boson_file = 'vector'\n",
    "elif params.model == const.SCALAR:\n",
    "    boson_string = r'$m_\\phi$'\n",
    "    boson_file = 'scalar'\n",
    "\n",
    "ax.set_title(r'$m_4 \\Gamma_4 = 1$ eV$^2$,\\, $m_4 = %.0f$ eV,\\, '%(params.m4*1e9)+boson_string+r'$/m_4 = %.1f$'%(params.mBOSON/params.m4), fontsize=9)\n",
    "ax.legend([h4[0], h1[0], h2[0],h3[0]], ['KamLAND 2021', 'KamLAND 2011', 'SuperK-IV','Borexino',],loc='upper right', frameon=False,fontsize=9)\n",
    "ax.annotate(r'MiniBooNE',xy=(0.7,0.08),xycoords='axes fraction',\n",
    "            color='black',fontsize=10,rotation=-1)\n",
    "ax.annotate(r'LSND',xy=(0.3,0.45),xycoords='axes fraction',color='black',fontsize=10,rotation=0)\n",
    "ax.annotate(r'\\noindent All w/o cosmo',xy=(0.22,0.12),xycoords='axes fraction',color='black',fontsize=9,rotation=0,zorder=11)\n",
    "\n",
    "a = np.genfromtxt(\"data_from_jkopp/dm41Ue4Um4-all-m4G1-MAM40.9.dat\", unpack=True)\n",
    "X,Y = np.meshgrid(a[1],a[2])\n",
    "\n",
    "ax.vlines(0.0204,-1,1,lw=1.0, ls=':',color='black',zorder=-1)\n",
    "\n",
    "ax.fill_between(np.linspace(9e-3,0.1,100),0.65e-3*np.ones(100),-0.05e-3*np.ones(100),\n",
    "                lw=0.0,fc='None',ec='darkgreen',\n",
    "                hatch='//////////////////////////////////////',zorder=2)\n",
    "ax.annotate(r'Reactors preferred',xy=(0.022,0.17e-3),\n",
    "                xycoords='data',color='white',fontsize=9,rotation=0)\n",
    "\n",
    "\n",
    "x,y = np.genfromtxt(DentlerPath+'KARMEN.dat',unpack=True)\n",
    "ax.plot(x,y,lw=0.8,color='gray',dashes=(1,1))\n",
    "x,y = np.genfromtxt(DentlerPath+'OPERA.dat',unpack=True)\n",
    "ax.plot(x,y,lw=0.8,color='gray',dashes=(1,1))\n",
    "\n",
    "ax.annotate(r'OPERA',xy=(0.03,0.0077), \n",
    "            xycoords='data',color='grey',fontsize=8,rotation=0)\n",
    "ax.annotate(r'KARMEN',xy=(0.0225,0.00230), \n",
    "            xycoords='data',color='grey',fontsize=8,rotation=-78)\n",
    "ax.annotate(r'$\\beta$ decay',xy=(0.0207,0.0098), \n",
    "            xycoords='data',color='grey',fontsize=8,rotation=-90)\n",
    "\n",
    "ax.annotate(r'', fontsize=fsize, xy=(0.014,0.009), xytext=(0.0048,0.009), xycoords='data' ,zorder=1000, color='magenta',\n",
    "arrowprops=dict(arrowstyle=\"-|>\", mutation_scale=5, color='magenta', lw = 0.8))\n",
    "ax.annotate(r'\\noindent 99\\% C.L. \\\\\\noindent exclusion', \n",
    "            fontsize=0.9*fsize, xy=(0.95,0.2), xytext=(0.28,0.62),xycoords='axes fraction', color='magenta')\n",
    "\n",
    "\n",
    "ax.set_xlim(3e-4*0,0.04)\n",
    "ax.set_ylim(1e-4*0,0.012)\n",
    "ax.set_xlabel(r'$|U_{e 4}|^2$')\n",
    "ax.set_ylabel(r'$|U_{\\mu 4}|^2$')\n",
    "fig.savefig('plots/limits_MN_%.0f_MB_%.0f.pdf'%(params.m4*1e9,params.mBOSON*1e9),rasterized=True)\n",
    "plt.close(fig)"
   ]
  },
  {
   "cell_type": "markdown",
   "metadata": {},
   "source": [
    "### Use the same constraint but show them in the parameter space of a shorter lived sterile"
   ]
  },
  {
   "cell_type": "code",
   "execution_count": 42,
   "metadata": {},
   "outputs": [
    {
     "name": "stderr",
     "output_type": "stream",
     "text": [
      "<ipython-input-42-7ee0966bdc44>:59: UserWarning: The following kwargs were not used by contour: 'ls', 'label'\n",
      "  c2=ax.contour(X,Y,LS, [chi2.ppf(0.99, 2)], linestyles=['--'],colors=['dodgerblue'],linewidths=[1.0], ls='--',label=r'SuperK-IV')\n",
      "<ipython-input-42-7ee0966bdc44>:60: UserWarning: The following kwargs were not used by contour: 'label'\n",
      "  c3=ax.contour(X,Y,LB, [chi2.ppf(0.99, 12)], linestyles=['--'],colors=['indigo'],linewidths=[1.0],label=r'Borexino')\n",
      "<ipython-input-42-7ee0966bdc44>:61: UserWarning: The following kwargs were not used by contour: 'label'\n",
      "  c1=ax.contour(X,Y,LK, [chi2.ppf(0.99, 6)], linestyles=['--'],colors=['forestgreen'],linewidths=[1.0],label=r'KamLAND 11')\n",
      "<ipython-input-42-7ee0966bdc44>:62: UserWarning: The following kwargs were not used by contour: 'label'\n",
      "  c4=ax.contour(X,Y,LK21, [chi2.ppf(0.99, 3)], linestyles=['-'],colors=['magenta'],linewidths=[1.0],label=r'KamLAND 21')\n",
      "<ipython-input-42-7ee0966bdc44>:120: MatplotlibDeprecationWarning: savefig() got unexpected keyword argument \"rasterized\" which is no longer supported as of 3.3 and will become an error two minor releases later\n",
      "  fig.savefig('plots/limits_MN_%.0f_MB_%.0f_v2.pdf'%(params.m4*1e9,params.mBOSON*1e9),rasterized=True)\n",
      "<ipython-input-42-7ee0966bdc44>:121: UserWarning: Matplotlib is currently using module://ipykernel.pylab.backend_inline, which is a non-GUI backend, so cannot show the figure.\n",
      "  fig.show()\n"
     ]
    },
    {
     "data": {
      "image/png": "[encoded data removed]",
      "text/plain": [
       "<Figure size 266.4x238.059 with 1 Axes>"
      ]
     },
     "metadata": {
      "needs_background": "light"
     },
     "output_type": "display_data"
    }
   ],
   "source": [
    "################################################################\n",
    "# PLOTTING THE LIMITS\n",
    "################################################################\n",
    "fsize=11\n",
    "rc('text', usetex=True)\n",
    "rcparams={'axes.labelsize':fsize,'xtick.labelsize':fsize,'ytick.labelsize':fsize,\\\n",
    "\t\t\t\t'figure.figsize':(1*3.7,1.4*2.3617)\t}\n",
    "rc('font',**{'family':'serif', 'serif': ['computer modern roman']})\n",
    "matplotlib.rcParams['hatch.linewidth'] = 0.1  # previous pdf hatch linewidth\n",
    "rcParams.update(rcparams)\n",
    "axes_form  = [0.185,0.15,0.775,0.76]\n",
    "fig = plt.figure()\n",
    "ax = fig.add_axes(axes_form)\n",
    "\n",
    "############\n",
    "# GET THE FIT REGIONS FROM DENTLER ET AL\n",
    "DentlerPath='digitized/Dentler_et_al/0.9_100/'\n",
    "\n",
    "SB_COLOR = 'lightgrey'\n",
    "MB_ue_b,MB_umu_b = np.genfromtxt(DentlerPath+'bottom_MiniBooNE.dat',unpack=True)\n",
    "MB_ue_t,MB_umu_t = np.genfromtxt(DentlerPath+'top_MiniBooNE.dat',unpack=True)\n",
    "MB_ue_f=np.logspace( np.log10(np.min([MB_ue_b])), np.log10(np.max([MB_ue_b])), 100)\n",
    "MB_umu_b_f = np.interp(MB_ue_f,MB_ue_b,MB_umu_b)\n",
    "MB_umu_t_f = np.interp(MB_ue_f,MB_ue_t,MB_umu_t)\n",
    "ax.fill_between(MB_ue_f,MB_umu_b_f,MB_umu_t_f,facecolor=SB_COLOR,alpha=0.5,lw=0)\n",
    "ax.fill_between(MB_ue_f,MB_umu_b_f,MB_umu_t_f,edgecolor='black',facecolor='None',lw=0.6)\n",
    "\n",
    "y,x = np.genfromtxt(DentlerPath+'right_LSND.dat',unpack=True)\n",
    "yl,xl = np.genfromtxt(DentlerPath+'left_LSND.dat',unpack=True)\n",
    "x_f=np.logspace( np.log10(np.min([xl])), np.log10(np.max([xl])), 100)\n",
    "y_f = np.interp(x_f,x,y)\n",
    "yl_f = np.interp(x_f,xl,yl)\n",
    "ax.fill_betweenx(x_f,yl_f,y_f,facecolor=SB_COLOR,alpha=0.5,lw=0)\n",
    "ax.fill_betweenx(x_f,y_f,yl_f,edgecolor='black',facecolor='None',lw=0.6)\n",
    "\n",
    "x,y = np.genfromtxt(DentlerPath+'bottom_combined.dat',unpack=True)\n",
    "xl,yl = np.genfromtxt(DentlerPath+'top_combined.dat',unpack=True)\n",
    "x_f=np.logspace( np.log10(np.min([x])), np.log10(np.max([x])), 100)\n",
    "y_f = np.interp(x_f,x,y)\n",
    "yl_f = np.interp(x_f,xl,yl)\n",
    "ax.fill_between(x_f,y_f,yl_f,facecolor='None',edgecolor='orange',\n",
    "                hatch='/////////////////////////////////////////',alpha=0.7,lw=0,zorder=10)\n",
    "ax.fill_between(x_f,y_f,yl_f,edgecolor='black',facecolor='None',lw=0.6,zorder=10)\n",
    "\n",
    "\n",
    "\n",
    "X,Y = np.meshgrid(UE4SQR,UMU4SQR)\n",
    "# ax.contourf(X,Y,LK, [chi2.ppf(0.90, dofK),1e100], colors=['black'],alpha=0.1, linewidths=[0.1])\n",
    "# ax.contour(X,Y,L, 20, color='black')\n",
    "\n",
    "# ax.contourf(X,Y,LB, [chi2.ppf(0.90, dofB),1e100], colors=['black'],alpha=0.1, linewidths=[0.1])\n",
    "\n",
    "# Z = LB\n",
    "# pcm = ax.pcolor(X, Y, Z,\n",
    "#                    norm=colors.LogNorm(vmin=Z.min(), vmax=Z.max()),\n",
    "#                    cmap='PuBu_r')# ax.contour(X,Y,L, 20, color='black')\n",
    "# fig.colorbar(pcm, ax=ax, extend='max')\n",
    "\n",
    "c2=ax.contour(X,Y,LS, [chi2.ppf(0.99, 2)], linestyles=['--'],colors=['dodgerblue'],linewidths=[1.0], ls='--',label=r'SuperK-IV')\n",
    "c3=ax.contour(X,Y,LB, [chi2.ppf(0.99, 12)], linestyles=['--'],colors=['indigo'],linewidths=[1.0],label=r'Borexino')\n",
    "c1=ax.contour(X,Y,LK, [chi2.ppf(0.99, 6)], linestyles=['--'],colors=['forestgreen'],linewidths=[1.0],label=r'KamLAND 11')\n",
    "c4=ax.contour(X,Y,LK21, [chi2.ppf(0.99, 3)], linestyles=['-'],colors=['magenta'],linewidths=[1.0],label=r'KamLAND 21')\n",
    "c2.collections[0].set_dashes([(0, (5.0, 1.0))])\n",
    "c3.collections[0].set_dashes([(0, (2.0, 1.0))])\n",
    "c1.collections[0].set_dashes([(0, (8.0, 1.0))])\n",
    "h1,_ = c1.legend_elements()\n",
    "h2,_ = c2.legend_elements()\n",
    "h3,_ = c3.legend_elements()\n",
    "h4,_ = c4.legend_elements()\n",
    "ax.legend([h4[0], h1[0], h2[0],h3[0]], ['KamLAND 2021', 'KamLAND 2011', 'SuperK-IV','Borexino',],loc='upper right', frameon=False,fontsize=9)\n",
    "\n",
    "# ax.clear()\n",
    "# ax.set_xscale('log')\n",
    "# ax.set_yscale('log')\n",
    "##############\n",
    "# STYLE\n",
    "if params.model == const.VECTOR:\n",
    "\tboson_string = r'$m_{Z^\\prime}$'\n",
    "\tboson_file = 'vector'\n",
    "elif params.model == const.SCALAR:\n",
    "\tboson_string = r'$m_\\phi$'\n",
    "\tboson_file = 'scalar'\n",
    "\n",
    "ax.set_title(r'$m_4 \\Gamma_4 = 10$ eV$^2$, \\, $m_4 = %.0f$ eV,\\, '%(100)+boson_string+r'$/m_4 = %.1f$'%(params.mBOSON/params.m4), fontsize=9)\n",
    "ax.annotate(r'MiniBooNE',xy=(0.7,0.036),xycoords='axes fraction',color='black',fontsize=9,rotation=0)\n",
    "ax.annotate(r'LSND',xy=(0.4,0.53),xycoords='axes fraction',color='black',fontsize=8,rotation=0)\n",
    "ax.annotate(r'\\noindent All w/o cosmo',xy=(0.13,0.04),xycoords='axes fraction',color='black',fontsize=8,rotation=0,zorder=10)\n",
    "\n",
    "\n",
    "ax.fill_between(np.linspace(9e-3,0.1,100),0.7e-3*np.ones(100),-0.05e-3*np.ones(100),\n",
    "                lw=0.0,fc='None',ec='darkgreen',\n",
    "                hatch='//////////////////////////////////////',zorder=2)\n",
    "ax.annotate(r'Reactors preferred',xy=(0.023,0.13e-3),\n",
    "                xycoords='data',color='white',fontsize=7.5,rotation=0)\n",
    "\n",
    "\n",
    "x,y = np.genfromtxt(DentlerPath+'KARMEN.dat',unpack=True)\n",
    "ax.plot(x,y,lw=0.8,color='gray',dashes=(1,1))\n",
    "x,y = np.genfromtxt(DentlerPath+'OPERA.dat',unpack=True)\n",
    "ax.plot(x,y,lw=0.8,color='gray',dashes=(1,1))\n",
    "ax.vlines(0.031,-1,1,lw=1.0, ls=':',color='black',zorder=-1)\n",
    "ax.annotate(r'OPERA',xy=(0.04,0.0083), \n",
    "            xycoords='data',color='grey',fontsize=8,rotation=0)\n",
    "ax.annotate(r'KARMEN',xy=(0.0145,0.0030), \n",
    "            xycoords='data',color='grey',fontsize=8,rotation=-78)\n",
    "ax.annotate(r'$\\beta$ decay',xy=(0.0315,0.0043), \n",
    "            xycoords='data',color='grey',fontsize=8,rotation=-90)\n",
    "ax.annotate(r'\\noindent 99\\% C.L. \\\\\\noindent excluded', \n",
    "            fontsize=0.9*fsize, xy=(1.2,0.2), xytext=(0.3,0.75),xycoords='axes fraction', color='magenta')\n",
    "\n",
    "ax.annotate(r'', fontsize=fsize, xy=(0.02,0.0175), xytext=(0.0056,0.0175), xycoords='data' ,zorder=1000, color='magenta',\n",
    "arrowprops=dict(arrowstyle=\"-|>\", mutation_scale=5, color='magenta', lw = 0.8))\n",
    "\n",
    "\n",
    "ax.set_xlim(0,0.05)\n",
    "ax.set_ylim(0,0.02)\n",
    "ax.set_yticks([0,0.005,0.01,0.015,0.02])\n",
    "ax.set_xlabel(r'$|U_{e 4}|^2$')\n",
    "ax.set_ylabel(r'$|U_{\\mu 4}|^2$')\n",
    "fig.savefig('plots/limits_MN_%.0f_MB_%.0f_v2.pdf'%(params.m4*1e9,params.mBOSON*1e9),rasterized=True)\n",
    "fig.show()"
   ]
  },
  {
   "cell_type": "code",
   "execution_count": null,
   "metadata": {},
   "outputs": [],
   "source": []
  }
 ],
 "metadata": {
  "kernelspec": {
   "display_name": "Python 3",
   "language": "python",
   "name": "python3"
  },
  "language_info": {
   "codemirror_mode": {
    "name": "ipython",
    "version": 3
   },
   "file_extension": ".py",
   "mimetype": "text/x-python",
   "name": "python",
   "nbconvert_exporter": "python",
   "pygments_lexer": "ipython3",
   "version": "3.9.5"
  }
 },
 "nbformat": 4,
 "nbformat_minor": 2
}
