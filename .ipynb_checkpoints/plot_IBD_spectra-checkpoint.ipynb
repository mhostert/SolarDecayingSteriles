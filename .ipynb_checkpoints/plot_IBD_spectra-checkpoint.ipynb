{
 "cells": [
  {
   "cell_type": "markdown",
   "id": "atmospheric-accommodation",
   "metadata": {},
   "source": [
    "## IBD spectra for different experiments\n",
    "\n",
    "This notebook plots the IBD spectra for Borexino, SK-IV, and KamLAND"
   ]
  },
  {
   "cell_type": "code",
   "execution_count": 47,
   "id": "correct-aggregate",
   "metadata": {},
   "outputs": [
    {
     "name": "stdout",
     "output_type": "stream",
     "text": [
      "The autoreload extension is already loaded. To reload it, use:\n",
      "  %reload_ext autoreload\n"
     ]
    }
   ],
   "source": [
    "%load_ext autoreload\n",
    "%autoreload 2"
   ]
  },
  {
   "cell_type": "code",
   "execution_count": 48,
   "id": "devoted-ancient",
   "metadata": {},
   "outputs": [],
   "source": [
    "import numpy as np\n",
    "import matplotlib \n",
    "import matplotlib.pyplot as plt\n",
    "from matplotlib import rc, rcParams\n",
    "from matplotlib.pyplot import *\n",
    "from matplotlib.legend_handler import HandlerLine2D\n",
    "\n",
    "import vegas\n",
    "import gvar as gv\n",
    "\n",
    "from source import *"
   ]
  },
  {
   "cell_type": "code",
   "execution_count": 153,
   "id": "organizational-petroleum",
   "metadata": {},
   "outputs": [],
   "source": [
    "############\n",
    "# DECAY MODEL PARAMETERS\n",
    "params = model.decay_model_params(const.SCALAR)\n",
    "params.gx\t\t= 1.0\n",
    "params.Ue4\t\t= np.sqrt(2e-2)\n",
    "params.Umu4\t\t= np.sqrt(1e-3)\n",
    "params.Utau4\t= np.sqrt(1e-3)*0\n",
    "params.UD4\t\t= np.sqrt(1.0-params.Ue4*params.Ue4-params.Umu4*params.Umu4)\n",
    "params.m4\t\t= 300e-9 # GeV\n",
    "# params.mBOSON   = 0.1*params.m4 # GeV\n",
    "\n",
    "fluxfile = \"fluxes/b8spectrum.txt\"\n",
    "xsfile=\"xsecs/IBD_160106169/TCS_CC_anue_p_1026_SV.txt\""
   ]
  },
  {
   "cell_type": "code",
   "execution_count": 154,
   "id": "failing-spare",
   "metadata": {},
   "outputs": [],
   "source": [
    "############\n",
    "# NUMU FLUX\n",
    "flux = fluxes.get_neutrino_flux(fluxfile)\n",
    "############\n",
    "# NUE/BAR XS\n",
    "xsec = lambda x : np.zeros(np.size(x)) \n",
    "xsecbar = xsecs.get_IBD(xsfile)\n",
    "exp = exps.borexino_limit()\n",
    "expdata = exps.borexino_data()"
   ]
  },
  {
   "cell_type": "code",
   "execution_count": 156,
   "id": "significant-conspiracy",
   "metadata": {},
   "outputs": [],
   "source": [
    "rates.NEVALwarmup = 5e3\n",
    "rates.NEVAL = 1e5"
   ]
  },
  {
   "cell_type": "markdown",
   "id": "alpha-injury",
   "metadata": {},
   "source": [
    "### BOREXINO\n"
   ]
  },
  {
   "cell_type": "code",
   "execution_count": 52,
   "id": "solid-stockholm",
   "metadata": {},
   "outputs": [
    {
     "name": "stdout",
     "output_type": "stream",
     "text": [
      "Filling the bins in borexino\n",
      "Filling the bins in borexino\n",
      "Filling the bins in borexino\n"
     ]
    }
   ],
   "source": [
    "# large mixing\n",
    "params.Ue4 = np.sqrt(2e-2)\n",
    "\n",
    "params.mBOSON  = 0.1*params.m4 # GeV\n",
    "_ = spectrum_plots.borexino(params,fluxfile,xsfile)\n",
    "\n",
    "params.mBOSON  = 0.5*params.m4 # GeV\n",
    "_ = spectrum_plots.borexino(params,fluxfile,xsfile)\n",
    "\n",
    "params.mBOSON  = 0.9*params.m4 # GeV\n",
    "_ = spectrum_plots.borexino(params,fluxfile,xsfile)"
   ]
  },
  {
   "cell_type": "markdown",
   "id": "drawn-lawyer",
   "metadata": {},
   "source": [
    "### KamLAND"
   ]
  },
  {
   "cell_type": "code",
   "execution_count": null,
   "id": "caroline-mileage",
   "metadata": {},
   "outputs": [
    {
     "name": "stdout",
     "output_type": "stream",
     "text": [
      "Filling the bins in kamland\n"
     ]
    }
   ],
   "source": [
    "# lower mixing\n",
    "params.Ue4 = np.sqrt(1e-3)\n",
    "\n",
    "params.mBOSON  = 0.1*params.m4 # GeV\n",
    "_ = spectrum_plots.kamland(params,fluxfile,xsfile)\n",
    "\n",
    "params.mBOSON  = 0.5*params.m4 # GeV\n",
    "_ = spectrum_plots.kamland(params,fluxfile,xsfile)\n",
    "\n",
    "params.mBOSON  = 0.9*params.m4 # GeV\n",
    "_ = spectrum_plots.kamland(params,fluxfile,xsfile)"
   ]
  },
  {
   "cell_type": "markdown",
   "id": "warming-slave",
   "metadata": {},
   "source": [
    "# Kamland 2021"
   ]
  },
  {
   "cell_type": "code",
   "execution_count": 152,
   "id": "cloudy-gospel",
   "metadata": {},
   "outputs": [
    {
     "name": "stdout",
     "output_type": "stream",
     "text": [
      "Filling the bins in kamland21\n",
      "Filling the bins in kamland21\n",
      "Filling the bins in kamland21\n"
     ]
    }
   ],
   "source": [
    "# lower mixing\n",
    "params.Ue4 = np.sqrt(1e-3)\n",
    "\n",
    "params.mBOSON  = 0.1*params.m4 # GeV\n",
    "_ = spectrum_plots.kamland_21(params,fluxfile,xsfile)\n",
    "\n",
    "params.mBOSON  = 0.5*params.m4 # GeV\n",
    "_ = spectrum_plots.kamland_21(params,fluxfile,xsfile)\n",
    "\n",
    "params.mBOSON  = 0.9*params.m4 # GeV\n",
    "_ = spectrum_plots.kamland_21(params,fluxfile,xsfile)"
   ]
  },
  {
   "cell_type": "code",
   "execution_count": 137,
   "id": "happy-juice",
   "metadata": {},
   "outputs": [
    {
     "data": {
      "text/plain": [
       "(array([6.9984326 , 1.01097179, 1.01097179, 1.01097179, 2.02194358,\n",
       "        1.01880878, 2.01410658, 1.01880878, 0.        , 0.        ,\n",
       "        1.01880878]),\n",
       " array([ 9.3, 11.3, 13.3, 15.3, 17.3, 19.3, 21.3, 23.3, 25.3, 27.3]))"
      ]
     },
     "execution_count": 137,
     "metadata": {},
     "output_type": "execute_result"
    }
   ],
   "source": [
    "mye.data, mye.bin_c"
   ]
  },
  {
   "cell_type": "code",
   "execution_count": 142,
   "id": "leading-enough",
   "metadata": {},
   "outputs": [
    {
     "data": {
      "text/plain": [
       "[<matplotlib.lines.Line2D at 0x1323b3070>]"
      ]
     },
     "execution_count": 142,
     "metadata": {},
     "output_type": "execute_result"
    },
    {
     "data": {
      "image/png": "[encoded data removed]",
      "text/plain": [
       "<Figure size 372.96x255.064 with 1 Axes>"
      ]
     },
     "metadata": {
      "needs_background": "light"
     },
     "output_type": "display_data"
    }
   ],
   "source": [
    "mye = exps.kamland21_data()\n",
    "\n",
    "plt.plot(mye.bin_c,mye.data)"
   ]
  },
  {
   "cell_type": "markdown",
   "id": "fitting-worker",
   "metadata": {},
   "source": [
    "### SuperK IV -- outdated"
   ]
  },
  {
   "cell_type": "code",
   "execution_count": 31,
   "id": "substantial-providence",
   "metadata": {},
   "outputs": [
    {
     "name": "stdout",
     "output_type": "stream",
     "text": [
      "Filling the bins in SUPERK_IV\n",
      "Filling the bins in SUPERK_IV\n",
      "Filling the bins in SUPERK_IV\n"
     ]
    }
   ],
   "source": [
    "# lower mixing\n",
    "params.Ue4 = np.sqrt(1e-2)\n",
    "\n",
    "params.mBOSON  = 0.1*params.m4 # GeV\n",
    "_ = spectrum_plots.superk_outdated(params,fluxfile,xsfile)\n",
    "params.mBOSON  = 0.5*params.m4 # GeV\n",
    "_ = spectrum_plots.superk_outdated(params,fluxfile,xsfile)\n",
    "params.mBOSON  = 0.9*params.m4 # GeV\n",
    "_ = spectrum_plots.superk_outdated(params,fluxfile,xsfile)\n"
   ]
  },
  {
   "cell_type": "markdown",
   "id": "classified-bidding",
   "metadata": {},
   "source": [
    "### SuperK IV -- new"
   ]
  },
  {
   "cell_type": "code",
   "execution_count": 74,
   "id": "abstract-dodge",
   "metadata": {},
   "outputs": [
    {
     "name": "stdout",
     "output_type": "stream",
     "text": [
      "Filling the bins in SUPERK_IV\n",
      "Filling the bins in SUPERK_IV\n",
      "Filling the bins in SUPERK_IV\n"
     ]
    }
   ],
   "source": [
    "# lower mixing\n",
    "params.Ue4 = np.sqrt(1e-3)\n",
    "\n",
    "params.mBOSON  = 0.1*params.m4 # GeV\n",
    "_ = spectrum_plots.superk(params, fluxfile, xsfile)\n",
    "params.mBOSON  = 0.5*params.m4 # GeV\n",
    "_ = spectrum_plots.superk(params, fluxfile, xsfile)\n",
    "params.mBOSON  = 0.9*params.m4 # GeV\n",
    "_ = spectrum_plots.superk(params, fluxfile, xsfile)\n"
   ]
  }
 ],
 "metadata": {
  "kernelspec": {
   "display_name": "Python 3",
   "language": "python",
   "name": "python3"
  },
  "language_info": {
   "codemirror_mode": {
    "name": "ipython",
    "version": 3
   },
   "file_extension": ".py",
   "mimetype": "text/x-python",
   "name": "python",
   "nbconvert_exporter": "python",
   "pygments_lexer": "ipython3",
   "version": "3.9.5"
  }
 },
 "nbformat": 4,
 "nbformat_minor": 5
}
