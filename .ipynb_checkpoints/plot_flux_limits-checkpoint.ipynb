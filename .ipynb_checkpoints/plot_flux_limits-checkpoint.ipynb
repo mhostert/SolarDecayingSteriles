{
 "cells": [
  {
   "cell_type": "code",
   "execution_count": 1,
   "metadata": {},
   "outputs": [],
   "source": [
    "%load_ext autoreload\n",
    "%autoreload 2"
   ]
  },
  {
   "cell_type": "code",
   "execution_count": 2,
   "metadata": {},
   "outputs": [],
   "source": [
    "import numpy as np\n",
    "from scipy import interpolate\n",
    "import matplotlib \n",
    "import matplotlib.pyplot as plt\n",
    "from matplotlib import rc, rcParams\n",
    "from matplotlib.pyplot import *\n",
    "\n",
    "import vegas\n",
    "import gvar as gv\n",
    "\n",
    "from source import *"
   ]
  },
  {
   "cell_type": "code",
   "execution_count": 29,
   "metadata": {},
   "outputs": [],
   "source": [
    "############################################################\n",
    "# integration evaluations\n",
    "rates.NEVALwarmup = 1e6\n",
    "rates.NEVAL = 1e6\n",
    "\n",
    "###########\n",
    "# NUMU FLUX\n",
    "fluxfile = \"fluxes/b8spectrum.txt\"\n",
    "flux = fluxes.get_neutrino_flux(fluxfile)\n",
    "\n",
    "############\n",
    "# NUE/BAR XS\n",
    "xsfile=\"xsecs/IBD_160106169/TCS_CC_anue_p_1026_SV.txt\"\n",
    "xsec = lambda x : np.zeros(np.size(x)) \n",
    "xsecbar = lambda x: np.ones(np.size(x))*1e-38\n",
    "\n",
    "bins = np.linspace(0.0,14.5,50)\n",
    "dx = (bins[1:] - bins[:-1])\n",
    "bin_c = bins[:-1] + dx/2.0\n",
    "\n",
    "#############\n",
    "# efficiencies\n",
    "enu_eff= bins\n",
    "eff= np.ones((np.size(bins)-1))\n",
    "identity = lambda TTT : TTT\n"
   ]
  },
  {
   "cell_type": "code",
   "execution_count": 5,
   "metadata": {},
   "outputs": [
    {
     "name": "stderr",
     "output_type": "stream",
     "text": [
      "/Users/matheushostert/Repos/solar-neutrino-visible-decays/source/const.py:121: RuntimeWarning: invalid value encountered in sqrt\n",
      "  p = E*np.sqrt(1.0 - (m/E)**2)\n"
     ]
    },
    {
     "name": "stdout",
     "output_type": "stream",
     "text": [
      "itn   integral         wgt average       chi2/dof        Q\n",
      "----------------------------------------------------------\n",
      "  1   1.429570(34)e-35 1.429570(34)e-35      0.00     1.00\n",
      "  2   1.429559(33)e-35 1.429564(23)e-35      0.90     0.67\n",
      "  3   1.429512(33)e-35 1.429548(19)e-35      0.97     0.55\n",
      "  4   1.429521(33)e-35 1.429541(17)e-35      0.92     0.76\n",
      "  5   1.429602(34)e-35 1.429551(15)e-35      0.92     0.79\n",
      "  6   1.429566(34)e-35 1.429554(14)e-35      0.89     0.90\n",
      "  7   1.429586(34)e-35 1.429558(13)e-35      0.84     0.98\n",
      "  8   1.429642(34)e-35 1.429568(12)e-35      0.85     0.98\n",
      "  9   1.429548(35)e-35 1.429566(11)e-35      0.86     0.98\n",
      " 10   1.429469(36)e-35 1.429557(11)e-35      0.91     0.92\n",
      " 11   1.429539(35)e-35 1.429555(10)e-35      0.93     0.87\n",
      " 12   1.429554(35)e-35 1.4295548(98)e-35     0.95     0.80\n",
      " 13   1.429527(35)e-35 1.4295526(94)e-35     0.93     0.89\n",
      " 14   1.429567(35)e-35 1.4295536(91)e-35     0.96     0.79\n",
      " 15   1.429583(36)e-35 1.4295554(88)e-35     0.95     0.81\n",
      " 16   1.429526(36)e-35 1.4295536(86)e-35     0.95     0.84\n",
      " 17   1.429553(37)e-35 1.4295536(84)e-35     0.94     0.88\n",
      " 18   1.429532(36)e-35 1.4295523(81)e-35     0.95     0.83\n",
      " 19   1.429532(37)e-35 1.4295513(79)e-35     0.96     0.80\n",
      " 20   1.429515(38)e-35 1.4295498(78)e-35     0.96     0.83\n",
      "\n",
      "   I = 1.4295498(78)e-35\n",
      "dI/I = [0.053527(18) 0.055668(25) 0.055636(26) 0.055155(27) 0.054387(28)\n",
      " 0.053251(28) 0.051801(28) 0.050317(28) 0.048360(27) 0.046390(26)\n",
      " 0.044226(26) 0.041936(25) 0.039592(25) 0.037122(24) 0.034666(24)\n",
      " 0.032195(23) 0.029729(23) 0.027296(22) 0.024899(21) 0.022603(21)\n",
      " 0.020375(20) 0.018230(19) 0.016176(19) 0.014332(18) 0.012486(17)\n",
      " 0.010845(16) 0.009339(15) 0.007902(15) 0.006668(14) 0.005537(13)\n",
      " 0.004572(12) 0.003628(11) 0.0029258(99) 0.0022878(89) 0.0017406(78)\n",
      " 0.0013096(67) 0.0009561(56) 0.0006841(45) 0.0004648(35) 0.0003148(26)\n",
      " 0.0001998(18) 0.0001223(11) 0.00007196(71) 0.00004006(57) 0.00002040(41)\n",
      " 0.00001016(29) 4.18(20)e-06 1.269(93)e-06 6.43(56)e-07]\n",
      "check: 1.4295495(78)e-35\n"
     ]
    }
   ],
   "source": [
    "###########\n",
    "# DECAY MODEL PARAMETERS\n",
    "params = model.decay_model_params(const.SCALAR)\n",
    "params.gx = 1.0\n",
    "params.Ue4 = np.sqrt(0.001)\n",
    "params.Umu4 = np.sqrt(0.001)\n",
    "params.UD4 = np.sqrt(1.0-params.Ue4*params.Ue4-params.Umu4*params.Umu4)\n",
    "params.m4 = 300e-9 # GeV\n",
    "\n",
    "params.mBOSON  = 0.9*params.m4 # GeV\n",
    "NCASCADE, dNCASCADE = rates.RATES_dN_HNL_CASCADE_NU_NUBAR(\\\n",
    "                                        flux=flux,\\\n",
    "                                        xsec=xsec,\\\n",
    "                                        xsecbar=xsecbar,\\\n",
    "                                        dim=3,\\\n",
    "                                        enumin=0,\\\n",
    "                                        enumax=const.Enu_END_OF_SPECTRUM,\\\n",
    "                                        params=params,\\\n",
    "                                        bins=bins,\\\n",
    "                                        PRINT=True,\\\n",
    "                                        enu_eff=enu_eff,\\\n",
    "                                        eff=eff,\n",
    "                                        smearing_function=identity)\n",
    "\n",
    "params.mBOSON  = 0.5*params.m4 # GeV\n",
    "NCASCADE2, dNCASCADE2 = rates.RATES_dN_HNL_CASCADE_NU_NUBAR(\\\n",
    "                                        flux=flux,\\\n",
    "                                        xsec=xsec,\\\n",
    "                                        xsecbar=xsecbar,\\\n",
    "                                        dim=3,\\\n",
    "                                        enumin=0,\\\n",
    "                                        enumax=const.Enu_END_OF_SPECTRUM,\\\n",
    "                                        params=params,\\\n",
    "                                        bins=bins,\\\n",
    "                                        PRINT=False,\\\n",
    "                                        enu_eff=enu_eff,\\\n",
    "                                        eff=eff,\n",
    "                                        smearing_function=identity)\n",
    "\n",
    "params.mBOSON  = 0.1*params.m4 # GeV\n",
    "NCASCADE3, dNCASCADE3 = rates.RATES_dN_HNL_CASCADE_NU_NUBAR(\\\n",
    "                                        flux=flux,\\\n",
    "                                        xsec=xsec,\\\n",
    "                                        xsecbar=xsecbar,\\\n",
    "                                        dim=3,\\\n",
    "                                        enumin=0,\\\n",
    "                                        enumax=const.Enu_END_OF_SPECTRUM,\\\n",
    "                                        params=params,\\\n",
    "                                        bins=bins,\\\n",
    "                                        PRINT=False,\\\n",
    "                                        enu_eff=enu_eff,\\\n",
    "                                        eff=eff,\n",
    "                                        smearing_function=identity)\n"
   ]
  },
  {
   "cell_type": "code",
   "execution_count": 6,
   "metadata": {},
   "outputs": [
    {
     "name": "stdout",
     "output_type": "stream",
     "text": [
      "itn   integral         wgt average      chi2/dof        Q\n",
      "---------------------------------------------------------\n",
      "  1   2.608979(59)e-34 2.608979(59)e-34     0.00     1.00\n",
      "  2   2.609041(60)e-34 2.609008(42)e-34     1.32     0.06\n",
      "  3   2.608840(62)e-34 2.608954(35)e-34     1.44     0.00\n",
      "  4   2.609024(62)e-34 2.608970(30)e-34     1.27     0.01\n",
      "  5   2.608974(64)e-34 2.608970(27)e-34     1.20     0.03\n",
      "  6   2.608989(59)e-34 2.608974(25)e-34     1.18     0.03\n",
      "  7   2.608924(62)e-34 2.608967(23)e-34     1.20     0.01\n",
      "  8   2.608830(65)e-34 2.608951(22)e-34     1.19     0.01\n",
      "  9   2.609093(63)e-34 2.608966(21)e-34     1.17     0.01\n",
      " 10   2.608861(66)e-34 2.608957(20)e-34     1.14     0.02\n",
      " 11   2.608996(65)e-34 2.608959(19)e-34     1.11     0.04\n",
      " 12   2.609050(66)e-34 2.608966(18)e-34     1.10     0.06\n",
      " 13   2.608927(65)e-34 2.608963(17)e-34     1.07     0.12\n",
      " 14   2.608897(66)e-34 2.608959(17)e-34     1.06     0.14\n",
      " 15   2.608787(69)e-34 2.608949(16)e-34     1.04     0.22\n",
      " 16   2.608940(66)e-34 2.608948(16)e-34     1.04     0.24\n",
      " 17   2.608847(67)e-34 2.608943(15)e-34     1.02     0.32\n",
      " 18   2.609013(68)e-34 2.608946(15)e-34     1.03     0.25\n",
      " 19   2.608909(68)e-34 2.608944(15)e-34     1.03     0.28\n",
      " 20   2.608810(70)e-34 2.608939(14)e-34     1.00     0.51\n",
      "\n",
      "   I = 2.608939(14)e-34\n",
      "dI/I = [0.053783(18) 0.056178(25) 0.056176(26) 0.055795(27) 0.055061(28)\n",
      " 0.053856(29) 0.052352(28) 0.050792(28) 0.048736(27) 0.046721(27)\n",
      " 0.044407(26) 0.042059(26) 0.039553(25) 0.037070(24) 0.034536(24)\n",
      " 0.031978(23) 0.029451(23) 0.027024(22) 0.024563(21) 0.022253(21)\n",
      " 0.020014(20) 0.017891(19) 0.015861(18) 0.013981(18) 0.012190(17)\n",
      " 0.010542(16) 0.009071(15) 0.007663(14) 0.006480(13) 0.005337(13)\n",
      " 0.004412(12) 0.003527(11) 0.0028093(97) 0.0021877(87) 0.0016811(76)\n",
      " 0.0012417(65) 0.0009219(55) 0.0006493(44) 0.0004474(34) 0.0002986(25)\n",
      " 0.0001926(17) 0.0001180(10) 0.00006989(73) 0.00003648(53) 0.00001940(42)\n",
      " 9.25(29)e-06 3.49(17)e-06 1.257(91)e-06 4.01(37)e-07]\n",
      "check: 2.608938(14)e-34\n"
     ]
    }
   ],
   "source": [
    "###################################3\n",
    "params.Ue4\t\t= np.sqrt(0.01)\n",
    "params.mBOSON  = 0.9*params.m4 # GeV\n",
    "NCASCADE_001, dNCASCADE_001 = rates.RATES_dN_HNL_CASCADE_NU_NUBAR(\\\n",
    "                                        flux=flux,\\\n",
    "                                        xsec=xsec,\\\n",
    "                                        xsecbar=xsecbar,\\\n",
    "                                        dim=3,\\\n",
    "                                        enumin=0,\\\n",
    "                                        enumax=const.Enu_END_OF_SPECTRUM,\\\n",
    "                                        params=params,\\\n",
    "                                        bins=bins,\\\n",
    "                                        PRINT=True,\\\n",
    "                                        enu_eff=enu_eff,\\\n",
    "                                        eff=eff,\n",
    "                                        smearing_function=identity)\n",
    "\n",
    "params.mBOSON  = 0.5*params.m4 # GeV\n",
    "NCASCADE2_001, dNCASCADE2_001 = rates.RATES_dN_HNL_CASCADE_NU_NUBAR(\\\n",
    "                                        flux=flux,\\\n",
    "                                        xsec=xsec,\\\n",
    "                                        xsecbar=xsecbar,\\\n",
    "                                        dim=3,\\\n",
    "                                        enumin=0,\\\n",
    "                                        enumax=const.Enu_END_OF_SPECTRUM,\\\n",
    "                                        params=params,\\\n",
    "                                        bins=bins,\\\n",
    "                                        PRINT=False,\\\n",
    "                                        enu_eff=enu_eff,\\\n",
    "                                        eff=eff,\n",
    "                                        smearing_function=identity)\n",
    "\n",
    "params.mBOSON  = 0.1*params.m4 # GeV\n",
    "NCASCADE3_001, dNCASCADE3_001 = rates.RATES_dN_HNL_CASCADE_NU_NUBAR(\\\n",
    "                                        flux=flux,\\\n",
    "                                        xsec=xsec,\\\n",
    "                                        xsecbar=xsecbar,\\\n",
    "                                        dim=3,\\\n",
    "                                        enumin=0,\\\n",
    "                                        enumax=const.Enu_END_OF_SPECTRUM,\\\n",
    "                                        params=params,\\\n",
    "                                        bins=bins,\\\n",
    "                                        PRINT=False,\\\n",
    "                                        enu_eff=enu_eff,\\\n",
    "                                        eff=eff,\n",
    "                                        smearing_function=identity)\n"
   ]
  },
  {
   "cell_type": "code",
   "execution_count": 7,
   "metadata": {},
   "outputs": [],
   "source": [
    "## Getting the flux limits from digitzed data"
   ]
  },
  {
   "cell_type": "code",
   "execution_count": 279,
   "metadata": {},
   "outputs": [],
   "source": [
    "exp = exps.borexino_limit()\n",
    "Bbin_c = exp.Enu_bin_c\n",
    "Bbin_w = exp.Enu_bin_w\n",
    "Bbin_e = exp.Enu_bin_e\n",
    "Bfluxlimit = exp.fluxlimit\n",
    "BfluxlimitATM = exp.fluxlimitATM\n",
    "\n",
    "exp2 = exps.kamland_limit()\n",
    "Kbin_c = exp2.Enu_bin_c\n",
    "Kbin_w = exp2.Enu_bin_w\n",
    "Kbin_e = exp2.Enu_bin_e\n",
    "Kfluxlimit = exp2.fluxlimit\n",
    "\n",
    "exp3 = exps.superk_limit()\n",
    "Sbin_c = exp3.Enu_bin_c\n",
    "Sbin_w = exp3.Enu_bin_w\n",
    "Sbin_e = exp3.Enu_bin_e\n",
    "Sfluxlimit = exp3.fluxlimit\n",
    "\n",
    "\n",
    "exp4 = exps.kamland21_limit()\n",
    "K21_bin_c = exp4.Enu_bin_c\n",
    "K21_bin_w = exp4.Enu_bin_w\n",
    "K21_bin_e = exp4.Enu_bin_e\n",
    "K21_fluxlimit = exp4.fluxlimit\n",
    "\n",
    "exp5 = exps.superk15_limit()\n",
    "S15_bin_c = exp5.Enu_bin_c\n",
    "S15_bin_w = exp5.Enu_bin_w\n",
    "S15_bin_e = exp5.Enu_bin_e\n",
    "S15_fluxlimit = exp5.fluxlimit\n"
   ]
  },
  {
   "cell_type": "code",
   "execution_count": 11,
   "metadata": {
    "scrolled": true
   },
   "outputs": [
    {
     "name": "stdout",
     "output_type": "stream",
     "text": [
      "Filling the bins in SUPERK_IV\n"
     ]
    }
   ],
   "source": []
  },
  {
   "cell_type": "code",
   "execution_count": 28,
   "metadata": {},
   "outputs": [
    {
     "name": "stdout",
     "output_type": "stream",
     "text": [
      "Filling the bins in SUPERK_IV\n"
     ]
    },
    {
     "data": {
      "text/plain": [
       "(0.0, 49.53540569805299)"
      ]
     },
     "execution_count": 28,
     "metadata": {},
     "output_type": "execute_result"
    },
    {
     "data": {
      "image/png": "[encoded data removed]",
      "text/plain": [
       "<Figure size 319.68x238.059 with 1 Axes>"
      ]
     },
     "metadata": {
      "needs_background": "light"
     },
     "output_type": "display_data"
    }
   ],
   "source": [
    "MYEXP = exps.superk_data()\n",
    "bins_end, NP_MC, back_MC, D = rates.fill_bins_B8_spectrum(MYEXP,fluxfile,endpoint=1e100,startpoint=0)\n",
    "bins_c = const.get_centers(bins_end)\n",
    "plt.scatter(bin_c,D, c='black', s=10, label='data')\n",
    "plt.step(bin_c,MYEXP.MCallbkg, where ='mid', label='bkg')\n",
    "plt.step(bin_c,MYEXP.MCall, where ='mid', label='bkg+best-fit')\n",
    "plt.step(bin_c,MYEXP.MCallbkg+NP_MC*8e-5, where ='mid', label='NP best-fit')\n",
    "# plt.step(bin_c,back_MC+NP_MC*3.6e-4, where ='mid', label='NP')\n",
    "\n",
    "plt.legend(loc=\"upper right\")\n",
    "# plt.xlim(8,16)\n",
    "plt.ylim(0,)"
   ]
  },
  {
   "cell_type": "code",
   "execution_count": 186,
   "metadata": {},
   "outputs": [
    {
     "name": "stdout",
     "output_type": "stream",
     "text": [
      "Filling the bins in SUPERK_IV\n"
     ]
    }
   ],
   "source": [
    "Nbins_end, NNP_MC, Nback_MC, ND = rates.fill_bins_flat( exps.superk_data(), flux_value =1)\n",
    "Nbins_c = const.get_centers(Nbins_end)\n",
    "Nflux_limit=[]\n",
    "for i in range(len(NNP_MC)):\n",
    "    Nflux_limit.append(stats.get_model_indep_bound_flux(NNP_MC[i], Nback_MC[i], ND[i], err_flux=0.2, err_bkg=0.1, CL=0.90))\n",
    "    \n",
    "    \n",
    "for i in range(len(NNP_MC)):\n",
    "    new_bound = stats.get_model_indep_bound_flux_FC(NNP_MC[i], Nback_MC[i], ND[i], CL=0.90)\n",
    "\n",
    "    if (ND[i] < 5 or (Nflux_limit[i] != Nflux_limit[i])):\n",
    "        Nflux_limit[i] = new_bound\n",
    "        "
   ]
  },
  {
   "cell_type": "code",
   "execution_count": 195,
   "metadata": {},
   "outputs": [
    {
     "name": "stdout",
     "output_type": "stream",
     "text": [
      "Filling the bins in SUPERK_IV_DEPRECATED\n"
     ]
    }
   ],
   "source": [
    "bins_end_old, NP_MC, back_MC, D = rates.fill_bins_flat(exps.superk_outdated_data(), flux_value =1)\n",
    "bins_c_old = const.get_centers(bins_end_old)\n",
    "flux_limit_old=[]\n",
    "\n",
    "for i in range(len(NP_MC)):\n",
    "    flux_limit_old.append(stats.get_model_indep_bound_flux(NP_MC[i], back_MC[i], D[i], err_flux=0.1, err_bkg=0.1))\n",
    "    \n",
    "# for i in range(len(NP_MC)):\n",
    "#     new_bound = stats.get_model_indep_bound_flux_FC(NP_MC[i], back_MC[i], D[i], err_flux=0.1, err_bkg=0.1)\n",
    "\n",
    "#     if (D[i] < 5 or (flux_limit_old[i] != flux_limit_old[i])):\n",
    "#         flux_limit_old[i] = new_bound\n",
    "        \n"
   ]
  },
  {
   "cell_type": "code",
   "execution_count": 188,
   "metadata": {},
   "outputs": [
    {
     "name": "stdout",
     "output_type": "stream",
     "text": [
      "Filling the bins in borexino\n"
     ]
    }
   ],
   "source": [
    "bins_end_bor, NP_MC, back_MC, D = rates.fill_bins_flat(exps.borexino_data(), flux_value =1)\n",
    "bins_c_bor = const.get_centers(bins_end_bor)\n",
    "flux_limit_bor=[]\n",
    "for i in range(len(NP_MC)):\n",
    "    flux_limit_bor.append(stats.get_model_indep_bound_flux(NP_MC[i], back_MC[i], D[i], err_flux=0.1, err_bkg=0.1))\n",
    "\n",
    "for i in range(len(NP_MC)):\n",
    "    new_bound = stats.get_model_indep_bound_flux_FC(NP_MC[i], back_MC[i], D[i], err_flux=0.1, err_bkg=0.1)\n",
    "    if (D[i] < 1 or (flux_limit_bor[i] != flux_limit_bor[i])):\n",
    "        flux_limit_bor[i] = new_bound"
   ]
  },
  {
   "cell_type": "code",
   "execution_count": 189,
   "metadata": {},
   "outputs": [
    {
     "name": "stdout",
     "output_type": "stream",
     "text": [
      "Filling the bins in kamland\n"
     ]
    }
   ],
   "source": [
    "Kbins_end, KNP_MC, Kback_MC, KD = rates.fill_bins_flat( exps.kamland_data(), flux_value =1)\n",
    "Kbins_c = const.get_centers(Kbins_end)\n",
    "Kflux_limit=[]\n",
    "for i in range(len(KNP_MC)):\n",
    "    Kflux_limit.append(stats.get_model_indep_bound_flux(KNP_MC[i], Kback_MC[i], KD[i], err_flux=0.1, err_bkg=0.1, CL=0.90))\n",
    "    \n",
    "    \n",
    "for i in range(len(KNP_MC)):\n",
    "    new_bound = stats.get_model_indep_bound_flux_FC(KNP_MC[i], Kback_MC[i], KD[i], CL=0.90)\n",
    "\n",
    "    if (KD[i] < 5 or (Kflux_limit[i] != Kflux_limit[i])):\n",
    "        Kflux_limit[i] = new_bound\n",
    "        "
   ]
  },
  {
   "cell_type": "code",
   "execution_count": 196,
   "metadata": {},
   "outputs": [
    {
     "data": {
      "text/plain": [
       "(0.1, 100000.0)"
      ]
     },
     "execution_count": 196,
     "metadata": {},
     "output_type": "execute_result"
    },
    {
     "data": {
      "image/png": "[encoded data removed]",
      "text/plain": [
       "<Figure size 319.68x238.059 with 1 Axes>"
      ]
     },
     "metadata": {
      "needs_background": "light"
     },
     "output_type": "display_data"
    }
   ],
   "source": [
    "fig, ax = plot_tools.get_std_fig()\n",
    "x_enu=np.linspace(0,16.3, 100)\n",
    "\n",
    "# ax.scatter( bins_c, flux_limit, c='black', marker='v')\n",
    "\n",
    "ax.scatter( bins_c_old, flux_limit_old, c='darkgreen', marker='v')\n",
    "# ax.plot(x_enu, 1e-4*nuflux(x_enu), c='darkgreen')\n",
    "\n",
    "# ax.scatter( bins_c_bor, flux_limit_bor, c='dodgerblue', marker='v')\n",
    "# ax.plot(x_enu, 7.2e-5*nuflux(x_enu), c='dodgerblue')\n",
    "\n",
    "ax.scatter(Kbins_c, Kflux_limit, c='dodgerblue', marker='v')\n",
    "\n",
    "\n",
    "# ax.fill_between(np.append(Sbin_c-0.5,Sbin_c[-1]+0.5), np.append(Sfluxlimit,1e8), np.ones(np.size(Sbin_c)+1)*1e10, step = 'post', lw=0.0, alpha=0.5, color='darkgreen')\n",
    "ax.fill_between(np.append(Kbin_c-0.5,Kbin_c[-1]+0.5), np.append(Kfluxlimit,1e8), np.ones(np.size(Kbin_c)+1)*1e10, step = 'post', lw=0.0, alpha=0.5, color='indigo')\n",
    "ax.fill_between(np.append(Bbin_c-0.5,Bbin_c[-1]+0.5), np.append(Bfluxlimit,1e8), np.ones(np.size(Bbin_c)+1)*1e10, step = 'post', lw=0.0, alpha=0.5, color='dodgerblue')\n",
    "ax.fill_between(np.append(0.0,np.append(Nbins_c-1,Nbins_c[-1]+1)), np.append(1e8,np.append(Nflux_limit,1e8)), np.ones(np.size(Nbins_c)+2)*1e10, step = 'post', lw=0.0, alpha=0.5, color='orange')\n",
    "\n",
    "ax.step(np.append(0.0,np.append(Sbin_c-0.5,Sbin_c[-1]+0.5)), np.append(1e8,np.append(Sfluxlimit,1e8)), where = 'post', color='darkgreen', lw=0.8)\n",
    "ax.step(np.append(0.0,np.append(Kbin_c-0.5,Kbin_c[-1]+0.5)), np.append(1e8,np.append(Kfluxlimit,1e8)), where = 'post', color='indigo', lw=0.8)\n",
    "ax.step(np.append(0.0,np.append(Bbin_c-0.5,Bbin_c[-1]+0.5)), np.append(1e8,np.append(Bfluxlimit,1e8)), where = 'post', color='blue', lw=0.8)\n",
    "ax.step(np.append(0.0,np.append(Nbins_c-1.0,Nbins_c[-1]+1.0)), np.append(1e8,np.append(Nflux_limit,1e8)), where = 'post', color='orange', lw=0.8)\n",
    "\n",
    "ax.plot(x_enu, 3.6e-4*nuflux(x_enu), c='darkorange')\n",
    "ax.plot(x_enu, 8e-5*nuflux(x_enu), c='darkgreen')\n",
    "\n",
    "plt.yscale(\"log\")\n",
    "plt.xlim(4,18)\n",
    "plt.ylim(0.1,1e5)\n"
   ]
  },
  {
   "cell_type": "code",
   "execution_count": 191,
   "metadata": {},
   "outputs": [
    {
     "data": {
      "text/plain": [
       "array([1.23805873, 1.31766291, 2.01824258, 2.28583023, 3.14963231,\n",
       "       4.42727853, 5.01068599, 7.38915372, 8.23182244, 7.20661477,\n",
       "       5.67385679, 6.69362343, 9.22828129, 8.51514756, 6.73171974,\n",
       "       6.91758853, 9.5109461 , 9.19964319, 7.06741935, 9.38024167,\n",
       "       9.19230681, 7.72514073])"
      ]
     },
     "execution_count": 191,
     "metadata": {},
     "output_type": "execute_result"
    }
   ],
   "source": [
    "flux_limit_old/Sfluxlimit"
   ]
  },
  {
   "cell_type": "code",
   "execution_count": 283,
   "metadata": {},
   "outputs": [
    {
     "ename": "ValueError",
     "evalue": "operands could not be broadcast together with shapes (12,) (11,) ",
     "output_type": "error",
     "traceback": [
      "\u001b[0;31m---------------------------------------------------------------------------\u001b[0m",
      "\u001b[0;31mValueError\u001b[0m                                Traceback (most recent call last)",
      "\u001b[0;32m<ipython-input-283-26e145f6211f>\u001b[0m in \u001b[0;36m<module>\u001b[0;34m\u001b[0m\n\u001b[1;32m     80\u001b[0m \u001b[0;34m\u001b[0m\u001b[0m\n\u001b[1;32m     81\u001b[0m \u001b[0max\u001b[0m\u001b[0;34m.\u001b[0m\u001b[0mfill_between\u001b[0m\u001b[0;34m(\u001b[0m\u001b[0mnp\u001b[0m\u001b[0;34m.\u001b[0m\u001b[0mappend\u001b[0m\u001b[0;34m(\u001b[0m\u001b[0mK21_bin_c\u001b[0m\u001b[0;34m-\u001b[0m\u001b[0;36m0.5\u001b[0m\u001b[0;34m,\u001b[0m\u001b[0mK21_bin_c\u001b[0m\u001b[0;34m[\u001b[0m\u001b[0;34m-\u001b[0m\u001b[0;36m1\u001b[0m\u001b[0;34m]\u001b[0m\u001b[0;34m+\u001b[0m\u001b[0;36m0.5\u001b[0m\u001b[0;34m)\u001b[0m\u001b[0;34m,\u001b[0m \u001b[0mnp\u001b[0m\u001b[0;34m.\u001b[0m\u001b[0mappend\u001b[0m\u001b[0;34m(\u001b[0m\u001b[0mK21_fluxlimit\u001b[0m\u001b[0;34m,\u001b[0m\u001b[0;36m1e8\u001b[0m\u001b[0;34m)\u001b[0m\u001b[0;34m,\u001b[0m \u001b[0mnp\u001b[0m\u001b[0;34m.\u001b[0m\u001b[0mones\u001b[0m\u001b[0;34m(\u001b[0m\u001b[0mnp\u001b[0m\u001b[0;34m.\u001b[0m\u001b[0msize\u001b[0m\u001b[0;34m(\u001b[0m\u001b[0mK21_bin_c\u001b[0m\u001b[0;34m)\u001b[0m\u001b[0;34m+\u001b[0m\u001b[0;36m1\u001b[0m\u001b[0;34m)\u001b[0m\u001b[0;34m*\u001b[0m\u001b[0;36m1e10\u001b[0m\u001b[0;34m,\u001b[0m \u001b[0mstep\u001b[0m \u001b[0;34m=\u001b[0m \u001b[0;34m'post'\u001b[0m\u001b[0;34m,\u001b[0m \u001b[0mlw\u001b[0m\u001b[0;34m=\u001b[0m\u001b[0;36m0.0\u001b[0m\u001b[0;34m,\u001b[0m \u001b[0malpha\u001b[0m\u001b[0;34m=\u001b[0m\u001b[0;36m0.5\u001b[0m\u001b[0;34m,\u001b[0m \u001b[0mcolor\u001b[0m\u001b[0;34m=\u001b[0m\u001b[0;34m'gold'\u001b[0m\u001b[0;34m)\u001b[0m\u001b[0;34m\u001b[0m\u001b[0;34m\u001b[0m\u001b[0m\n\u001b[0;32m---> 82\u001b[0;31m \u001b[0max\u001b[0m\u001b[0;34m.\u001b[0m\u001b[0mfill_between\u001b[0m\u001b[0;34m(\u001b[0m\u001b[0mnp\u001b[0m\u001b[0;34m.\u001b[0m\u001b[0mappend\u001b[0m\u001b[0;34m(\u001b[0m\u001b[0mS15_bin_c\u001b[0m\u001b[0;34m-\u001b[0m\u001b[0;36m1\u001b[0m\u001b[0;34m,\u001b[0m\u001b[0mS15_bin_c\u001b[0m\u001b[0;34m[\u001b[0m\u001b[0;34m-\u001b[0m\u001b[0;36m1\u001b[0m\u001b[0;34m]\u001b[0m\u001b[0;34m+\u001b[0m\u001b[0;36m1\u001b[0m\u001b[0;34m)\u001b[0m\u001b[0;34m,\u001b[0m \u001b[0mnp\u001b[0m\u001b[0;34m.\u001b[0m\u001b[0mappend\u001b[0m\u001b[0;34m(\u001b[0m\u001b[0mS15_fluxlimit\u001b[0m\u001b[0;34m,\u001b[0m\u001b[0;36m1e8\u001b[0m\u001b[0;34m)\u001b[0m\u001b[0;34m,\u001b[0m \u001b[0mnp\u001b[0m\u001b[0;34m.\u001b[0m\u001b[0mones\u001b[0m\u001b[0;34m(\u001b[0m\u001b[0mnp\u001b[0m\u001b[0;34m.\u001b[0m\u001b[0msize\u001b[0m\u001b[0;34m(\u001b[0m\u001b[0mK21_bin_c\u001b[0m\u001b[0;34m)\u001b[0m\u001b[0;34m+\u001b[0m\u001b[0;36m1\u001b[0m\u001b[0;34m)\u001b[0m\u001b[0;34m*\u001b[0m\u001b[0;36m1e10\u001b[0m\u001b[0;34m,\u001b[0m \u001b[0mstep\u001b[0m \u001b[0;34m=\u001b[0m \u001b[0;34m'post'\u001b[0m\u001b[0;34m,\u001b[0m \u001b[0mlw\u001b[0m\u001b[0;34m=\u001b[0m\u001b[0;36m0.0\u001b[0m\u001b[0;34m,\u001b[0m \u001b[0malpha\u001b[0m\u001b[0;34m=\u001b[0m\u001b[0;36m0.5\u001b[0m\u001b[0;34m,\u001b[0m \u001b[0mcolor\u001b[0m\u001b[0;34m=\u001b[0m\u001b[0;34m'gold'\u001b[0m\u001b[0;34m)\u001b[0m\u001b[0;34m\u001b[0m\u001b[0;34m\u001b[0m\u001b[0m\n\u001b[0m\u001b[1;32m     83\u001b[0m \u001b[0;34m\u001b[0m\u001b[0m\n\u001b[1;32m     84\u001b[0m \u001b[0;34m\u001b[0m\u001b[0m\n",
      "\u001b[0;32m/usr/local/lib/python3.9/site-packages/matplotlib/__init__.py\u001b[0m in \u001b[0;36minner\u001b[0;34m(ax, data, *args, **kwargs)\u001b[0m\n\u001b[1;32m   1359\u001b[0m     \u001b[0;32mdef\u001b[0m \u001b[0minner\u001b[0m\u001b[0;34m(\u001b[0m\u001b[0max\u001b[0m\u001b[0;34m,\u001b[0m \u001b[0;34m*\u001b[0m\u001b[0margs\u001b[0m\u001b[0;34m,\u001b[0m \u001b[0mdata\u001b[0m\u001b[0;34m=\u001b[0m\u001b[0;32mNone\u001b[0m\u001b[0;34m,\u001b[0m \u001b[0;34m**\u001b[0m\u001b[0mkwargs\u001b[0m\u001b[0;34m)\u001b[0m\u001b[0;34m:\u001b[0m\u001b[0;34m\u001b[0m\u001b[0;34m\u001b[0m\u001b[0m\n\u001b[1;32m   1360\u001b[0m         \u001b[0;32mif\u001b[0m \u001b[0mdata\u001b[0m \u001b[0;32mis\u001b[0m \u001b[0;32mNone\u001b[0m\u001b[0;34m:\u001b[0m\u001b[0;34m\u001b[0m\u001b[0;34m\u001b[0m\u001b[0m\n\u001b[0;32m-> 1361\u001b[0;31m             \u001b[0;32mreturn\u001b[0m \u001b[0mfunc\u001b[0m\u001b[0;34m(\u001b[0m\u001b[0max\u001b[0m\u001b[0;34m,\u001b[0m \u001b[0;34m*\u001b[0m\u001b[0mmap\u001b[0m\u001b[0;34m(\u001b[0m\u001b[0msanitize_sequence\u001b[0m\u001b[0;34m,\u001b[0m \u001b[0margs\u001b[0m\u001b[0;34m)\u001b[0m\u001b[0;34m,\u001b[0m \u001b[0;34m**\u001b[0m\u001b[0mkwargs\u001b[0m\u001b[0;34m)\u001b[0m\u001b[0;34m\u001b[0m\u001b[0;34m\u001b[0m\u001b[0m\n\u001b[0m\u001b[1;32m   1362\u001b[0m \u001b[0;34m\u001b[0m\u001b[0m\n\u001b[1;32m   1363\u001b[0m         \u001b[0mbound\u001b[0m \u001b[0;34m=\u001b[0m \u001b[0mnew_sig\u001b[0m\u001b[0;34m.\u001b[0m\u001b[0mbind\u001b[0m\u001b[0;34m(\u001b[0m\u001b[0max\u001b[0m\u001b[0;34m,\u001b[0m \u001b[0;34m*\u001b[0m\u001b[0margs\u001b[0m\u001b[0;34m,\u001b[0m \u001b[0;34m**\u001b[0m\u001b[0mkwargs\u001b[0m\u001b[0;34m)\u001b[0m\u001b[0;34m\u001b[0m\u001b[0;34m\u001b[0m\u001b[0m\n",
      "\u001b[0;32m/usr/local/lib/python3.9/site-packages/matplotlib/axes/_axes.py\u001b[0m in \u001b[0;36mfill_between\u001b[0;34m(self, x, y1, y2, where, interpolate, step, **kwargs)\u001b[0m\n\u001b[1;32m   5384\u001b[0m     def fill_between(self, x, y1, y2=0, where=None, interpolate=False,\n\u001b[1;32m   5385\u001b[0m                      step=None, **kwargs):\n\u001b[0;32m-> 5386\u001b[0;31m         return self._fill_between_x_or_y(\n\u001b[0m\u001b[1;32m   5387\u001b[0m             \u001b[0;34m\"x\"\u001b[0m\u001b[0;34m,\u001b[0m \u001b[0mx\u001b[0m\u001b[0;34m,\u001b[0m \u001b[0my1\u001b[0m\u001b[0;34m,\u001b[0m \u001b[0my2\u001b[0m\u001b[0;34m,\u001b[0m\u001b[0;34m\u001b[0m\u001b[0;34m\u001b[0m\u001b[0m\n\u001b[1;32m   5388\u001b[0m             where=where, interpolate=interpolate, step=step, **kwargs)\n",
      "\u001b[0;32m/usr/local/lib/python3.9/site-packages/matplotlib/axes/_axes.py\u001b[0m in \u001b[0;36m_fill_between_x_or_y\u001b[0;34m(self, ind_dir, ind, dep1, dep2, where, interpolate, step, **kwargs)\u001b[0m\n\u001b[1;32m   5306\u001b[0m                 raise ValueError(f\"where size ({where.size}) does not match \"\n\u001b[1;32m   5307\u001b[0m                                  f\"{ind_dir} size ({ind.size})\")\n\u001b[0;32m-> 5308\u001b[0;31m         where = where & ~functools.reduce(\n\u001b[0m\u001b[1;32m   5309\u001b[0m             np.logical_or, map(np.ma.getmask, [ind, dep1, dep2]))\n\u001b[1;32m   5310\u001b[0m \u001b[0;34m\u001b[0m\u001b[0m\n",
      "\u001b[0;31mValueError\u001b[0m: operands could not be broadcast together with shapes (12,) (11,) "
     ]
    },
    {
     "data": {
      "image/png": "[encoded data removed]",
      "text/plain": [
       "<Figure size 319.68x238.059 with 1 Axes>"
      ]
     },
     "metadata": {
      "needs_background": "light"
     },
     "output_type": "display_data"
    }
   ],
   "source": [
    "################################################################\n",
    "# PLOTTING THE EVENT RATES \n",
    "################################################################\n",
    "fsize=11\n",
    "rc('text', usetex=True)\n",
    "rcparams={'axes.labelsize':fsize,'xtick.labelsize':fsize,'ytick.labelsize':fsize,\\\n",
    "\t\t\t\t'figure.figsize':(1.2*3.7,1.4*2.3617)\t}\n",
    "rc('font',**{'family':'serif', 'serif': ['computer modern roman']})\n",
    "matplotlib.rcParams['hatch.linewidth'] = 0.1  # previous pdf hatch linewidth\n",
    "\n",
    "rcParams.update(rcparams)\n",
    "axes_form  = [0.15,0.15,0.82,0.75]\n",
    "fig = plt.figure()\n",
    "ax = fig.add_axes(axes_form)\n",
    "\n",
    "# E = np.linspace(0.001,13.5,1000)\n",
    "\n",
    "\n",
    "##########################################################################\n",
    "if params.model == const.VECTOR:\n",
    "\tboson_string = r'$m_{Z^\\prime}$'\n",
    "\tboson_file = 'vector'\n",
    "elif params.model == const.SCALAR:\n",
    "\tboson_string = r'$m_\\phi$'\n",
    "\tboson_file = 'scalar'\n",
    "\n",
    "ax.fill_between(np.append(Sbin_c-0.5,Sbin_c[-1]+0.5), np.append(Sfluxlimit,1e8), np.ones(np.size(Sbin_c)+1)*1e10, step = 'post', lw=0.05, fc='None', ec='darkgreen', alpha=1, hatch='//')\n",
    "ax.fill_between(np.append(Kbin_c-0.5,Kbin_c[-1]+0.5), np.append(Kfluxlimit,1e8), np.ones(np.size(Kbin_c)+1)*1e10, step = 'post', lw=0.0, alpha=0.5, color='violet')\n",
    "ax.fill_between(np.append(0.0,np.append(Nbins_c-1,Nbins_c[-1]+1)), np.append(1e8,np.append(Nflux_limit,1e8)), \n",
    "                np.ones(np.size(Nbins_c)+2)*1e10, step = 'post', lw=0.0, color='lightgrey', alpha=1)\n",
    "ax.fill_between(np.append(Bbin_c-0.5,Bbin_c[-1]+0.5), np.append(Bfluxlimit,1e8), np.ones(np.size(Bbin_c)+1)*1e10, step = 'post', lw=0.0, alpha=0.5, color='dodgerblue')\n",
    "\n",
    "ax.step(np.append(0.0,np.append(Sbin_c-0.5,Sbin_c[-1]+0.5)), np.append(1e8,np.append(Sfluxlimit,1e8)), where = 'post', color='green', lw=1.2)\n",
    "ax.step(np.append(0.0,np.append(Kbin_c-0.5,Kbin_c[-1]+0.5)), np.append(1e8,np.append(Kfluxlimit,1e8)), where = 'post', color='violet', lw=0.8)\n",
    "ax.step(np.append(0.0,np.append(Bbin_c-0.5,Bbin_c[-1]+0.5)), np.append(1e8,np.append(Bfluxlimit,1e8)), where = 'post', color='blue', lw=0.8)\n",
    "ax.step(np.append(0.0,np.append(Nbins_c-1.0,Nbins_c[-1]+1.0)), np.append(1e8,np.append(Nflux_limit,1e8)), \n",
    "        where = 'post', color='black', lw=0.8)\n",
    "\n",
    "\n",
    "ax.plot(bin_c, dNCASCADE/dx*1e38, lw=1.2, color='black', label=boson_string+r'/$m_4 = 0.9$')\n",
    "ax.plot(bin_c, dNCASCADE2/dx*1e38, lw=1, dashes = (6,1), color='black', label=boson_string+r'/$m_4 = 0.5$')\n",
    "ax.plot(bin_c, dNCASCADE3/dx*1e38, lw=1, dashes = (2,1), color='black', label=boson_string+r'/$m_4 = 0.1$')\n",
    "\n",
    "ax.plot(bin_c, dNCASCADE_001/dx*1e38, lw=1.2, color='deeppink')\n",
    "ax.plot(bin_c, dNCASCADE2_001/dx*1e38, lw=1, dashes = (6,1), color='deeppink')\n",
    "ax.plot(bin_c, dNCASCADE3_001/dx*1e38, lw=1, dashes = (2,1), color='deeppink')\n",
    "\n",
    "\n",
    "ax.text(0.4,0.4e4,r'$|U_{e4}|^2=10^{-2}$',fontsize=8.5,color='deeppink',rotation=-20)\n",
    "ax.text(0.3,3e2,r'$|U_{e4}|^2=10^{-3}$',fontsize=8.5,color='black',rotation=-18)\n",
    "\n",
    "##############\n",
    "# STYLE\n",
    "ax.set_yscale('log')\n",
    "\n",
    "def to_scientific_notation(number):\n",
    "    a, b = '{:.4E}'.format(number).split('E')\n",
    "    b = int(b)\n",
    "    a = float(a)\n",
    "    return r'$%.0f \\times 10^{%i}$'%(a,b)\n",
    "UQSR = to_scientific_notation(params.Umu4**2)\n",
    "ax.legend(loc='lower left',frameon=False,ncol=1,markerfirst=True,fontsize=8.5)\n",
    "ax.set_title(r'$m_4 = %.0f$ eV, $|U_{\\mu 4}|^2 = \\,$'%(params.m4*1e9)+UQSR, fontsize=8.5)\n",
    "\n",
    "ax.set_xlim(0,18.3)\n",
    "ax.set_ylim(0.4, 2e5)\n",
    "\n",
    "ax.set_ylabel(r'$\\frac{{\\rm d}\\Phi}{{\\rm d}E_\\nu}$ [cm$^{-2}$ s$^{-1}$ MeV$^{-1}$]')\n",
    "ax.set_xlabel(r'$E_\\nu$ [MeV]')\n",
    "\n",
    "\n",
    "\n",
    "# ax.scatter(Kbins_c, Kflux_limit, c='dodgerblue', marker='x',s=40)\n",
    "# ax.scatter( bins_c_old, flux_limit_old, c='darkgreen', marker='v')\n",
    "ax.text(15.,2.5,r'KamLAND',fontsize=8,color='violet', rotation = -30)\n",
    "ax.text(14.2,1.2,r'SK-IV*',fontsize=8,color='darkgreen', rotation = -30)\n",
    "ax.text(16.5,2e1,r'SK-IV',fontsize=8,color='black',rotation=0)\n",
    "ax.text(14.0,0.8e2,r'Borexino',fontsize=8,color='darkblue', rotation = -8)\n",
    "\n",
    "\n",
    "ax.fill_between(np.append(K21_bin_c-0.5,K21_bin_c[-1]+0.5), np.append(K21_fluxlimit,1e8), np.ones(np.size(K21_bin_c)+1)*1e10, step = 'post', lw=0.0, alpha=0.5, color='gold')\n",
    "ax.fill_between(np.append(S15_bin_c-1,S15_bin_c[-1]+1), np.append(S15_fluxlimit,1e8), np.ones(np.size(K21_bin_c)+1)*1e10, step = 'post', lw=0.0, alpha=0.5, color='gold')\n",
    "\n",
    "\n",
    "fig.savefig('plots/Fluxlimit_'+boson_file+'_v2.pdf',rasterized=True)"
   ]
  },
  {
   "cell_type": "code",
   "execution_count": null,
   "metadata": {},
   "outputs": [],
   "source": []
  },
  {
   "cell_type": "code",
   "execution_count": null,
   "metadata": {},
   "outputs": [],
   "source": []
  }
 ],
 "metadata": {
  "kernelspec": {
   "display_name": "Python 3",
   "language": "python",
   "name": "python3"
  },
  "language_info": {
   "codemirror_mode": {
    "name": "ipython",
    "version": 3
   },
   "file_extension": ".py",
   "mimetype": "text/x-python",
   "name": "python",
   "nbconvert_exporter": "python",
   "pygments_lexer": "ipython3",
   "version": "3.9.5"
  }
 },
 "nbformat": 4,
 "nbformat_minor": 2
}
