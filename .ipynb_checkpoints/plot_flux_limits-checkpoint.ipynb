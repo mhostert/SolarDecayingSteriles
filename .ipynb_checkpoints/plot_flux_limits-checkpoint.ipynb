{
 "cells": [
  {
   "cell_type": "markdown",
   "metadata": {},
   "source": [
    "# SOLAR-NEUTRINO-VISIBLE-DECAYS\n",
    "\n",
    "https://github.com/mhostert/solar-neutrino-visible-decays\n",
    "\n",
    "Produces the plots with the model-independent experimental limits on the neutrino flux.\n",
    "\n",
    "We also compute our own model-independent constraints to show that our final limits are conservative. When encoutering bins with few events, we use the Feldman-Cousin look-up table to compute the limit. Using our approach is otherwise conservative."
   ]
  },
  {
   "cell_type": "code",
   "execution_count": 156,
   "metadata": {},
   "outputs": [
    {
     "name": "stdout",
     "output_type": "stream",
     "text": [
      "The autoreload extension is already loaded. To reload it, use:\n",
      "  %reload_ext autoreload\n"
     ]
    }
   ],
   "source": [
    "%load_ext autoreload\n",
    "%autoreload 2"
   ]
  },
  {
   "cell_type": "code",
   "execution_count": 157,
   "metadata": {},
   "outputs": [],
   "source": [
    "import numpy as np\n",
    "from scipy import interpolate\n",
    "import matplotlib \n",
    "import matplotlib.pyplot as plt\n",
    "from matplotlib import rc, rcParams\n",
    "from matplotlib.pyplot import *\n",
    "\n",
    "import vegas\n",
    "import gvar as gv\n",
    "\n",
    "from source import *"
   ]
  },
  {
   "cell_type": "code",
   "execution_count": 2,
   "metadata": {},
   "outputs": [],
   "source": [
    "############################################################\n",
    "# integration evaluations\n",
    "rates.NEVALwarmup = 1e6\n",
    "rates.NEVAL = 1e6\n",
    "\n",
    "###########\n",
    "# NUMU FLUX\n",
    "fluxfile = \"fluxes/b8spectrum.txt\"\n",
    "flux = fluxes.get_neutrino_flux(fluxfile)\n",
    "\n",
    "############\n",
    "# NUE/BAR XS\n",
    "xsfile=\"xsecs/IBD_160106169/TCS_CC_anue_p_1026_SV.txt\"\n",
    "xsec = lambda x : np.zeros(np.size(x)) \n",
    "xsecbar = lambda x: np.ones(np.size(x))*1e-38\n",
    "\n",
    "bins = np.linspace(0.0,14.5,50)\n",
    "dx = (bins[1:] - bins[:-1])\n",
    "bin_c = bins[:-1] + dx/2.0\n",
    "\n",
    "#############\n",
    "# efficiencies\n",
    "enu_eff= bins\n",
    "eff= np.ones((np.size(bins)-1))\n",
    "identity = lambda TTT : TTT\n"
   ]
  },
  {
   "cell_type": "markdown",
   "metadata": {},
   "source": [
    "### Sampling the integrand very finely -- need to get the tail correct."
   ]
  },
  {
   "cell_type": "code",
   "execution_count": 3,
   "metadata": {},
   "outputs": [
    {
     "name": "stdout",
     "output_type": "stream",
     "text": [
      "itn   integral         wgt average       chi2/dof        Q\n",
      "----------------------------------------------------------\n",
      "  1   1.429573(33)e-35 1.429573(33)e-35      0.00     1.00\n",
      "  2   1.429566(33)e-35 1.429569(23)e-35      0.87     0.73\n",
      "  3   1.429515(33)e-35 1.429551(19)e-35      0.95     0.63\n",
      "  4   1.429598(33)e-35 1.429562(16)e-35      0.96     0.61\n",
      "  5   1.429507(33)e-35 1.429551(15)e-35      0.90     0.83\n",
      "  6   1.429563(34)e-35 1.429553(14)e-35      0.90     0.86\n",
      "  7   1.429622(34)e-35 1.429562(13)e-35      0.92     0.83\n",
      "  8   1.429559(33)e-35 1.429561(12)e-35      0.98     0.58\n",
      "  9   1.429553(35)e-35 1.429560(11)e-35      0.97     0.65\n",
      " 10   1.429502(36)e-35 1.429555(11)e-35      0.97     0.64\n",
      " 11   1.429591(35)e-35 1.429558(10)e-35      1.00     0.51\n",
      " 12   1.429585(36)e-35 1.4295605(98)e-35     1.02     0.38\n",
      " 13   1.429528(37)e-35 1.4295582(95)e-35     1.02     0.39\n",
      " 14   1.429505(35)e-35 1.4295545(91)e-35     1.00     0.50\n",
      " 15   1.429584(36)e-35 1.4295563(89)e-35     1.02     0.37\n",
      " 16   1.429505(36)e-35 1.4295535(86)e-35     1.01     0.45\n",
      " 17   1.429503(36)e-35 1.4295508(84)e-35     0.99     0.56\n",
      " 18   1.429559(37)e-35 1.4295511(82)e-35     0.99     0.57\n",
      " 19   1.429507(38)e-35 1.4295490(80)e-35     0.99     0.54\n",
      " 20   1.429550(38)e-35 1.4295488(78)e-35     0.99     0.62\n",
      "\n",
      "   I = 1.4295488(78)e-35\n",
      "dI/I = [0.053542(18) 0.055706(25) 0.055560(26) 0.055195(27) 0.054354(28)\n",
      " 0.053254(28) 0.051863(28) 0.050259(27) 0.048373(27) 0.046424(26)\n",
      " 0.044178(26) 0.041979(25) 0.039540(25) 0.037182(24) 0.034648(24)\n",
      " 0.032217(23) 0.029679(23) 0.027284(22) 0.024936(21) 0.022597(21)\n",
      " 0.020348(20) 0.018228(19) 0.016205(19) 0.014299(18) 0.012496(17)\n",
      " 0.010853(16) 0.009338(15) 0.007905(15) 0.006652(14) 0.005559(13)\n",
      " 0.004525(12) 0.003686(11) 0.0029017(99) 0.0022851(88) 0.0017538(77)\n",
      " 0.0013046(67) 0.0009531(56) 0.0006811(45) 0.0004687(35) 0.0003128(26)\n",
      " 0.0002030(18) 0.0001239(11) 0.00007240(72) 0.00004035(56) 0.00002045(40)\n",
      " 9.53(29)e-06 3.99(18)e-06 1.311(97)e-06 3.19(36)e-07]\n",
      "check: 1.4295485(78)e-35\n"
     ]
    }
   ],
   "source": [
    "###########\n",
    "# DECAY MODEL PARAMETERS\n",
    "params = model.decay_model_params(const.SCALAR)\n",
    "params.gx = 1.0\n",
    "params.Ue4 = np.sqrt(0.001)\n",
    "params.Umu4 = np.sqrt(0.001)\n",
    "params.UD4 = np.sqrt(1.0-params.Ue4*params.Ue4-params.Umu4*params.Umu4)\n",
    "params.m4 = 300e-9 # GeV\n",
    "\n",
    "params.mBOSON  = 0.9*params.m4 # GeV\n",
    "NCASCADE, dNCASCADE = rates.RATES_dN_HNL_CASCADE_NU_NUBAR(\\\n",
    "                                        flux=flux,\\\n",
    "                                        xsec=xsec,\\\n",
    "                                        xsecbar=xsecbar,\\\n",
    "                                        dim=3,\\\n",
    "                                        enumin=0,\\\n",
    "                                        enumax=const.Enu_END_OF_SPECTRUM,\\\n",
    "                                        params=params,\\\n",
    "                                        bins=bins,\\\n",
    "                                        PRINT=True,\\\n",
    "                                        enu_eff=enu_eff,\\\n",
    "                                        eff=eff,\n",
    "                                        smearing_function=identity)\n",
    "\n",
    "params.mBOSON  = 0.5*params.m4 # GeV\n",
    "NCASCADE2, dNCASCADE2 = rates.RATES_dN_HNL_CASCADE_NU_NUBAR(\\\n",
    "                                        flux=flux,\\\n",
    "                                        xsec=xsec,\\\n",
    "                                        xsecbar=xsecbar,\\\n",
    "                                        dim=3,\\\n",
    "                                        enumin=0,\\\n",
    "                                        enumax=const.Enu_END_OF_SPECTRUM,\\\n",
    "                                        params=params,\\\n",
    "                                        bins=bins,\\\n",
    "                                        PRINT=False,\\\n",
    "                                        enu_eff=enu_eff,\\\n",
    "                                        eff=eff,\n",
    "                                        smearing_function=identity)\n",
    "\n",
    "params.mBOSON  = 0.1*params.m4 # GeV\n",
    "NCASCADE3, dNCASCADE3 = rates.RATES_dN_HNL_CASCADE_NU_NUBAR(\\\n",
    "                                        flux=flux,\\\n",
    "                                        xsec=xsec,\\\n",
    "                                        xsecbar=xsecbar,\\\n",
    "                                        dim=3,\\\n",
    "                                        enumin=0,\\\n",
    "                                        enumax=const.Enu_END_OF_SPECTRUM,\\\n",
    "                                        params=params,\\\n",
    "                                        bins=bins,\\\n",
    "                                        PRINT=False,\\\n",
    "                                        enu_eff=enu_eff,\\\n",
    "                                        eff=eff,\n",
    "                                        smearing_function=identity)\n"
   ]
  },
  {
   "cell_type": "code",
   "execution_count": 4,
   "metadata": {},
   "outputs": [
    {
     "name": "stdout",
     "output_type": "stream",
     "text": [
      "itn   integral         wgt average      chi2/dof        Q\n",
      "---------------------------------------------------------\n",
      "  1   2.608912(59)e-34 2.608912(59)e-34     0.00     1.00\n",
      "  2   2.608861(61)e-34 2.608885(42)e-34     1.41     0.03\n",
      "  3   2.608934(59)e-34 2.608902(34)e-34     1.22     0.06\n",
      "  4   2.608974(61)e-34 2.608919(30)e-34     1.26     0.02\n",
      "  5   2.608974(61)e-34 2.608930(27)e-34     1.19     0.04\n",
      "  6   2.608979(62)e-34 2.608938(25)e-34     1.24     0.01\n",
      "  7   2.608905(61)e-34 2.608932(23)e-34     1.16     0.03\n",
      "  8   2.609075(62)e-34 2.608949(21)e-34     1.18     0.01\n",
      "  9   2.608854(64)e-34 2.608939(20)e-34     1.15     0.02\n",
      " 10   2.608946(66)e-34 2.608940(19)e-34     1.15     0.01\n",
      " 11   2.608877(66)e-34 2.608935(19)e-34     1.12     0.03\n",
      " 12   2.608982(63)e-34 2.608938(18)e-34     1.12     0.02\n",
      " 13   2.608923(69)e-34 2.608937(17)e-34     1.09     0.07\n",
      " 14   2.608776(67)e-34 2.608927(17)e-34     1.06     0.13\n",
      " 15   2.608815(67)e-34 2.608921(16)e-34     1.09     0.05\n",
      " 16   2.609013(66)e-34 2.608926(16)e-34     1.07     0.10\n",
      " 17   2.608992(66)e-34 2.608929(15)e-34     1.06     0.11\n",
      " 18   2.608905(67)e-34 2.608928(15)e-34     1.09     0.04\n",
      " 19   2.608930(70)e-34 2.608928(15)e-34     1.06     0.12\n",
      " 20   2.608874(68)e-34 2.608926(14)e-34     1.06     0.10\n",
      "\n",
      "   I = 2.608926(14)e-34\n",
      "dI/I = [0.053798(18) 0.056202(25) 0.056172(26) 0.055766(27) 0.054994(28)\n",
      " 0.053831(29) 0.052497(28) 0.050717(28) 0.048788(27) 0.046647(27)\n",
      " 0.044456(26) 0.042024(25) 0.039580(25) 0.037043(24) 0.034552(24)\n",
      " 0.031970(23) 0.029490(23) 0.027002(22) 0.024580(21) 0.022241(21)\n",
      " 0.020025(20) 0.017869(19) 0.015873(18) 0.013966(18) 0.012190(17)\n",
      " 0.010544(16) 0.009081(15) 0.007662(14) 0.006453(13) 0.005370(13)\n",
      " 0.004397(12) 0.003541(11) 0.0027989(98) 0.0021950(87) 0.0016735(75)\n",
      " 0.0012470(64) 0.0009203(54) 0.0006466(44) 0.0004463(35) 0.0002992(25)\n",
      " 0.0001932(17) 0.0001182(10) 0.00006881(71) 0.00003813(54) 0.00001881(39)\n",
      " 8.59(26)e-06 3.91(19)e-06 1.322(99)e-06 4.48(40)e-07]\n",
      "check: 2.608925(14)e-34\n"
     ]
    }
   ],
   "source": [
    "###################################3\n",
    "params.Ue4\t\t= np.sqrt(0.01)\n",
    "params.mBOSON  = 0.9*params.m4 # GeV\n",
    "NCASCADE_001, dNCASCADE_001 = rates.RATES_dN_HNL_CASCADE_NU_NUBAR(\\\n",
    "                                        flux=flux,\\\n",
    "                                        xsec=xsec,\\\n",
    "                                        xsecbar=xsecbar,\\\n",
    "                                        dim=3,\\\n",
    "                                        enumin=0,\\\n",
    "                                        enumax=const.Enu_END_OF_SPECTRUM,\\\n",
    "                                        params=params,\\\n",
    "                                        bins=bins,\\\n",
    "                                        PRINT=True,\\\n",
    "                                        enu_eff=enu_eff,\\\n",
    "                                        eff=eff,\n",
    "                                        smearing_function=identity)\n",
    "\n",
    "params.mBOSON  = 0.5*params.m4 # GeV\n",
    "NCASCADE2_001, dNCASCADE2_001 = rates.RATES_dN_HNL_CASCADE_NU_NUBAR(\\\n",
    "                                        flux=flux,\\\n",
    "                                        xsec=xsec,\\\n",
    "                                        xsecbar=xsecbar,\\\n",
    "                                        dim=3,\\\n",
    "                                        enumin=0,\\\n",
    "                                        enumax=const.Enu_END_OF_SPECTRUM,\\\n",
    "                                        params=params,\\\n",
    "                                        bins=bins,\\\n",
    "                                        PRINT=False,\\\n",
    "                                        enu_eff=enu_eff,\\\n",
    "                                        eff=eff,\n",
    "                                        smearing_function=identity)\n",
    "\n",
    "params.mBOSON  = 0.1*params.m4 # GeV\n",
    "NCASCADE3_001, dNCASCADE3_001 = rates.RATES_dN_HNL_CASCADE_NU_NUBAR(\\\n",
    "                                        flux=flux,\\\n",
    "                                        xsec=xsec,\\\n",
    "                                        xsecbar=xsecbar,\\\n",
    "                                        dim=3,\\\n",
    "                                        enumin=0,\\\n",
    "                                        enumax=const.Enu_END_OF_SPECTRUM,\\\n",
    "                                        params=params,\\\n",
    "                                        bins=bins,\\\n",
    "                                        PRINT=False,\\\n",
    "                                        enu_eff=enu_eff,\\\n",
    "                                        eff=eff,\n",
    "                                        smearing_function=identity)\n"
   ]
  },
  {
   "cell_type": "markdown",
   "metadata": {},
   "source": [
    "### Getting the flux limits from digitzed data"
   ]
  },
  {
   "cell_type": "code",
   "execution_count": 30,
   "metadata": {},
   "outputs": [],
   "source": [
    "exp = exps.borexino_limit()\n",
    "Bbin_c = exp.Enu_bin_c\n",
    "Bbin_w = exp.Enu_bin_w\n",
    "Bbin_e = exp.Enu_bin_e\n",
    "Bfluxlimit = exp.fluxlimit\n",
    "BfluxlimitATM = exp.fluxlimitATM\n",
    "\n",
    "exp2 = exps.kamland_limit()\n",
    "Kbin_c = exp2.Enu_bin_c\n",
    "Kbin_w = exp2.Enu_bin_w\n",
    "Kbin_e = exp2.Enu_bin_e\n",
    "Kfluxlimit = exp2.fluxlimit\n",
    "\n",
    "exp3 = exps.superk_limit()\n",
    "Sbin_c = exp3.Enu_bin_c\n",
    "Sbin_w = exp3.Enu_bin_w\n",
    "Sbin_e = exp3.Enu_bin_e\n",
    "Sfluxlimit = exp3.fluxlimit\n",
    "\n",
    "\n",
    "exp4 = exps.kamland21_limit()\n",
    "K21_bin_c = exp4.Enu_bin_c\n",
    "K21_bin_w = exp4.Enu_bin_w\n",
    "K21_bin_e = exp4.Enu_bin_e\n",
    "K21_fluxlimit = exp4.fluxlimit\n",
    "\n",
    "exp5 = exps.superk15_limit()\n",
    "S15_bin_c = exp5.Enu_bin_c\n",
    "S15_bin_w = exp5.Enu_bin_w\n",
    "S15_bin_e = exp5.Enu_bin_e\n",
    "S15_fluxlimit = exp5.fluxlimit\n",
    "\n",
    "exp6 = exps.superk21_limit()\n",
    "S21_bin_c = exp6.Enu_bin_c\n",
    "S21_bin_w = exp6.Enu_bin_w\n",
    "S21_bin_e = exp6.Enu_bin_e\n",
    "S21_fluxlimit = exp6.fluxlimit"
   ]
  },
  {
   "cell_type": "markdown",
   "metadata": {},
   "source": [
    "### check that our own rate calculation matches the expected superK event rate \n",
    "We use their best-fit value for the conversion probability."
   ]
  },
  {
   "cell_type": "code",
   "execution_count": 10,
   "metadata": {},
   "outputs": [
    {
     "name": "stdout",
     "output_type": "stream",
     "text": [
      "Filling the bins in SUPERK_IV\n"
     ]
    },
    {
     "data": {
      "text/plain": [
       "(0.0, 49.53540569805299)"
      ]
     },
     "execution_count": 10,
     "metadata": {},
     "output_type": "execute_result"
    },
    {
     "data": {
      "image/png": "[encoded data removed]",
      "text/plain": [
       "<Figure size 319.68x238.059 with 1 Axes>"
      ]
     },
     "metadata": {
      "needs_background": "light"
     },
     "output_type": "display_data"
    }
   ],
   "source": [
    "MYEXP = exps.superk_data()\n",
    "bins_end, NP_MC, back_MC, D = rates.fill_bins_B8_spectrum(MYEXP,fluxfile,endpoint=1e100,startpoint=0)\n",
    "bins_c = const.get_centers(bins_end)\n",
    "plt.scatter(bins_c,D, c='black', s=10, label='data')\n",
    "plt.step(bins_c,MYEXP.MCallbkg, where ='mid', label='bkg')\n",
    "plt.step(bins_c,MYEXP.MCall, where ='mid', label='bkg+best-fit')\n",
    "plt.step(bins_c,MYEXP.MCallbkg+NP_MC*8e-5, where ='mid', label='NP best-fit')\n",
    "# plt.step(bin_c,back_MC+NP_MC*3.6e-4, where ='mid', label='NP')\n",
    "\n",
    "plt.legend(loc=\"upper right\")\n",
    "# plt.xlim(8,16)\n",
    "plt.ylim(0,)"
   ]
  },
  {
   "cell_type": "markdown",
   "metadata": {},
   "source": [
    "### Computing a series of model-independent limits\n",
    "The goal is to have a low-level check of our limits."
   ]
  },
  {
   "cell_type": "code",
   "execution_count": 11,
   "metadata": {},
   "outputs": [
    {
     "name": "stdout",
     "output_type": "stream",
     "text": [
      "Filling the bins in SUPERK_IV\n"
     ]
    }
   ],
   "source": [
    "Nbins_end, NNP_MC, Nback_MC, ND = rates.fill_bins_flat( exps.superk_data(), flux_value =1)\n",
    "Nbins_c = const.get_centers(Nbins_end)\n",
    "Nflux_limit=[]\n",
    "for i in range(len(NNP_MC)):\n",
    "    Nflux_limit.append(stats.get_model_indep_bound_flux(NNP_MC[i], Nback_MC[i], ND[i], err_flux=0.2, err_bkg=0.1, CL=0.90))\n",
    "    \n",
    "    \n",
    "for i in range(len(NNP_MC)):\n",
    "    new_bound = stats.get_model_indep_bound_flux_FC(NNP_MC[i], Nback_MC[i], ND[i], CL=0.90)\n",
    "\n",
    "    if (ND[i] < 5 or (Nflux_limit[i] != Nflux_limit[i])):\n",
    "        Nflux_limit[i] = new_bound"
   ]
  },
  {
   "cell_type": "code",
   "execution_count": 12,
   "metadata": {},
   "outputs": [
    {
     "name": "stdout",
     "output_type": "stream",
     "text": [
      "Filling the bins in SUPERK_IV_DEPRECATED\n"
     ]
    }
   ],
   "source": [
    "bins_end_old, NP_MC, back_MC, D = rates.fill_bins_flat(exps.superk_outdated_data(), flux_value =1)\n",
    "bins_c_old = const.get_centers(bins_end_old)\n",
    "flux_limit_old=[]\n",
    "\n",
    "for i in range(len(NP_MC)):\n",
    "    flux_limit_old.append(stats.get_model_indep_bound_flux(NP_MC[i], back_MC[i], D[i], err_flux=0.1, err_bkg=0.1))\n",
    "    \n",
    "for i in range(len(NP_MC)):\n",
    "    new_bound = stats.get_model_indep_bound_flux_FC(NP_MC[i], back_MC[i], D[i], err_flux=0.1, err_bkg=0.1)\n",
    "\n",
    "    if (D[i] < 5 or (flux_limit_old[i] != flux_limit_old[i])):\n",
    "        flux_limit_old[i] = new_bound"
   ]
  },
  {
   "cell_type": "code",
   "execution_count": 13,
   "metadata": {},
   "outputs": [
    {
     "name": "stdout",
     "output_type": "stream",
     "text": [
      "Filling the bins in borexino\n"
     ]
    }
   ],
   "source": [
    "bins_end_bor, NP_MC, back_MC, D = rates.fill_bins_flat(exps.borexino_data(), flux_value =1)\n",
    "bins_c_bor = const.get_centers(bins_end_bor)\n",
    "flux_limit_bor=[]\n",
    "for i in range(len(NP_MC)):\n",
    "    flux_limit_bor.append(stats.get_model_indep_bound_flux(NP_MC[i], back_MC[i], D[i], err_flux=0.1, err_bkg=0.1))\n",
    "\n",
    "for i in range(len(NP_MC)):\n",
    "    new_bound = stats.get_model_indep_bound_flux_FC(NP_MC[i], back_MC[i], D[i], err_flux=0.1, err_bkg=0.1)\n",
    "    if (D[i] < 1 or (flux_limit_bor[i] != flux_limit_bor[i])):\n",
    "        flux_limit_bor[i] = new_bound"
   ]
  },
  {
   "cell_type": "code",
   "execution_count": 14,
   "metadata": {},
   "outputs": [
    {
     "name": "stdout",
     "output_type": "stream",
     "text": [
      "Filling the bins in kamland\n"
     ]
    }
   ],
   "source": [
    "Kbins_end, KNP_MC, Kback_MC, KD = rates.fill_bins_flat( exps.kamland_data(), flux_value =1)\n",
    "Kbins_c = const.get_centers(Kbins_end)\n",
    "Kflux_limit=[]\n",
    "for i in range(len(KNP_MC)):\n",
    "    Kflux_limit.append(stats.get_model_indep_bound_flux(KNP_MC[i], Kback_MC[i], KD[i], err_flux=0.1, err_bkg=0.1, CL=0.90))\n",
    "    \n",
    "    \n",
    "for i in range(len(KNP_MC)):\n",
    "    new_bound = stats.get_model_indep_bound_flux_FC(KNP_MC[i], Kback_MC[i], KD[i], CL=0.90)\n",
    "\n",
    "    if (KD[i] < 5 or (Kflux_limit[i] != Kflux_limit[i])):\n",
    "        Kflux_limit[i] = new_bound\n",
    "        "
   ]
  },
  {
   "cell_type": "code",
   "execution_count": 165,
   "metadata": {},
   "outputs": [],
   "source": []
  },
  {
   "cell_type": "code",
   "execution_count": 166,
   "metadata": {},
   "outputs": [
    {
     "data": {
      "text/plain": [
       "(0.1, 100000.0)"
      ]
     },
     "execution_count": 166,
     "metadata": {},
     "output_type": "execute_result"
    },
    {
     "data": {
      "image/png": "[encoded data removed]",
      "text/plain": [
       "<Figure size 319.68x238.059 with 1 Axes>"
      ]
     },
     "metadata": {
      "needs_background": "light"
     },
     "output_type": "display_data"
    }
   ],
   "source": [
    "fig, ax = plot_tools.get_std_fig()\n",
    "x_enu=np.linspace(0,16.3, 100)\n",
    "\n",
    "nuflux = fluxes.get_neutrino_flux(\"fluxes/b8spectrum.txt\")\n",
    "\n",
    "ax.scatter( bins_c_old, flux_limit_old, c='darkgreen', marker='v')\n",
    "ax.plot(x_enu, 1e-4*nuflux(x_enu), c='darkgreen')\n",
    "\n",
    "ax.scatter( bins_c_bor, flux_limit_bor, c='dodgerblue', marker='v')\n",
    "ax.plot(x_enu, 7.2e-5*nuflux(x_enu), c='dodgerblue')\n",
    "\n",
    "ax.scatter(Kbins_c, Kflux_limit, c='dodgerblue', marker='v')\n",
    "\n",
    "\n",
    "ax.fill_between(np.append(Sbin_c-0.5,Sbin_c[-1]+0.5), np.append(Sfluxlimit,1e8), np.ones(np.size(Sbin_c)+1)*1e10, step = 'post', lw=0.0, alpha=0.5, color='darkgreen')\n",
    "ax.fill_between(np.append(Kbin_c-0.5,Kbin_c[-1]+0.5), np.append(Kfluxlimit,1e8), np.ones(np.size(Kbin_c)+1)*1e10, step = 'post', lw=0.0, alpha=0.5, color='indigo')\n",
    "ax.fill_between(np.append(Bbin_c-0.5,Bbin_c[-1]+0.5), np.append(Bfluxlimit,1e8), np.ones(np.size(Bbin_c)+1)*1e10, step = 'post', lw=0.0, alpha=0.5, color='dodgerblue')\n",
    "ax.fill_between(np.append(0.0,np.append(Nbins_c-1,Nbins_c[-1]+1)), np.append(1e8,np.append(Nflux_limit,1e8)), np.ones(np.size(Nbins_c)+2)*1e10, step = 'post', lw=0.0, alpha=0.5, color='orange')\n",
    "\n",
    "ax.step(np.append(0.0,np.append(Sbin_c-0.5,Sbin_c[-1]+0.5)), np.append(1e8,np.append(Sfluxlimit,1e8)), where = 'post', color='darkgreen', lw=0.8)\n",
    "ax.step(np.append(0.0,np.append(Kbin_c-0.5,Kbin_c[-1]+0.5)), np.append(1e8,np.append(Kfluxlimit,1e8)), where = 'post', color='indigo', lw=0.8)\n",
    "ax.step(np.append(0.0,np.append(Bbin_c-0.5,Bbin_c[-1]+0.5)), np.append(1e8,np.append(Bfluxlimit,1e8)), where = 'post', color='blue', lw=0.8)\n",
    "ax.step(np.append(0.0,np.append(Nbins_c-1.0,Nbins_c[-1]+1.0)), np.append(1e8,np.append(Nflux_limit,1e8)), where = 'post', color='orange', lw=0.8)\n",
    "\n",
    "plt.yscale(\"log\")\n",
    "plt.xlim(4,18)\n",
    "plt.ylim(0.1,1e5)\n"
   ]
  },
  {
   "cell_type": "code",
   "execution_count": 155,
   "metadata": {},
   "outputs": [
    {
     "name": "stderr",
     "output_type": "stream",
     "text": [
      "<ipython-input-155-a7e0961ba203>:88: MatplotlibDeprecationWarning: savefig() got unexpected keyword argument \"rasterized\" which is no longer supported as of 3.3 and will become an error two minor releases later\n",
      "  fig.savefig('plots/Fluxlimit_'+boson_file+'_v2.pdf',rasterized=True)\n"
     ]
    },
    {
     "data": {
      "image/png": "[encoded data removed]",
      "text/plain": [
       "<Figure size 319.68x238.059 with 1 Axes>"
      ]
     },
     "metadata": {
      "needs_background": "light"
     },
     "output_type": "display_data"
    }
   ],
   "source": [
    "################################################################\n",
    "# PLOTTING THE EVENT RATES \n",
    "################################################################\n",
    "fsize=11\n",
    "rc('text', usetex=True)\n",
    "rcparams={'axes.labelsize':fsize,'xtick.labelsize':fsize,'ytick.labelsize':fsize,\\\n",
    "\t\t\t\t'figure.figsize':(1.2*3.7,1.4*2.3617)\t}\n",
    "rc('font',**{'family':'serif', 'serif': ['computer modern roman']})\n",
    "matplotlib.rcParams['hatch.linewidth'] = 0.1  # previous pdf hatch linewidth\n",
    "\n",
    "rcParams.update(rcparams)\n",
    "axes_form  = [0.15,0.15,0.82,0.75]\n",
    "fig = plt.figure()\n",
    "ax = fig.add_axes(axes_form)\n",
    "\n",
    "##########################################################################\n",
    "if params.model == const.VECTOR:\n",
    "    boson_string = r'$m_{Z^\\prime}$'\n",
    "    boson_file = 'vector'\n",
    "elif params.model == const.SCALAR:\n",
    "    boson_string = r'$m_\\phi$'\n",
    "    boson_file = 'scalar'\n",
    "\n",
    "ax.fill_between(np.append(0.0,np.append(Nbins_c-1,Nbins_c[-1]+1)), np.append(1e8,np.append(Nflux_limit,1e8)), \n",
    "                np.ones(np.size(Nbins_c)+2)*1e10, step = 'post', lw=0.0, color='gold', alpha=0.7)\n",
    "ax.fill_between(np.append(K21_bin_c-0.5,K21_bin_c[-1]+0.5), np.append(K21_fluxlimit,1e8), np.ones(np.size(K21_bin_c)+1)*1e10, step = 'post', lw=0.0, alpha=0.7, color='lightgrey')\n",
    "ax.fill_between(np.append(Kbin_c-0.5,Kbin_c[-1]+0.5), np.append(Kfluxlimit,1e8), np.ones(np.size(Kbin_c)+1)*1e10, step = 'post', lw=0.0, alpha=0.7, color='violet')\n",
    "ax.fill_between(np.append(Bbin_c-0.5,Bbin_c[-1]+0.5), np.append(Bfluxlimit,1e8), np.ones(np.size(Bbin_c)+1)*1e10, step = 'post', lw=0.0, alpha=0.7, color='dodgerblue')\n",
    "\n",
    "ax.step(np.append(0.0,np.append(K21_bin_c-0.5,K21_bin_c[-1]+0.5)), np.append(1e8,np.append(K21_fluxlimit,1e8)), where = 'post', color='black', lw=0.8)\n",
    "ax.step(np.append(0.0,np.append(Kbin_c-0.5,Kbin_c[-1]+0.5)), np.append(1e8,np.append(Kfluxlimit,1e8)), where = 'post', color='purple', lw=0.8)\n",
    "ax.step(np.append(0.0,np.append(Bbin_c-0.5,Bbin_c[-1]+0.5)), np.append(1e8,np.append(Bfluxlimit,1e8)), where = 'post', color='blue', lw=0.8)\n",
    "ax.step(np.append(0.0,np.append(Nbins_c-1.0,Nbins_c[-1]+1.0)), np.append(1e8,np.append(Nflux_limit,1e8)), \n",
    "        where = 'post', color='gold', lw=0.8)\n",
    "\n",
    "\n",
    "ax.plot(bin_c, dNCASCADE/dx*1e38, lw=1.2, color='deeppink')\n",
    "ax.plot(bin_c, dNCASCADE2/dx*1e38, lw=1, dashes = (6,1), color='deeppink')\n",
    "ax.plot(bin_c, dNCASCADE3/dx*1e38, lw=1, dashes = (2,1), color='deeppink')\n",
    "\n",
    "ax.plot(bin_c, dNCASCADE_001/dx*1e38, lw=1.2, color='black', label=boson_string+r'/$m_4 = 0.9$')\n",
    "ax.plot(bin_c, dNCASCADE2_001/dx*1e38, lw=1, dashes = (6,1), color='black', label=boson_string+r'/$m_4 = 0.5$')\n",
    "ax.plot(bin_c, dNCASCADE3_001/dx*1e38, lw=1, dashes = (2,1), color='black', label=boson_string+r'/$m_4 = 0.1$')\n",
    "\n",
    "\n",
    "ax.text(0.4,0.4e4,r'$|U_{e4}|^2=10^{-2}$',fontsize=8.5,color='black',rotation=-20)\n",
    "ax.text(0.3,3e2,r'$|U_{e4}|^2=10^{-3}$',fontsize=8.5,color='deeppink',rotation=-18)\n",
    "\n",
    "##############\n",
    "# STYLE\n",
    "ax.set_yscale('log')\n",
    "\n",
    "def to_scientific_notation(number):\n",
    "    a, b = '{:.4E}'.format(number).split('E')\n",
    "    b = int(b)\n",
    "    a = float(a)\n",
    "    return r'$%.0f \\times 10^{%i}$'%(a,b)\n",
    "UQSR = to_scientific_notation(params.Umu4**2)\n",
    "ax.legend(loc='lower left',frameon=False,ncol=1,markerfirst=True,fontsize=8.5)\n",
    "ax.set_title(r'$m_4 = %.0f$ eV, $|U_{\\mu 4}|^2 = \\,$'%(params.m4*1e9)+UQSR, fontsize=8.5)\n",
    "\n",
    "ax.set_xlim(0,20.3)\n",
    "ax.set_ylim(0.4, 2e5)\n",
    "\n",
    "ax.set_ylabel(r'$\\frac{{\\rm d}\\Phi}{{\\rm d}E_\\nu}$ [cm$^{-2}$ s$^{-1}$ MeV$^{-1}$]')\n",
    "ax.set_xlabel(r'$E_\\nu$ [MeV]')\n",
    "\n",
    "ax.text(13.5,4.5,r'KamLAND 11',fontsize=7,color='mediumorchid', rotation = -20)\n",
    "ax.text(13.2,1.5,r'KamLAND 21',fontsize=7,color='black', rotation = -20)\n",
    "ax.text(18.5,1.5,r'SK-IV',fontsize=7,color='goldenrod',rotation=0)\n",
    "ax.text(14.0,0.8e2,r'Borexino',fontsize=7,color='darkblue', rotation = -8)\n",
    "\n",
    "fig.savefig('plots/Fluxlimit_'+boson_file+'_v2.pdf',rasterized=True)"
   ]
  }
 ],
 "metadata": {
  "kernelspec": {
   "display_name": "Python 3",
   "language": "python",
   "name": "python3"
  },
  "language_info": {
   "codemirror_mode": {
    "name": "ipython",
    "version": 3
   },
   "file_extension": ".py",
   "mimetype": "text/x-python",
   "name": "python",
   "nbconvert_exporter": "python",
   "pygments_lexer": "ipython3",
   "version": "3.9.5"
  }
 },
 "nbformat": 4,
 "nbformat_minor": 2
}
