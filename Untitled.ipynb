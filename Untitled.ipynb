{
 "cells": [
  {
   "cell_type": "markdown",
   "id": "adverse-pontiac",
   "metadata": {},
   "source": [
    "## Neutrino spectrum and cross sections\n",
    "\n",
    "https://github.com/mhostert/solar-neutrino-visible-decays"
   ]
  },
  {
   "cell_type": "code",
   "execution_count": 3,
   "id": "restricted-farming",
   "metadata": {},
   "outputs": [],
   "source": [
    "import numpy as np\n",
    "from scipy import interpolate\n",
    "import matplotlib \n",
    "import matplotlib.pyplot as plt\n",
    "from matplotlib import rc, rcParams\n",
    "from matplotlib.pyplot import *\n",
    "\n",
    "import vegas\n",
    "import gvar as gv\n",
    "\n",
    "from source import * "
   ]
  },
  {
   "cell_type": "code",
   "execution_count": 4,
   "id": "indoor-numbers",
   "metadata": {},
   "outputs": [
    {
     "name": "stdout",
     "output_type": "stream",
     "text": [
      "itn   integral        wgt average     chi2/dof        Q\n",
      "-------------------------------------------------------\n",
      "  1   3.29176(54)e-34 3.29176(54)e-34     0.00     1.00\n",
      "  2   3.29165(50)e-34 3.29168(37)e-34     0.70     0.94\n",
      "  3   3.29234(46)e-34 3.29199(29)e-34     1.11     0.20\n",
      "  4   3.29279(52)e-34 3.29215(25)e-34     1.05     0.31\n",
      "  5   3.29197(48)e-34 3.29212(22)e-34     1.04     0.33\n",
      "  6   3.29196(52)e-34 3.29210(20)e-34     1.19     0.02\n",
      "  7   3.29193(53)e-34 3.29208(19)e-34     1.16     0.03\n",
      "  8   3.29198(50)e-34 3.29205(18)e-34     1.14     0.03\n",
      "  9   3.29149(50)e-34 3.29199(17)e-34     1.12     0.06\n",
      " 10   3.29190(53)e-34 3.29199(16)e-34     1.08     0.12\n",
      " 11   3.29244(52)e-34 3.29203(15)e-34     1.06     0.18\n",
      " 12   3.29157(59)e-34 3.29200(15)e-34     1.07     0.13\n",
      " 13   3.29175(50)e-34 3.29198(14)e-34     1.05     0.18\n",
      " 14   3.29234(51)e-34 3.29201(14)e-34     1.08     0.07\n",
      " 15   3.29201(59)e-34 3.29200(13)e-34     1.12     0.01\n",
      " 16   3.29177(54)e-34 3.29198(13)e-34     1.09     0.05\n",
      " 17   3.29216(60)e-34 3.29199(12)e-34     1.24     0.00\n",
      " 18   3.29097(62)e-34 3.29195(12)e-34     1.03     0.29\n",
      " 19   3.29146(56)e-34 3.29193(12)e-34     1.02     0.32\n",
      " 20   3.29157(53)e-34 3.29191(12)e-34     1.02     0.33\n",
      "\n",
      "   I = 3.29191(12)e-34\n",
      "dI/I = [0.055740(79) 0.05798(11) 0.05756(12) 0.05717(12) 0.05618(12) 0.05446(13)\n",
      " 0.05315(13) 0.05113(13) 0.04886(12) 0.04667(12) 0.04444(12) 0.04176(11)\n",
      " 0.03896(11) 0.03674(11) 0.03416(11) 0.03133(10) 0.02899(10) 0.026297(98)\n",
      " 0.023928(95) 0.021758(91) 0.019434(88) 0.017217(84) 0.015557(80)\n",
      " 0.013467(76) 0.011698(72) 0.010230(68) 0.008650(65) 0.007419(60)\n",
      " 0.006166(56) 0.005140(51) 0.004206(46) 0.003422(41) 0.002685(36)\n",
      " 0.002075(31) 0.001597(28) 0.001188(23) 0.000851(18) 0.000620(15)\n",
      " 0.000438(12) 0.0002797(79) 0.0001918(66) 0.0001121(48) 0.0000494(28)\n",
      " 0.0000277(23) 9.2(1.1)e-06 2.15(43)e-06 1.29(86)e-08 8.9(4.0)e-09\n",
      " 9.1(5.7)e-10]\n",
      "check: 3.29191(12)e-34\n"
     ]
    }
   ],
   "source": [
    "##########\n",
    "# integration evaluations\n",
    "rates.NEVALwarmup = 1e5\n",
    "rates.NEVAL = 1e5\n",
    "\n",
    "###########\n",
    "# NU FLUX\n",
    "fluxfile = \"fluxes/b8spectrum.txt\"\n",
    "flux, flux3h, flux3l = fluxes.get_neutrino_flux(fluxfile, get_3sigma=True)\n",
    "\n",
    "############\n",
    "# NUE/BAR XS\n",
    "xsfile=\"xsecs/IBD_160106169/TCS_CC_anue_p_1026_SV.txt\"\n",
    "xsec = lambda x : np.zeros(np.size(x)) \n",
    "xsecbar = lambda x: np.ones(np.size(x))*1e-38\n",
    "\n",
    "bins = np.linspace(0.0,14.5,50)\n",
    "dx = (bins[1:] - bins[:-1])\n",
    "bin_c = bins[:-1] + dx/2.0\n",
    "\n",
    "#############\n",
    "# efficiencies\n",
    "enu_eff= bins\n",
    "eff= np.ones((np.size(bins)-1))\n",
    "identity = lambda x : x\n",
    "\n",
    "############\n",
    "# DECAY MODEL PARAMETERS\n",
    "params = model.decay_model_params(const.SCALAR)\n",
    "params.gx = 1.0\n",
    "params.Ue4 = np.sqrt(0.01)\n",
    "params.Umu4 = np.sqrt(0.001)*0\n",
    "params.UD4 = np.sqrt(1.0-params.Ue4*params.Ue4-params.Umu4*params.Umu4)\n",
    "params.m4 = 300e-9 # GeV\n",
    "\n",
    "params.mBOSON  = 0.9*params.m4 # GeV\n",
    "NCASCADE, dNCASCADE = rates.RATES_dN_HNL_CASCADE_NU_NUBAR(\\\n",
    "                                            flux=flux,\\\n",
    "                                            xsec=xsec,\\\n",
    "                                            xsecbar=xsecbar,\\\n",
    "                                            dim=3,\\\n",
    "                                            enumin=0,\\\n",
    "                                            enumax=const.Enu_END_OF_SPECTRUM,\\\n",
    "                                            params=params,\\\n",
    "                                            bins=bins,\\\n",
    "                                            PRINT=True,\\\n",
    "                                            enu_eff=enu_eff,\\\n",
    "                                            eff=eff,\n",
    "                                            smearing_function=identity)\n"
   ]
  },
  {
   "cell_type": "code",
   "execution_count": 5,
   "id": "reported-cursor",
   "metadata": {},
   "outputs": [],
   "source": [
    "############\n",
    "# NUE/BAR XS\n",
    "xsfile=\"xsecs/IBD_160106169/TCS_CC_anue_p_1026_SV.txt\"\n",
    "xsecSV = xsecs.get_IBD(xsfile)\n",
    "\n",
    "xsec_nuebar_ES = xsecs.get_nuES(pdg.PDG_nuebar)\n",
    "xsec_nue_ES = xsecs.get_nuES(pdg.PDG_nue)"
   ]
  },
  {
   "cell_type": "code",
   "execution_count": 19,
   "id": "stupid-retention",
   "metadata": {},
   "outputs": [
    {
     "name": "stderr",
     "output_type": "stream",
     "text": [
      "/Users/matheushostert/Repos/solar-neutrino-visible-decays/source/xsecs.py:55: RuntimeWarning: divide by zero encountered in true_divide\n",
      "  return units*prefactor*((CL**2+CR**2)*(t1-T0) - CR**2/E*(t1**2 - T0**2) + CR**2/3/E/E*(t1**3 - T0**3) - CL*CR*const.Me*(t1**2-T0**2)/2/E/E)\n",
      "/Users/matheushostert/Repos/solar-neutrino-visible-decays/source/xsecs.py:55: RuntimeWarning: invalid value encountered in multiply\n",
      "  return units*prefactor*((CL**2+CR**2)*(t1-T0) - CR**2/E*(t1**2 - T0**2) + CR**2/3/E/E*(t1**3 - T0**3) - CL*CR*const.Me*(t1**2-T0**2)/2/E/E)\n",
      "/Users/matheushostert/Repos/solar-neutrino-visible-decays/source/xsecs.py:55: RuntimeWarning: invalid value encountered in true_divide\n",
      "  return units*prefactor*((CL**2+CR**2)*(t1-T0) - CR**2/E*(t1**2 - T0**2) + CR**2/3/E/E*(t1**3 - T0**3) - CL*CR*const.Me*(t1**2-T0**2)/2/E/E)\n",
      "/Users/matheushostert/Repos/solar-neutrino-visible-decays/source/xsecs.py:55: RuntimeWarning: divide by zero encountered in true_divide\n",
      "  return units*prefactor*((CL**2+CR**2)*(t1-T0) - CR**2/E*(t1**2 - T0**2) + CR**2/3/E/E*(t1**3 - T0**3) - CL*CR*const.Me*(t1**2-T0**2)/2/E/E)\n",
      "/Users/matheushostert/Repos/solar-neutrino-visible-decays/source/xsecs.py:55: RuntimeWarning: invalid value encountered in multiply\n",
      "  return units*prefactor*((CL**2+CR**2)*(t1-T0) - CR**2/E*(t1**2 - T0**2) + CR**2/3/E/E*(t1**3 - T0**3) - CL*CR*const.Me*(t1**2-T0**2)/2/E/E)\n",
      "/Users/matheushostert/Repos/solar-neutrino-visible-decays/source/xsecs.py:55: RuntimeWarning: invalid value encountered in true_divide\n",
      "  return units*prefactor*((CL**2+CR**2)*(t1-T0) - CR**2/E*(t1**2 - T0**2) + CR**2/3/E/E*(t1**3 - T0**3) - CL*CR*const.Me*(t1**2-T0**2)/2/E/E)\n",
      "No handles with labels found to put in legend.\n"
     ]
    },
    {
     "name": "stdout",
     "output_type": "stream",
     "text": [
      "[1.83492524e-35 1.90875116e-35 1.89492668e-35 1.88209527e-35\n",
      " 1.84933227e-35 1.79289527e-35 1.74980869e-35 1.68326540e-35\n",
      " 1.60843111e-35 1.53623210e-35 1.46296380e-35 1.37457692e-35\n",
      " 1.28247642e-35 1.20939318e-35 1.12444756e-35 1.03130389e-35\n",
      " 9.54255460e-36 8.65689893e-36 7.87700581e-36 7.16255931e-36\n",
      " 6.39740225e-36 5.66759630e-36 5.12108409e-36 4.43310234e-36\n",
      " 3.85088106e-36 3.36766699e-36 2.84745736e-36 2.44230447e-36\n",
      " 2.02974564e-36 1.69206825e-36 1.38466312e-36 1.12654718e-36\n",
      " 8.83795447e-37 6.83141806e-37 5.25761676e-37 3.91210447e-37\n",
      " 2.79995617e-37 2.04055075e-37 1.44221942e-37 9.20862082e-38\n",
      " 6.31261407e-38 3.69174465e-38 1.62681784e-38 9.11932792e-39\n",
      " 3.01687718e-39 7.09310462e-40 4.25362420e-42 2.92001625e-42\n",
      " 3.00636639e-43]\n"
     ]
    },
    {
     "name": "stderr",
     "output_type": "stream",
     "text": [
      "<ipython-input-19-aa79592e167d>:71: MatplotlibDeprecationWarning: savefig() got unexpected keyword argument \"rasterized\" which is no longer supported as of 3.3 and will become an error two minor releases later\n",
      "  fig.savefig('plots/Spectrum_'+boson_file+'_%.0f_MB_%.0f.pdf'%(params.m4*1e9,params.mBOSON*1e9),rasterized=True)\n"
     ]
    },
    {
     "data": {
      "image/png": "[encoded data removed]",
      "text/plain": [
       "<Figure size 319.68x238.059 with 2 Axes>"
      ]
     },
     "metadata": {
      "needs_background": "light"
     },
     "output_type": "display_data"
    }
   ],
   "source": [
    "################################################################\n",
    "# PLOTTING THE EVENT RATES \n",
    "fsize=11\n",
    "rc('text', usetex=True)\n",
    "rcparams={'axes.labelsize':fsize,'xtick.labelsize':fsize,'ytick.labelsize':fsize,\\\n",
    "\t\t\t\t'figure.figsize':(1.2*3.7,1.4*2.3617)\t}\n",
    "rc('font',**{'family':'serif', 'serif': ['computer modern roman']})\n",
    "matplotlib.rcParams['hatch.linewidth'] = 0.1  # previous pdf hatch linewidth\n",
    "rcParams.update(rcparams)\n",
    "axes_form  = [0.15,0.15,0.66,0.75]\n",
    "\n",
    "################\n",
    "# FIGURE 2 axes\n",
    "fig = plt.figure()\n",
    "ax = fig.add_axes(axes_form)\n",
    "ax2 = ax.twinx()\n",
    "ax2.set_zorder(ax.get_zorder() + 1)\n",
    "ax2.patch.set_visible(False)\n",
    "\n",
    "\n",
    "E = np.linspace(0.000,16,1000)\n",
    "\n",
    "################\n",
    "# PLOT FLUXES\n",
    "ax.fill_between(E, flux(E),flux(E)/np.max(flux(E))*0, facecolor='orange', edgecolor='None', alpha=0.6)\n",
    "ax.plot(E, flux(E), color='black',lw=0.7, linestyle='-')\n",
    "\n",
    "print(dNCASCADE)\n",
    "ax.fill_between(bin_c-dx/2.0, dNCASCADE/dx*1e38, dNCASCADE/dNCASCADE, facecolor='darkgrey',edgecolor='None',lw=0.5, linestyle='-',alpha=0.8)\n",
    "ax.plot(bin_c-dx/2.0, dNCASCADE/dx*1e38, color='black',lw=0.7, linestyle='-')\n",
    "\n",
    "################\n",
    "# PLOT XSEC\n",
    "ax2.plot(E, xsecSV(E), color='dodgerblue',lw=1)\n",
    "ax2.plot(E, xsec_nue_ES(E), color='green',lw=1, dashes=(2,1))\n",
    "ax2.plot(E, xsec_nuebar_ES(E), color='purple',lw=1, dashes=(6,1))\n",
    "\n",
    "\n",
    "##############\n",
    "# STYLE\n",
    "##############\n",
    "ax.set_yscale('log')\n",
    "ax2.set_yscale('log')\n",
    "\n",
    "# LABELS\n",
    "ax2.text(12,1.5e-41,r'$\\sigma_{\\rm IBD}$',color='dodgerblue', rotation=13\t, fontsize=11)\n",
    "ax2.text(12.3,1.7e-43,r'$\\sigma_{\\nu_e - e}$',color='darkgreen', rotation=5, fontsize=11)\n",
    "ax2.text(12.5,2.3e-44,r'$\\sigma_{\\overline{\\nu_e} - e}$',color='purple', rotation=5, fontsize=11)\n",
    "ax.text(2,1e6,r'$\\frac{{\\rm d} \\Phi^{\\nu_e}}{{\\rm d} E_\\nu}  (^8{\\rm B})$',color='black', rotation=0, fontsize=10)\n",
    "ax.text(7.5,2e1,r'$\\frac{{\\rm d} \\Phi^{\\overline{\\nu_e}}}{{\\rm d} E_\\nu}$({\\small decay})',color='black', rotation=0, fontsize=10)\n",
    "\n",
    "# title\n",
    "if params.model == const.VECTOR:\n",
    "    boson_string = r'$m_{Z^\\prime}$'\n",
    "    boson_file = 'vector'\n",
    "elif params.model == const.SCALAR:\n",
    "    boson_string = r'$m_\\phi$'\n",
    "    boson_file = 'scalar'\n",
    "\n",
    "UEQSR = plot_tools.to_scientific_notation(params.Ue4**2)\n",
    "ax.legend(loc='lower left',frameon=False,ncol=1,markerfirst=True)\n",
    "ax.set_title(r'$m_4 = %.0f$ eV, '%(params.m4*1e9)+boson_string+r'$/m_4 = %.1f$,\\, $|U_{e 4}|^2 = \\,$'%(params.mBOSON/params.m4)+UEQSR, fontsize=9)\n",
    "\n",
    "ax.set_xlim(np.min(E),np.max(E))\n",
    "ax.set_ylim(1e1, const.B8FLUX_B16)\n",
    "ax2.set_ylim(1e-45, 1e-40)\n",
    "\n",
    "ax.set_ylabel(r'$\\frac{{\\rm d}\\Phi}{{\\rm d}E_\\nu}$ \\big[cm$^{-2}$ s$^{-1}$ MeV$^{-1}$\\big]')\n",
    "ax2.set_ylabel(r'$\\sigma$ [cm$^2$]')\n",
    "ax.set_xlabel(r'$E_\\nu$ [MeV]')\n",
    "fig.savefig('plots/Spectrum_'+boson_file+'_%.0f_MB_%.0f.pdf'%(params.m4*1e9,params.mBOSON*1e9),rasterized=True)"
   ]
  },
  {
   "cell_type": "code",
   "execution_count": null,
   "id": "regulated-immigration",
   "metadata": {},
   "outputs": [],
   "source": []
  }
 ],
 "metadata": {
  "kernelspec": {
   "display_name": "Python 3",
   "language": "python",
   "name": "python3"
  },
  "language_info": {
   "codemirror_mode": {
    "name": "ipython",
    "version": 3
   },
   "file_extension": ".py",
   "mimetype": "text/x-python",
   "name": "python",
   "nbconvert_exporter": "python",
   "pygments_lexer": "ipython3",
   "version": "3.9.5"
  }
 },
 "nbformat": 4,
 "nbformat_minor": 5
}
