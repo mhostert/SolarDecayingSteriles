{
 "cells": [
  {
   "cell_type": "markdown",
   "id": "atmospheric-accommodation",
   "metadata": {},
   "source": [
    "## IBD spectra for different experiments\n",
    "\n",
    "This notebook plots the IBD spectra for Borexino, SK-IV, and KamLAND.\n",
    "\n",
    "https://github.com/mhostert/solar-neutrino-visible-decays"
   ]
  },
  {
   "cell_type": "code",
   "execution_count": 1,
   "id": "correct-aggregate",
   "metadata": {},
   "outputs": [],
   "source": [
    "%load_ext autoreload\n",
    "%autoreload 2"
   ]
  },
  {
   "cell_type": "code",
   "execution_count": 2,
   "id": "devoted-ancient",
   "metadata": {},
   "outputs": [],
   "source": [
    "import numpy as np\n",
    "import matplotlib \n",
    "import matplotlib.pyplot as plt\n",
    "from matplotlib import rc, rcParams\n",
    "from matplotlib.pyplot import *\n",
    "from matplotlib.legend_handler import HandlerLine2D\n",
    "\n",
    "import vegas\n",
    "import gvar as gv\n",
    "\n",
    "from source import *"
   ]
  },
  {
   "cell_type": "code",
   "execution_count": 14,
   "id": "organizational-petroleum",
   "metadata": {},
   "outputs": [],
   "source": [
    "############\n",
    "# DECAY MODEL PARAMETERS\n",
    "params = model.decay_model_params(const.SCALAR)\n",
    "params.gx\t\t= 1.0\n",
    "params.Ue4\t\t= np.sqrt(2e-2)\n",
    "params.Umu4\t\t= np.sqrt(1e-3)\n",
    "params.Utau4\t= np.sqrt(1e-3)*0\n",
    "params.UD4\t\t= np.sqrt(1.0-params.Ue4*params.Ue4-params.Umu4*params.Umu4)\n",
    "params.m4\t\t= 300e-9 # GeV\n",
    "# params.mBOSON   = 0.1*params.m4 # GeV\n",
    "\n",
    "fluxfile = \"fluxes/b8spectrum.txt\"\n",
    "xsfile=\"xsecs/IBD_160106169/TCS_CC_anue_p_1026_SV.txt\""
   ]
  },
  {
   "cell_type": "code",
   "execution_count": 4,
   "id": "failing-spare",
   "metadata": {},
   "outputs": [],
   "source": [
    "############\n",
    "# NUMU FLUX\n",
    "flux = fluxes.get_neutrino_flux(fluxfile)\n",
    "############\n",
    "# NUE/BAR XS\n",
    "xsec = lambda x : np.zeros(np.size(x)) \n",
    "xsecbar = xsecs.get_IBD(xsfile)\n",
    "exp = exps.borexino_limit()\n",
    "expdata = exps.borexino_data()"
   ]
  },
  {
   "cell_type": "code",
   "execution_count": 5,
   "id": "significant-conspiracy",
   "metadata": {},
   "outputs": [],
   "source": [
    "rates.NEVALwarmup = 5e3\n",
    "rates.NEVAL = 1e5"
   ]
  },
  {
   "cell_type": "markdown",
   "id": "alpha-injury",
   "metadata": {},
   "source": [
    "### BOREXINO\n"
   ]
  },
  {
   "cell_type": "code",
   "execution_count": 6,
   "id": "solid-stockholm",
   "metadata": {},
   "outputs": [
    {
     "name": "stdout",
     "output_type": "stream",
     "text": [
      "Filling the bins in borexino\n",
      "Filling the bins in borexino\n",
      "Filling the bins in borexino\n"
     ]
    }
   ],
   "source": [
    "params.mBOSON  = 0.1*params.m4 # GeV\n",
    "_ = spectrum_plots.borexino(params,fluxfile,xsfile)\n",
    "\n",
    "params.mBOSON  = 0.5*params.m4 # GeV\n",
    "_ = spectrum_plots.borexino(params,fluxfile,xsfile)\n",
    "\n",
    "params.mBOSON  = 0.9*params.m4 # GeV\n",
    "_ = spectrum_plots.borexino(params,fluxfile,xsfile)"
   ]
  },
  {
   "cell_type": "markdown",
   "id": "drawn-lawyer",
   "metadata": {},
   "source": [
    "### KamLAND 2011"
   ]
  },
  {
   "cell_type": "code",
   "execution_count": 11,
   "id": "caroline-mileage",
   "metadata": {},
   "outputs": [
    {
     "name": "stdout",
     "output_type": "stream",
     "text": [
      "Filling the bins in kamland\n",
      "Filling the bins in kamland\n",
      "Filling the bins in kamland\n"
     ]
    }
   ],
   "source": [
    "params.mBOSON  = 0.1*params.m4 # GeV\n",
    "_ = spectrum_plots.kamland(params,fluxfile,xsfile)\n",
    "\n",
    "params.mBOSON  = 0.5*params.m4 # GeV\n",
    "_ = spectrum_plots.kamland(params,fluxfile,xsfile)\n",
    "\n",
    "params.mBOSON  = 0.9*params.m4 # GeV\n",
    "_ = spectrum_plots.kamland(params,fluxfile,xsfile)"
   ]
  },
  {
   "cell_type": "markdown",
   "id": "addressed-dairy",
   "metadata": {},
   "source": [
    "### Kamland 2021"
   ]
  },
  {
   "cell_type": "code",
   "execution_count": 18,
   "id": "sticky-orbit",
   "metadata": {},
   "outputs": [
    {
     "name": "stdout",
     "output_type": "stream",
     "text": [
      "Filling the bins in kamland21\n",
      "Filling the bins in kamland21\n",
      "Filling the bins in kamland21\n"
     ]
    }
   ],
   "source": [
    "params.mBOSON  = 0.1*params.m4 # GeV\n",
    "_ = spectrum_plots.kamland_21(params,fluxfile,xsfile)\n",
    "\n",
    "params.mBOSON  = 0.5*params.m4 # GeV\n",
    "_ = spectrum_plots.kamland_21(params,fluxfile,xsfile)\n",
    "\n",
    "params.mBOSON  = 0.9*params.m4 # GeV\n",
    "_ = spectrum_plots.kamland_21(params,fluxfile,xsfile)"
   ]
  },
  {
   "cell_type": "markdown",
   "id": "fitting-worker",
   "metadata": {},
   "source": [
    "### SuperK IV -- outdated"
   ]
  },
  {
   "cell_type": "code",
   "execution_count": 13,
   "id": "substantial-providence",
   "metadata": {},
   "outputs": [
    {
     "name": "stdout",
     "output_type": "stream",
     "text": [
      "Filling the bins in SUPERK_IV_DEPRECATED\n",
      "Filling the bins in SUPERK_IV_DEPRECATED\n",
      "Filling the bins in SUPERK_IV_DEPRECATED\n"
     ]
    }
   ],
   "source": [
    "params.mBOSON  = 0.1*params.m4 # GeV\n",
    "_ = spectrum_plots.superk_outdated(params,fluxfile,xsfile)\n",
    "params.mBOSON  = 0.5*params.m4 # GeV\n",
    "_ = spectrum_plots.superk_outdated(params,fluxfile,xsfile)\n",
    "params.mBOSON  = 0.9*params.m4 # GeV\n",
    "_ = spectrum_plots.superk_outdated(params,fluxfile,xsfile)\n"
   ]
  },
  {
   "cell_type": "markdown",
   "id": "classified-bidding",
   "metadata": {},
   "source": [
    "### SuperK IV -- new"
   ]
  },
  {
   "cell_type": "code",
   "execution_count": 17,
   "id": "abstract-dodge",
   "metadata": {},
   "outputs": [
    {
     "name": "stdout",
     "output_type": "stream",
     "text": [
      "Filling the bins in SUPERK_IV\n",
      "Filling the bins in SUPERK_IV\n",
      "Filling the bins in SUPERK_IV\n"
     ]
    }
   ],
   "source": [
    "params.mBOSON  = 0.1*params.m4 # GeV\n",
    "_ = spectrum_plots.superk(params, fluxfile, xsfile)\n",
    "params.mBOSON  = 0.5*params.m4 # GeV\n",
    "_ = spectrum_plots.superk(params, fluxfile, xsfile)\n",
    "params.mBOSON  = 0.9*params.m4 # GeV\n",
    "_ = spectrum_plots.superk(params, fluxfile, xsfile)\n"
   ]
  },
  {
   "cell_type": "code",
   "execution_count": null,
   "id": "innovative-commitment",
   "metadata": {},
   "outputs": [],
   "source": []
  }
 ],
 "metadata": {
  "kernelspec": {
   "display_name": "Python 3",
   "language": "python",
   "name": "python3"
  },
  "language_info": {
   "codemirror_mode": {
    "name": "ipython",
    "version": 3
   },
   "file_extension": ".py",
   "mimetype": "text/x-python",
   "name": "python",
   "nbconvert_exporter": "python",
   "pygments_lexer": "ipython3",
   "version": "3.9.5"
  }
 },
 "nbformat": 4,
 "nbformat_minor": 5
}
